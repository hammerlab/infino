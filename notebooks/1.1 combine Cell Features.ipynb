{
 "cells": [
  {
   "cell_type": "markdown",
   "metadata": {},
   "source": [
    "Ideally cell features will someday be part of rinfino\n",
    "\n",
    "At that point we'll put this code in a merge method for cell features, just like we merge expression and sampleinfo today\n",
    "\n",
    "But for now we can combine like this"
   ]
  },
  {
   "cell_type": "code",
   "execution_count": null,
   "metadata": {},
   "outputs": [],
   "source": [
    "library(dplyr)"
   ]
  },
  {
   "cell_type": "code",
   "execution_count": 1,
   "metadata": {
    "ExecuteTime": {
     "end_time": "2018-01-11T06:14:29.130227Z",
     "start_time": "2018-01-11T06:14:29.097Z"
    }
   },
   "outputs": [],
   "source": [
    "# preserves column names (don't map - to .)\n",
    "df1 = read.csv('../data/singleorigin.cellfeatures.tsv', sep='\\t', check.names=F)\n",
    "df2 = read.csv('../data/rcctils.cellfeatures.tsv', sep='\\t', check.names=F)"
   ]
  },
  {
   "cell_type": "code",
   "execution_count": 2,
   "metadata": {
    "ExecuteTime": {
     "end_time": "2018-01-11T06:14:29.694186Z",
     "start_time": "2018-01-11T06:14:29.673Z"
    }
   },
   "outputs": [],
   "source": [
    "# make sure first column (celltype) is named the same thing\n",
    "names(df1)[1] = 'celltype'\n",
    "names(df2)[1] = 'celltype'"
   ]
  },
  {
   "cell_type": "code",
   "execution_count": 3,
   "metadata": {
    "ExecuteTime": {
     "end_time": "2018-01-11T06:14:30.258827Z",
     "start_time": "2018-01-11T06:14:30.138Z"
    }
   },
   "outputs": [
    {
     "data": {
      "text/html": [
       "<table>\n",
       "<thead><tr><th scope=col>celltype</th><th scope=col>CCR6+</th><th scope=col>CCR7+</th><th scope=col>CCR7-</th><th scope=col>CD127-</th><th scope=col>CD161+</th><th scope=col>CD19+</th><th scope=col>CD25+</th><th scope=col>CD27+</th><th scope=col>CD27-</th><th scope=col>⋯</th><th scope=col>CD45RA+</th><th scope=col>CD45RA-</th><th scope=col>CD45RO+</th><th scope=col>CD45RO-</th><th scope=col>CD5+</th><th scope=col>CD5-</th><th scope=col>CD8+</th><th scope=col>CRTH2+</th><th scope=col>CXCR3+</th><th scope=col>CXCR3-</th></tr></thead>\n",
       "<tbody>\n",
       "\t<tr><td>CD4_Th2     </td><td>0           </td><td>0           </td><td>0           </td><td>0           </td><td>0           </td><td>0           </td><td>0           </td><td>0           </td><td>0           </td><td>⋯           </td><td>0           </td><td>0           </td><td>0           </td><td>0           </td><td>0           </td><td>0           </td><td>0           </td><td>1           </td><td>0           </td><td>1           </td></tr>\n",
       "\t<tr><td>CD8_Effector</td><td>0           </td><td>0           </td><td>1           </td><td>0           </td><td>0           </td><td>0           </td><td>0           </td><td>0           </td><td>0           </td><td>⋯           </td><td>0           </td><td>1           </td><td>1           </td><td>0           </td><td>0           </td><td>0           </td><td>1           </td><td>0           </td><td>0           </td><td>0           </td></tr>\n",
       "\t<tr><td>B_CD5       </td><td>0           </td><td>0           </td><td>0           </td><td>0           </td><td>0           </td><td>1           </td><td>0           </td><td>0           </td><td>0           </td><td>⋯           </td><td>0           </td><td>0           </td><td>0           </td><td>0           </td><td>1           </td><td>0           </td><td>0           </td><td>0           </td><td>0           </td><td>0           </td></tr>\n",
       "\t<tr><td>B_Memory    </td><td>0           </td><td>0           </td><td>0           </td><td>0           </td><td>0           </td><td>1           </td><td>0           </td><td>1           </td><td>0           </td><td>⋯           </td><td>0           </td><td>0           </td><td>0           </td><td>0           </td><td>0           </td><td>1           </td><td>0           </td><td>0           </td><td>0           </td><td>0           </td></tr>\n",
       "\t<tr><td>CD4_Th1     </td><td>0           </td><td>0           </td><td>0           </td><td>0           </td><td>0           </td><td>0           </td><td>0           </td><td>0           </td><td>0           </td><td>⋯           </td><td>0           </td><td>0           </td><td>0           </td><td>0           </td><td>0           </td><td>0           </td><td>0           </td><td>0           </td><td>1           </td><td>0           </td></tr>\n",
       "\t<tr><td>CD4_Naive   </td><td>0           </td><td>1           </td><td>0           </td><td>0           </td><td>0           </td><td>0           </td><td>0           </td><td>0           </td><td>0           </td><td>⋯           </td><td>1           </td><td>0           </td><td>0           </td><td>1           </td><td>0           </td><td>0           </td><td>0           </td><td>0           </td><td>0           </td><td>0           </td></tr>\n",
       "</tbody>\n",
       "</table>\n"
      ],
      "text/latex": [
       "\\begin{tabular}{r|lllllllllllllllllllll}\n",
       " celltype & CCR6+ & CCR7+ & CCR7- & CD127- & CD161+ & CD19+ & CD25+ & CD27+ & CD27- & ⋯ & CD45RA+ & CD45RA- & CD45RO+ & CD45RO- & CD5+ & CD5- & CD8+ & CRTH2+ & CXCR3+ & CXCR3-\\\\\n",
       "\\hline\n",
       "\t CD4\\_Th2      & 0              & 0              & 0              & 0              & 0              & 0              & 0              & 0              & 0              & ⋯              & 0              & 0              & 0              & 0              & 0              & 0              & 0              & 1              & 0              & 1             \\\\\n",
       "\t CD8\\_Effector & 0              & 0              & 1              & 0              & 0              & 0              & 0              & 0              & 0              & ⋯              & 0              & 1              & 1              & 0              & 0              & 0              & 1              & 0              & 0              & 0             \\\\\n",
       "\t B\\_CD5        & 0              & 0              & 0              & 0              & 0              & 1              & 0              & 0              & 0              & ⋯              & 0              & 0              & 0              & 0              & 1              & 0              & 0              & 0              & 0              & 0             \\\\\n",
       "\t B\\_Memory     & 0              & 0              & 0              & 0              & 0              & 1              & 0              & 1              & 0              & ⋯              & 0              & 0              & 0              & 0              & 0              & 1              & 0              & 0              & 0              & 0             \\\\\n",
       "\t CD4\\_Th1      & 0              & 0              & 0              & 0              & 0              & 0              & 0              & 0              & 0              & ⋯              & 0              & 0              & 0              & 0              & 0              & 0              & 0              & 0              & 1              & 0             \\\\\n",
       "\t CD4\\_Naive    & 0              & 1              & 0              & 0              & 0              & 0              & 0              & 0              & 0              & ⋯              & 1              & 0              & 0              & 1              & 0              & 0              & 0              & 0              & 0              & 0             \\\\\n",
       "\\end{tabular}\n"
      ],
      "text/markdown": [
       "\n",
       "celltype | CCR6+ | CCR7+ | CCR7- | CD127- | CD161+ | CD19+ | CD25+ | CD27+ | CD27- | ⋯ | CD45RA+ | CD45RA- | CD45RO+ | CD45RO- | CD5+ | CD5- | CD8+ | CRTH2+ | CXCR3+ | CXCR3- | \n",
       "|---|---|---|---|---|---|\n",
       "| CD4_Th2      | 0            | 0            | 0            | 0            | 0            | 0            | 0            | 0            | 0            | ⋯            | 0            | 0            | 0            | 0            | 0            | 0            | 0            | 1            | 0            | 1            | \n",
       "| CD8_Effector | 0            | 0            | 1            | 0            | 0            | 0            | 0            | 0            | 0            | ⋯            | 0            | 1            | 1            | 0            | 0            | 0            | 1            | 0            | 0            | 0            | \n",
       "| B_CD5        | 0            | 0            | 0            | 0            | 0            | 1            | 0            | 0            | 0            | ⋯            | 0            | 0            | 0            | 0            | 1            | 0            | 0            | 0            | 0            | 0            | \n",
       "| B_Memory     | 0            | 0            | 0            | 0            | 0            | 1            | 0            | 1            | 0            | ⋯            | 0            | 0            | 0            | 0            | 0            | 1            | 0            | 0            | 0            | 0            | \n",
       "| CD4_Th1      | 0            | 0            | 0            | 0            | 0            | 0            | 0            | 0            | 0            | ⋯            | 0            | 0            | 0            | 0            | 0            | 0            | 0            | 0            | 1            | 0            | \n",
       "| CD4_Naive    | 0            | 1            | 0            | 0            | 0            | 0            | 0            | 0            | 0            | ⋯            | 1            | 0            | 0            | 1            | 0            | 0            | 0            | 0            | 0            | 0            | \n",
       "\n",
       "\n"
      ],
      "text/plain": [
       "  celltype     CCR6+ CCR7+ CCR7- CD127- CD161+ CD19+ CD25+ CD27+ CD27- ⋯\n",
       "1 CD4_Th2      0     0     0     0      0      0     0     0     0     ⋯\n",
       "2 CD8_Effector 0     0     1     0      0      0     0     0     0     ⋯\n",
       "3 B_CD5        0     0     0     0      0      1     0     0     0     ⋯\n",
       "4 B_Memory     0     0     0     0      0      1     0     1     0     ⋯\n",
       "5 CD4_Th1      0     0     0     0      0      0     0     0     0     ⋯\n",
       "6 CD4_Naive    0     1     0     0      0      0     0     0     0     ⋯\n",
       "  CD45RA+ CD45RA- CD45RO+ CD45RO- CD5+ CD5- CD8+ CRTH2+ CXCR3+ CXCR3-\n",
       "1 0       0       0       0       0    0    0    1      0      1     \n",
       "2 0       1       1       0       0    0    1    0      0      0     \n",
       "3 0       0       0       0       1    0    0    0      0      0     \n",
       "4 0       0       0       0       0    1    0    0      0      0     \n",
       "5 0       0       0       0       0    0    0    0      1      0     \n",
       "6 1       0       0       1       0    0    0    0      0      0     "
      ]
     },
     "metadata": {},
     "output_type": "display_data"
    }
   ],
   "source": [
    "head(df1)"
   ]
  },
  {
   "cell_type": "code",
   "execution_count": 4,
   "metadata": {
    "ExecuteTime": {
     "end_time": "2018-01-11T06:14:31.183246Z",
     "start_time": "2018-01-11T06:14:30.910Z"
    }
   },
   "outputs": [
    {
     "name": "stderr",
     "output_type": "stream",
     "text": [
      "Warning message in bind_rows_(x, .id):\n",
      "“Unequal factor levels: coercing to character”Warning message in bind_rows_(x, .id):\n",
      "“binding character and factor vector, coercing into character vector”Warning message in bind_rows_(x, .id):\n",
      "“binding character and factor vector, coercing into character vector”"
     ]
    },
    {
     "data": {
      "text/html": [
       "<table>\n",
       "<thead><tr><th scope=col>celltype</th><th scope=col>CCR6+</th><th scope=col>CCR7+</th><th scope=col>CCR7-</th><th scope=col>CD127-</th><th scope=col>CD161+</th><th scope=col>CD19+</th><th scope=col>CD25+</th><th scope=col>CD27+</th><th scope=col>CD27-</th><th scope=col>⋯</th><th scope=col>CD45RO-</th><th scope=col>CD5+</th><th scope=col>CD5-</th><th scope=col>CD8+</th><th scope=col>CRTH2+</th><th scope=col>CXCR3+</th><th scope=col>CXCR3-</th><th scope=col>CD38</th><th scope=col>CD204</th><th scope=col>PD-1</th></tr></thead>\n",
       "<tbody>\n",
       "\t<tr><td>CD4_Th2                </td><td>0                      </td><td>0                      </td><td>0                      </td><td>0                      </td><td>0                      </td><td>0                      </td><td>0                      </td><td>0                      </td><td>0                      </td><td>⋯                      </td><td>0                      </td><td>0                      </td><td>0                      </td><td>0                      </td><td>1                      </td><td>0                      </td><td>1                      </td><td>0                      </td><td>0                      </td><td>0                      </td></tr>\n",
       "\t<tr><td>CD8_Effector           </td><td>0                      </td><td>0                      </td><td>1                      </td><td>0                      </td><td>0                      </td><td>0                      </td><td>0                      </td><td>0                      </td><td>0                      </td><td>⋯                      </td><td>0                      </td><td>0                      </td><td>0                      </td><td>1                      </td><td>0                      </td><td>0                      </td><td>0                      </td><td>0                      </td><td>0                      </td><td>0                      </td></tr>\n",
       "\t<tr><td>B_CD5                  </td><td>0                      </td><td>0                      </td><td>0                      </td><td>0                      </td><td>0                      </td><td>1                      </td><td>0                      </td><td>0                      </td><td>0                      </td><td>⋯                      </td><td>0                      </td><td>1                      </td><td>0                      </td><td>0                      </td><td>0                      </td><td>0                      </td><td>0                      </td><td>0                      </td><td>0                      </td><td>0                      </td></tr>\n",
       "\t<tr><td>B_Memory               </td><td>0                      </td><td>0                      </td><td>0                      </td><td>0                      </td><td>0                      </td><td>1                      </td><td>0                      </td><td>1                      </td><td>0                      </td><td>⋯                      </td><td>0                      </td><td>0                      </td><td>1                      </td><td>0                      </td><td>0                      </td><td>0                      </td><td>0                      </td><td>0                      </td><td>0                      </td><td>0                      </td></tr>\n",
       "\t<tr><td>CD4_Th1                </td><td>0                      </td><td>0                      </td><td>0                      </td><td>0                      </td><td>0                      </td><td>0                      </td><td>0                      </td><td>0                      </td><td>0                      </td><td>⋯                      </td><td>0                      </td><td>0                      </td><td>0                      </td><td>0                      </td><td>0                      </td><td>1                      </td><td>0                      </td><td>0                      </td><td>0                      </td><td>0                      </td></tr>\n",
       "\t<tr><td>CD4_Naive              </td><td>0                      </td><td>1                      </td><td>0                      </td><td>0                      </td><td>0                      </td><td>0                      </td><td>0                      </td><td>0                      </td><td>0                      </td><td>⋯                      </td><td>1                      </td><td>0                      </td><td>0                      </td><td>0                      </td><td>0                      </td><td>0                      </td><td>0                      </td><td>0                      </td><td>0                      </td><td>0                      </td></tr>\n",
       "\t<tr><td>B_Naive                </td><td>0                      </td><td>0                      </td><td>0                      </td><td>0                      </td><td>0                      </td><td>1                      </td><td>0                      </td><td>0                      </td><td>1                      </td><td>⋯                      </td><td>0                      </td><td>0                      </td><td>1                      </td><td>0                      </td><td>0                      </td><td>0                      </td><td>0                      </td><td>0                      </td><td>0                      </td><td>0                      </td></tr>\n",
       "\t<tr><td>CD4_Effector_Memory    </td><td>0                      </td><td>0                      </td><td>1                      </td><td>0                      </td><td>0                      </td><td>0                      </td><td>0                      </td><td>0                      </td><td>0                      </td><td>⋯                      </td><td>0                      </td><td>0                      </td><td>0                      </td><td>0                      </td><td>0                      </td><td>0                      </td><td>0                      </td><td>0                      </td><td>0                      </td><td>0                      </td></tr>\n",
       "\t<tr><td>CD8_Central_Memory     </td><td>0                      </td><td>1                      </td><td>0                      </td><td>0                      </td><td>0                      </td><td>0                      </td><td>0                      </td><td>0                      </td><td>0                      </td><td>⋯                      </td><td>0                      </td><td>0                      </td><td>0                      </td><td>1                      </td><td>0                      </td><td>0                      </td><td>0                      </td><td>0                      </td><td>0                      </td><td>0                      </td></tr>\n",
       "\t<tr><td>CD4_Central_Memory     </td><td>0                      </td><td>1                      </td><td>0                      </td><td>0                      </td><td>0                      </td><td>0                      </td><td>0                      </td><td>0                      </td><td>0                      </td><td>⋯                      </td><td>0                      </td><td>0                      </td><td>0                      </td><td>0                      </td><td>0                      </td><td>0                      </td><td>0                      </td><td>0                      </td><td>0                      </td><td>0                      </td></tr>\n",
       "\t<tr><td>CD4_Treg               </td><td>0                      </td><td>0                      </td><td>0                      </td><td>1                      </td><td>0                      </td><td>0                      </td><td>1                      </td><td>0                      </td><td>0                      </td><td>⋯                      </td><td>0                      </td><td>0                      </td><td>0                      </td><td>0                      </td><td>0                      </td><td>0                      </td><td>0                      </td><td>0                      </td><td>0                      </td><td>0                      </td></tr>\n",
       "\t<tr><td>CD8_Naive              </td><td>0                      </td><td>1                      </td><td>0                      </td><td>0                      </td><td>0                      </td><td>0                      </td><td>0                      </td><td>0                      </td><td>0                      </td><td>⋯                      </td><td>1                      </td><td>0                      </td><td>0                      </td><td>1                      </td><td>0                      </td><td>0                      </td><td>0                      </td><td>0                      </td><td>0                      </td><td>0                      </td></tr>\n",
       "\t<tr><td>CD4_Th17               </td><td>1                      </td><td>0                      </td><td>0                      </td><td>0                      </td><td>1                      </td><td>0                      </td><td>0                      </td><td>0                      </td><td>0                      </td><td>⋯                      </td><td>0                      </td><td>0                      </td><td>0                      </td><td>0                      </td><td>0                      </td><td>0                      </td><td>1                      </td><td>0                      </td><td>0                      </td><td>0                      </td></tr>\n",
       "\t<tr><td>Macrophage CD38- CD204-</td><td>0                      </td><td>0                      </td><td>0                      </td><td>0                      </td><td>0                      </td><td>0                      </td><td>0                      </td><td>0                      </td><td>0                      </td><td>⋯                      </td><td>0                      </td><td>0                      </td><td>0                      </td><td>0                      </td><td>0                      </td><td>0                      </td><td>0                      </td><td>0                      </td><td>0                      </td><td>0                      </td></tr>\n",
       "\t<tr><td>Macrophage CD38+ CD204+</td><td>0                      </td><td>0                      </td><td>0                      </td><td>0                      </td><td>0                      </td><td>0                      </td><td>0                      </td><td>0                      </td><td>0                      </td><td>⋯                      </td><td>0                      </td><td>0                      </td><td>0                      </td><td>0                      </td><td>0                      </td><td>0                      </td><td>0                      </td><td>1                      </td><td>1                      </td><td>0                      </td></tr>\n",
       "\t<tr><td>T PD-1-                </td><td>0                      </td><td>0                      </td><td>0                      </td><td>0                      </td><td>0                      </td><td>0                      </td><td>0                      </td><td>0                      </td><td>0                      </td><td>⋯                      </td><td>0                      </td><td>0                      </td><td>0                      </td><td>0                      </td><td>0                      </td><td>0                      </td><td>0                      </td><td>0                      </td><td>0                      </td><td>0                      </td></tr>\n",
       "\t<tr><td>T PD-1+                </td><td>0                      </td><td>0                      </td><td>0                      </td><td>0                      </td><td>0                      </td><td>0                      </td><td>0                      </td><td>0                      </td><td>0                      </td><td>⋯                      </td><td>0                      </td><td>0                      </td><td>0                      </td><td>0                      </td><td>0                      </td><td>0                      </td><td>0                      </td><td>0                      </td><td>0                      </td><td>1                      </td></tr>\n",
       "</tbody>\n",
       "</table>\n"
      ],
      "text/latex": [
       "\\begin{tabular}{r|llllllllllllllllllllllll}\n",
       " celltype & CCR6+ & CCR7+ & CCR7- & CD127- & CD161+ & CD19+ & CD25+ & CD27+ & CD27- & ⋯ & CD45RO- & CD5+ & CD5- & CD8+ & CRTH2+ & CXCR3+ & CXCR3- & CD38 & CD204 & PD-1\\\\\n",
       "\\hline\n",
       "\t CD4\\_Th2                 & 0                         & 0                         & 0                         & 0                         & 0                         & 0                         & 0                         & 0                         & 0                         & ⋯                         & 0                         & 0                         & 0                         & 0                         & 1                         & 0                         & 1                         & 0                         & 0                         & 0                        \\\\\n",
       "\t CD8\\_Effector            & 0                         & 0                         & 1                         & 0                         & 0                         & 0                         & 0                         & 0                         & 0                         & ⋯                         & 0                         & 0                         & 0                         & 1                         & 0                         & 0                         & 0                         & 0                         & 0                         & 0                        \\\\\n",
       "\t B\\_CD5                   & 0                         & 0                         & 0                         & 0                         & 0                         & 1                         & 0                         & 0                         & 0                         & ⋯                         & 0                         & 1                         & 0                         & 0                         & 0                         & 0                         & 0                         & 0                         & 0                         & 0                        \\\\\n",
       "\t B\\_Memory                & 0                         & 0                         & 0                         & 0                         & 0                         & 1                         & 0                         & 1                         & 0                         & ⋯                         & 0                         & 0                         & 1                         & 0                         & 0                         & 0                         & 0                         & 0                         & 0                         & 0                        \\\\\n",
       "\t CD4\\_Th1                 & 0                         & 0                         & 0                         & 0                         & 0                         & 0                         & 0                         & 0                         & 0                         & ⋯                         & 0                         & 0                         & 0                         & 0                         & 0                         & 1                         & 0                         & 0                         & 0                         & 0                        \\\\\n",
       "\t CD4\\_Naive               & 0                         & 1                         & 0                         & 0                         & 0                         & 0                         & 0                         & 0                         & 0                         & ⋯                         & 1                         & 0                         & 0                         & 0                         & 0                         & 0                         & 0                         & 0                         & 0                         & 0                        \\\\\n",
       "\t B\\_Naive                 & 0                         & 0                         & 0                         & 0                         & 0                         & 1                         & 0                         & 0                         & 1                         & ⋯                         & 0                         & 0                         & 1                         & 0                         & 0                         & 0                         & 0                         & 0                         & 0                         & 0                        \\\\\n",
       "\t CD4\\_Effector\\_Memory     & 0                           & 0                           & 1                           & 0                           & 0                           & 0                           & 0                           & 0                           & 0                           & ⋯                           & 0                           & 0                           & 0                           & 0                           & 0                           & 0                           & 0                           & 0                           & 0                           & 0                          \\\\\n",
       "\t CD8\\_Central\\_Memory      & 0                           & 1                           & 0                           & 0                           & 0                           & 0                           & 0                           & 0                           & 0                           & ⋯                           & 0                           & 0                           & 0                           & 1                           & 0                           & 0                           & 0                           & 0                           & 0                           & 0                          \\\\\n",
       "\t CD4\\_Central\\_Memory      & 0                           & 1                           & 0                           & 0                           & 0                           & 0                           & 0                           & 0                           & 0                           & ⋯                           & 0                           & 0                           & 0                           & 0                           & 0                           & 0                           & 0                           & 0                           & 0                           & 0                          \\\\\n",
       "\t CD4\\_Treg                & 0                         & 0                         & 0                         & 1                         & 0                         & 0                         & 1                         & 0                         & 0                         & ⋯                         & 0                         & 0                         & 0                         & 0                         & 0                         & 0                         & 0                         & 0                         & 0                         & 0                        \\\\\n",
       "\t CD8\\_Naive               & 0                         & 1                         & 0                         & 0                         & 0                         & 0                         & 0                         & 0                         & 0                         & ⋯                         & 1                         & 0                         & 0                         & 1                         & 0                         & 0                         & 0                         & 0                         & 0                         & 0                        \\\\\n",
       "\t CD4\\_Th17                & 1                         & 0                         & 0                         & 0                         & 1                         & 0                         & 0                         & 0                         & 0                         & ⋯                         & 0                         & 0                         & 0                         & 0                         & 0                         & 0                         & 1                         & 0                         & 0                         & 0                        \\\\\n",
       "\t Macrophage CD38- CD204- & 0                       & 0                       & 0                       & 0                       & 0                       & 0                       & 0                       & 0                       & 0                       & ⋯                       & 0                       & 0                       & 0                       & 0                       & 0                       & 0                       & 0                       & 0                       & 0                       & 0                      \\\\\n",
       "\t Macrophage CD38+ CD204+ & 0                       & 0                       & 0                       & 0                       & 0                       & 0                       & 0                       & 0                       & 0                       & ⋯                       & 0                       & 0                       & 0                       & 0                       & 0                       & 0                       & 0                       & 1                       & 1                       & 0                      \\\\\n",
       "\t T PD-1-                 & 0                       & 0                       & 0                       & 0                       & 0                       & 0                       & 0                       & 0                       & 0                       & ⋯                       & 0                       & 0                       & 0                       & 0                       & 0                       & 0                       & 0                       & 0                       & 0                       & 0                      \\\\\n",
       "\t T PD-1+                 & 0                       & 0                       & 0                       & 0                       & 0                       & 0                       & 0                       & 0                       & 0                       & ⋯                       & 0                       & 0                       & 0                       & 0                       & 0                       & 0                       & 0                       & 0                       & 0                       & 1                      \\\\\n",
       "\\end{tabular}\n"
      ],
      "text/markdown": [
       "\n",
       "celltype | CCR6+ | CCR7+ | CCR7- | CD127- | CD161+ | CD19+ | CD25+ | CD27+ | CD27- | ⋯ | CD45RO- | CD5+ | CD5- | CD8+ | CRTH2+ | CXCR3+ | CXCR3- | CD38 | CD204 | PD-1 | \n",
       "|---|---|---|---|---|---|---|---|---|---|---|---|---|---|---|---|---|\n",
       "| CD4_Th2                 | 0                       | 0                       | 0                       | 0                       | 0                       | 0                       | 0                       | 0                       | 0                       | ⋯                       | 0                       | 0                       | 0                       | 0                       | 1                       | 0                       | 1                       | 0                       | 0                       | 0                       | \n",
       "| CD8_Effector            | 0                       | 0                       | 1                       | 0                       | 0                       | 0                       | 0                       | 0                       | 0                       | ⋯                       | 0                       | 0                       | 0                       | 1                       | 0                       | 0                       | 0                       | 0                       | 0                       | 0                       | \n",
       "| B_CD5                   | 0                       | 0                       | 0                       | 0                       | 0                       | 1                       | 0                       | 0                       | 0                       | ⋯                       | 0                       | 1                       | 0                       | 0                       | 0                       | 0                       | 0                       | 0                       | 0                       | 0                       | \n",
       "| B_Memory                | 0                       | 0                       | 0                       | 0                       | 0                       | 1                       | 0                       | 1                       | 0                       | ⋯                       | 0                       | 0                       | 1                       | 0                       | 0                       | 0                       | 0                       | 0                       | 0                       | 0                       | \n",
       "| CD4_Th1                 | 0                       | 0                       | 0                       | 0                       | 0                       | 0                       | 0                       | 0                       | 0                       | ⋯                       | 0                       | 0                       | 0                       | 0                       | 0                       | 1                       | 0                       | 0                       | 0                       | 0                       | \n",
       "| CD4_Naive               | 0                       | 1                       | 0                       | 0                       | 0                       | 0                       | 0                       | 0                       | 0                       | ⋯                       | 1                       | 0                       | 0                       | 0                       | 0                       | 0                       | 0                       | 0                       | 0                       | 0                       | \n",
       "| B_Naive                 | 0                       | 0                       | 0                       | 0                       | 0                       | 1                       | 0                       | 0                       | 1                       | ⋯                       | 0                       | 0                       | 1                       | 0                       | 0                       | 0                       | 0                       | 0                       | 0                       | 0                       | \n",
       "| CD4_Effector_Memory     | 0                       | 0                       | 1                       | 0                       | 0                       | 0                       | 0                       | 0                       | 0                       | ⋯                       | 0                       | 0                       | 0                       | 0                       | 0                       | 0                       | 0                       | 0                       | 0                       | 0                       | \n",
       "| CD8_Central_Memory      | 0                       | 1                       | 0                       | 0                       | 0                       | 0                       | 0                       | 0                       | 0                       | ⋯                       | 0                       | 0                       | 0                       | 1                       | 0                       | 0                       | 0                       | 0                       | 0                       | 0                       | \n",
       "| CD4_Central_Memory      | 0                       | 1                       | 0                       | 0                       | 0                       | 0                       | 0                       | 0                       | 0                       | ⋯                       | 0                       | 0                       | 0                       | 0                       | 0                       | 0                       | 0                       | 0                       | 0                       | 0                       | \n",
       "| CD4_Treg                | 0                       | 0                       | 0                       | 1                       | 0                       | 0                       | 1                       | 0                       | 0                       | ⋯                       | 0                       | 0                       | 0                       | 0                       | 0                       | 0                       | 0                       | 0                       | 0                       | 0                       | \n",
       "| CD8_Naive               | 0                       | 1                       | 0                       | 0                       | 0                       | 0                       | 0                       | 0                       | 0                       | ⋯                       | 1                       | 0                       | 0                       | 1                       | 0                       | 0                       | 0                       | 0                       | 0                       | 0                       | \n",
       "| CD4_Th17                | 1                       | 0                       | 0                       | 0                       | 1                       | 0                       | 0                       | 0                       | 0                       | ⋯                       | 0                       | 0                       | 0                       | 0                       | 0                       | 0                       | 1                       | 0                       | 0                       | 0                       | \n",
       "| Macrophage CD38- CD204- | 0                       | 0                       | 0                       | 0                       | 0                       | 0                       | 0                       | 0                       | 0                       | ⋯                       | 0                       | 0                       | 0                       | 0                       | 0                       | 0                       | 0                       | 0                       | 0                       | 0                       | \n",
       "| Macrophage CD38+ CD204+ | 0                       | 0                       | 0                       | 0                       | 0                       | 0                       | 0                       | 0                       | 0                       | ⋯                       | 0                       | 0                       | 0                       | 0                       | 0                       | 0                       | 0                       | 1                       | 1                       | 0                       | \n",
       "| T PD-1-                 | 0                       | 0                       | 0                       | 0                       | 0                       | 0                       | 0                       | 0                       | 0                       | ⋯                       | 0                       | 0                       | 0                       | 0                       | 0                       | 0                       | 0                       | 0                       | 0                       | 0                       | \n",
       "| T PD-1+                 | 0                       | 0                       | 0                       | 0                       | 0                       | 0                       | 0                       | 0                       | 0                       | ⋯                       | 0                       | 0                       | 0                       | 0                       | 0                       | 0                       | 0                       | 0                       | 0                       | 1                       | \n",
       "\n",
       "\n"
      ],
      "text/plain": [
       "   celltype                CCR6+ CCR7+ CCR7- CD127- CD161+ CD19+ CD25+ CD27+\n",
       "1  CD4_Th2                 0     0     0     0      0      0     0     0    \n",
       "2  CD8_Effector            0     0     1     0      0      0     0     0    \n",
       "3  B_CD5                   0     0     0     0      0      1     0     0    \n",
       "4  B_Memory                0     0     0     0      0      1     0     1    \n",
       "5  CD4_Th1                 0     0     0     0      0      0     0     0    \n",
       "6  CD4_Naive               0     1     0     0      0      0     0     0    \n",
       "7  B_Naive                 0     0     0     0      0      1     0     0    \n",
       "8  CD4_Effector_Memory     0     0     1     0      0      0     0     0    \n",
       "9  CD8_Central_Memory      0     1     0     0      0      0     0     0    \n",
       "10 CD4_Central_Memory      0     1     0     0      0      0     0     0    \n",
       "11 CD4_Treg                0     0     0     1      0      0     1     0    \n",
       "12 CD8_Naive               0     1     0     0      0      0     0     0    \n",
       "13 CD4_Th17                1     0     0     0      1      0     0     0    \n",
       "14 Macrophage CD38- CD204- 0     0     0     0      0      0     0     0    \n",
       "15 Macrophage CD38+ CD204+ 0     0     0     0      0      0     0     0    \n",
       "16 T PD-1-                 0     0     0     0      0      0     0     0    \n",
       "17 T PD-1+                 0     0     0     0      0      0     0     0    \n",
       "   CD27- ⋯ CD45RO- CD5+ CD5- CD8+ CRTH2+ CXCR3+ CXCR3- CD38 CD204 PD-1\n",
       "1  0     ⋯ 0       0    0    0    1      0      1      0    0     0   \n",
       "2  0     ⋯ 0       0    0    1    0      0      0      0    0     0   \n",
       "3  0     ⋯ 0       1    0    0    0      0      0      0    0     0   \n",
       "4  0     ⋯ 0       0    1    0    0      0      0      0    0     0   \n",
       "5  0     ⋯ 0       0    0    0    0      1      0      0    0     0   \n",
       "6  0     ⋯ 1       0    0    0    0      0      0      0    0     0   \n",
       "7  1     ⋯ 0       0    1    0    0      0      0      0    0     0   \n",
       "8  0     ⋯ 0       0    0    0    0      0      0      0    0     0   \n",
       "9  0     ⋯ 0       0    0    1    0      0      0      0    0     0   \n",
       "10 0     ⋯ 0       0    0    0    0      0      0      0    0     0   \n",
       "11 0     ⋯ 0       0    0    0    0      0      0      0    0     0   \n",
       "12 0     ⋯ 1       0    0    1    0      0      0      0    0     0   \n",
       "13 0     ⋯ 0       0    0    0    0      0      1      0    0     0   \n",
       "14 0     ⋯ 0       0    0    0    0      0      0      0    0     0   \n",
       "15 0     ⋯ 0       0    0    0    0      0      0      1    1     0   \n",
       "16 0     ⋯ 0       0    0    0    0      0      0      0    0     0   \n",
       "17 0     ⋯ 0       0    0    0    0      0      0      0    0     1   "
      ]
     },
     "metadata": {},
     "output_type": "display_data"
    }
   ],
   "source": [
    "# combine\n",
    "combined = dplyr::bind_rows(df1, df2)\n",
    "# fill na\n",
    "combined[is.na(combined)] = 0\n",
    "\n",
    "combined"
   ]
  },
  {
   "cell_type": "code",
   "execution_count": 5,
   "metadata": {
    "ExecuteTime": {
     "end_time": "2018-01-11T06:14:51.807051Z",
     "start_time": "2018-01-11T06:14:51.777Z"
    }
   },
   "outputs": [],
   "source": [
    "write.table(combined,\n",
    "            \"out/singleorigin_plus_rcctils.combined.cellfeatures.tsv\",\n",
    "            sep='\\t',\n",
    "            row.names=F # don't include index\n",
    "           ) "
   ]
  },
  {
   "cell_type": "code",
   "execution_count": null,
   "metadata": {},
   "outputs": [],
   "source": []
  }
 ],
 "metadata": {
  "kernelspec": {
   "display_name": "R",
   "language": "R",
   "name": "ir"
  },
  "language_info": {
   "codemirror_mode": "r",
   "file_extension": ".r",
   "mimetype": "text/x-r-source",
   "name": "R",
   "pygments_lexer": "r",
   "version": "3.4.2"
  },
  "toc": {
   "nav_menu": {},
   "number_sections": true,
   "sideBar": true,
   "skip_h1_title": false,
   "toc_cell": false,
   "toc_position": {},
   "toc_section_display": "block",
   "toc_window_display": false
  },
  "varInspector": {
   "cols": {
    "lenName": 16,
    "lenType": 16,
    "lenVar": 40
   },
   "kernels_config": {
    "python": {
     "delete_cmd_postfix": "",
     "delete_cmd_prefix": "del ",
     "library": "var_list.py",
     "varRefreshCmd": "print(var_dic_list())"
    },
    "r": {
     "delete_cmd_postfix": ") ",
     "delete_cmd_prefix": "rm(",
     "library": "var_list.r",
     "varRefreshCmd": "cat(var_dic_list()) "
    }
   },
   "types_to_exclude": [
    "module",
    "function",
    "builtin_function_or_method",
    "instance",
    "_Feature"
   ],
   "window_display": false
  }
 },
 "nbformat": 4,
 "nbformat_minor": 2
}
