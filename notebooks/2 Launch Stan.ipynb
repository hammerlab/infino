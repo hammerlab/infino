{
 "cells": [
  {
   "cell_type": "code",
   "execution_count": 25,
   "metadata": {
    "ExecuteTime": {
     "end_time": "2018-01-28T21:15:14.417013Z",
     "start_time": "2018-01-28T21:15:09.544636Z"
    }
   },
   "outputs": [
    {
     "name": "stdout",
     "output_type": "stream",
     "text": [
      "\u001b[33mThe directory '/home/jovyan/.cache/pip/http' or its parent directory is not owned by the current user and the cache has been disabled. Please check the permissions and owner of that directory. If executing pip with sudo, you may want sudo's -H flag.\u001b[0m\n",
      "\u001b[33mThe directory '/home/jovyan/.cache/pip' or its parent directory is not owned by the current user and caching wheels has been disabled. check the permissions and owner of that directory. If executing pip with sudo, you may want sudo's -H flag.\u001b[0m\n",
      "Obtaining infino from git+https://github.com/hammerlab/infino.git@develop#egg=infino\n",
      "  Updating ./src/infino clone (to develop)\n",
      "Requirement already satisfied: numpy in /opt/conda/lib/python3.6/site-packages (from infino)\n",
      "Requirement already satisfied: matplotlib in /opt/conda/lib/python3.6/site-packages (from infino)\n",
      "Requirement already satisfied: pandas in /opt/conda/lib/python3.6/site-packages (from infino)\n",
      "Requirement already satisfied: pystan in /opt/conda/lib/python3.6/site-packages (from infino)\n",
      "Requirement already satisfied: seaborn in /opt/conda/lib/python3.6/site-packages (from infino)\n",
      "Requirement already satisfied: six>=1.10 in /opt/conda/lib/python3.6/site-packages (from matplotlib->infino)\n",
      "Requirement already satisfied: python-dateutil>=2.1 in /opt/conda/lib/python3.6/site-packages (from matplotlib->infino)\n",
      "Requirement already satisfied: pytz in /opt/conda/lib/python3.6/site-packages (from matplotlib->infino)\n",
      "Requirement already satisfied: cycler>=0.10 in /opt/conda/lib/python3.6/site-packages/cycler-0.10.0-py3.6.egg (from matplotlib->infino)\n",
      "Requirement already satisfied: pyparsing!=2.0.4,!=2.1.2,!=2.1.6,>=2.0.1 in /opt/conda/lib/python3.6/site-packages (from matplotlib->infino)\n",
      "Requirement already satisfied: Cython!=0.25.1,>=0.22 in /opt/conda/lib/python3.6/site-packages (from pystan->infino)\n",
      "Requirement already satisfied: scipy in /opt/conda/lib/python3.6/site-packages (from seaborn->infino)\n",
      "Installing collected packages: infino\n",
      "  Found existing installation: infino 0.1\n",
      "    Uninstalling infino-0.1:\n",
      "      Successfully uninstalled infino-0.1\n",
      "  Running setup.py develop for infino\n",
      "Successfully installed infino\n"
     ]
    }
   ],
   "source": [
    "!sudo pip install -e git+https://github.com/hammerlab/infino.git@develop#egg=infino"
   ]
  },
  {
   "cell_type": "markdown",
   "metadata": {},
   "source": [
    "(Above: just in case, upgraded py-infino. Note that we use sudo, which requires launching this container with `docker run -e GRANT_SUDO=yes --user root ...`)\n",
    "\n",
    "So far we ran:\n",
    "\n",
    "* `1 Experimental data prep using rinfino.ipynb`\n",
    "* `1.1 combine Cell Features.ipynb`\n",
    "\n",
    "# Chunk up our data"
   ]
  },
  {
   "cell_type": "code",
   "execution_count": 5,
   "metadata": {
    "ExecuteTime": {
     "end_time": "2018-01-28T20:38:39.786597Z",
     "start_time": "2018-01-28T20:38:38.705671Z"
    }
   },
   "outputs": [
    {
     "name": "stdout",
     "output_type": "stream",
     "text": [
      "usage: chunker [-h] --data DATA [--output_file OUTPUT_FILE] --pagesize\r\n",
      "               PAGESIZE [--min_chunk_size MIN_CHUNK_SIZE]\r\n",
      "\r\n",
      "optional arguments:\r\n",
      "  -h, --help            show this help message and exit\r\n",
      "  --data DATA           path to test data (tab delimited genes x samples)\r\n",
      "  --output_file OUTPUT_FILE\r\n",
      "                        output file prefix (optional)\r\n",
      "  --pagesize PAGESIZE   page size (default 10)\r\n",
      "  --min_chunk_size MIN_CHUNK_SIZE\r\n",
      "                        minimum number of samples in a chunk (default 3),\r\n",
      "                        achieved via rebalancing (set to 1 to disable)\r\n"
     ]
    }
   ],
   "source": [
    "!chunker -h"
   ]
  },
  {
   "cell_type": "code",
   "execution_count": 2,
   "metadata": {
    "ExecuteTime": {
     "end_time": "2018-01-28T16:11:37.519321Z",
     "start_time": "2018-01-28T16:11:37.263152Z"
    }
   },
   "outputs": [
    {
     "name": "stdout",
     "output_type": "stream",
     "text": [
      "all_cohorts.cibersort_results.tsv\r\n",
      "bladder.tpm.tsv\r\n",
      "cohort_newbladder.cibersort.input.classes.datatype_est_counts.txt\r\n",
      "provenance.md\r\n",
      "rcctils.cellfeatures.tsv\r\n",
      "rcctils.celltypes.tsv\r\n",
      "singleorigin.cellfeatures.tsv\r\n",
      "tcgakirc.tpm.tsv\r\n"
     ]
    }
   ],
   "source": [
    "!ls ../data/"
   ]
  },
  {
   "cell_type": "code",
   "execution_count": 3,
   "metadata": {
    "ExecuteTime": {
     "end_time": "2018-01-28T16:11:39.444246Z",
     "start_time": "2018-01-28T16:11:39.202125Z"
    }
   },
   "outputs": [
    {
     "name": "stdout",
     "output_type": "stream",
     "text": [
      "experiment_bladder.test.expression.tsv\r\n",
      "experiment_bladder.training.expression.tsv\r\n",
      "experiment_bladder.training.xdata.tsv\r\n",
      "experiment_rcc.test.chunked.chunk-1-of-2.model6_4.chain_metadata.pkl\r\n",
      "experiment_rcc.test.chunked.chunk-1-of-2.model6_4.sample_name_to_id.tsv\r\n",
      "experiment_rcc.test.chunked.chunk-1-of-2.model6_4.samples.1.csv\r\n",
      "experiment_rcc.test.chunked.chunk-1-of-2.model6_4.samples.2.csv\r\n",
      "experiment_rcc.test.chunked.chunk-1-of-2.model6_4.samples.3.csv\r\n",
      "experiment_rcc.test.chunked.chunk-1-of-2.model6_4.samples.4.csv\r\n",
      "experiment_rcc.test.chunked.chunk-1-of-2.model6_4.seed.1.txt\r\n",
      "experiment_rcc.test.chunked.chunk-1-of-2.model6_4.seed.2.txt\r\n",
      "experiment_rcc.test.chunked.chunk-1-of-2.model6_4.seed.3.txt\r\n",
      "experiment_rcc.test.chunked.chunk-1-of-2.model6_4.seed.4.txt\r\n",
      "experiment_rcc.test.chunked.chunk-1-of-2.model6_4.standata.Rdump\r\n",
      "experiment_rcc.test.chunked.chunk-1-of-2.model6_4.stdout.1.txt\r\n",
      "experiment_rcc.test.chunked.chunk-1-of-2.model6_4.stdout.2.txt\r\n",
      "experiment_rcc.test.chunked.chunk-1-of-2.model6_4.stdout.3.txt\r\n",
      "experiment_rcc.test.chunked.chunk-1-of-2.model6_4.stdout.4.txt\r\n",
      "experiment_rcc.test.chunked.chunk-1-of-2.model6_5.chain_metadata.pkl\r\n",
      "experiment_rcc.test.chunked.chunk-1-of-2.model6_5.sample_name_to_id.tsv\r\n",
      "experiment_rcc.test.chunked.chunk-1-of-2.model6_5.samples.1.csv\r\n",
      "experiment_rcc.test.chunked.chunk-1-of-2.model6_5.samples.2.csv\r\n",
      "experiment_rcc.test.chunked.chunk-1-of-2.model6_5.samples.3.csv\r\n",
      "experiment_rcc.test.chunked.chunk-1-of-2.model6_5.samples.4.csv\r\n",
      "experiment_rcc.test.chunked.chunk-1-of-2.model6_5.seed.1.txt\r\n",
      "experiment_rcc.test.chunked.chunk-1-of-2.model6_5.seed.2.txt\r\n",
      "experiment_rcc.test.chunked.chunk-1-of-2.model6_5.seed.3.txt\r\n",
      "experiment_rcc.test.chunked.chunk-1-of-2.model6_5.seed.4.txt\r\n",
      "experiment_rcc.test.chunked.chunk-1-of-2.model6_5.standata.Rdump\r\n",
      "experiment_rcc.test.chunked.chunk-1-of-2.model6_5.stdout.1.txt\r\n",
      "experiment_rcc.test.chunked.chunk-1-of-2.model6_5.stdout.2.txt\r\n",
      "experiment_rcc.test.chunked.chunk-1-of-2.model6_5.stdout.3.txt\r\n",
      "experiment_rcc.test.chunked.chunk-1-of-2.model6_5.stdout.4.txt\r\n",
      "experiment_rcc.test.chunked.chunk-1-of-2.tsv\r\n",
      "experiment_rcc.test.chunked.chunk-2-of-2.tsv\r\n",
      "experiment_rcc.test.expression.tsv\r\n",
      "experiment_rcc.training.expression.tsv\r\n",
      "experiment_rcc.training.xdata.tsv\r\n",
      "singleorigin_plus_rcctils.combined.cellfeatures.tsv\r\n"
     ]
    }
   ],
   "source": [
    "!ls out"
   ]
  },
  {
   "cell_type": "code",
   "execution_count": 4,
   "metadata": {
    "ExecuteTime": {
     "end_time": "2018-01-28T16:11:46.610103Z",
     "start_time": "2018-01-28T16:11:45.670550Z"
    }
   },
   "outputs": [
    {
     "name": "stdout",
     "output_type": "stream",
     "text": [
      "Output:\r\n",
      "out/experiment_rcc.test.chunked.chunk-1-of-2.tsv  -- 40 samples (X953473f4.9927.4fd4.bfee.8f5908638cc7, ..., a0f62f75.1a15.413e.9960.3cfc09f52b9e)\r\n",
      "out/experiment_rcc.test.chunked.chunk-2-of-2.tsv  -- 39 samples (X116f7723.de02.4a81.bec1.cc068019ff38, ..., X0153168a.39ce.47d6.b7f5.ac1e0f312245)\r\n"
     ]
    }
   ],
   "source": [
    "!chunker \\\n",
    "--data out/experiment_rcc.test.expression.tsv \\\n",
    "--output_file out/experiment_rcc.test.chunked \\\n",
    "--pagesize 40 --min_chunk_size 10;"
   ]
  },
  {
   "cell_type": "code",
   "execution_count": 1,
   "metadata": {
    "ExecuteTime": {
     "end_time": "2018-02-22T02:33:05.895866Z",
     "start_time": "2018-02-22T02:33:02.113249Z"
    }
   },
   "outputs": [
    {
     "name": "stdout",
     "output_type": "stream",
     "text": [
      "Output:\r\n",
      "out/experiment_bladder.test.chunked.chunk-1-of-1.tsv  -- 26 samples (gerald.H5NKVBBXX.4.CGGCTATG.TATAGCCT, ..., gerald.H5NKVBBXX.7.TCCGGAGA.CCTATCCT)\r\n"
     ]
    }
   ],
   "source": [
    "!chunker \\\n",
    "--data out/experiment_bladder.test.expression.tsv \\\n",
    "--output_file out/experiment_bladder.test.chunked \\\n",
    "--pagesize 40 --min_chunk_size 10;"
   ]
  },
  {
   "cell_type": "markdown",
   "metadata": {},
   "source": [
    "# Compile our Stan models\n",
    "\n",
    "Create executable version of `modelname.stan`: `make -C $HOME/cmdstan $(pwd)/modelname`. (Note you leave off the `.stan` suffix.)\n",
    "\n",
    "This creates `modelname` executable. We may need to clear the compiled files out manually to force a rerun of `make`: `rm modelname.hpp modelname`"
   ]
  },
  {
   "cell_type": "code",
   "execution_count": 11,
   "metadata": {
    "ExecuteTime": {
     "end_time": "2018-01-28T20:42:08.062756Z",
     "start_time": "2018-01-28T20:42:07.799059Z"
    }
   },
   "outputs": [
    {
     "name": "stdout",
     "output_type": "stream",
     "text": [
      "../models/model6.4_negbinom_matrix_correlation_features_oos_optim_otherbucket.stan\r\n",
      "../models/model6.5_negbinom_matrix_correlation_features_oos_optim_otherbucket_samplevariance.stan\r\n"
     ]
    }
   ],
   "source": [
    "!ls ../models/*.stan"
   ]
  },
  {
   "cell_type": "code",
   "execution_count": 17,
   "metadata": {
    "ExecuteTime": {
     "end_time": "2018-01-28T20:45:43.949866Z",
     "start_time": "2018-01-28T20:45:43.686057Z"
    }
   },
   "outputs": [
    {
     "name": "stdout",
     "output_type": "stream",
     "text": [
      "model6.4_negbinom_matrix_correlation_features_oos_optim_otherbucket\r\n",
      "model6.4_negbinom_matrix_correlation_features_oos_optim_otherbucket.hpp\r\n",
      "model6.5_negbinom_matrix_correlation_features_oos_optim_otherbucket_samplevariance\r\n",
      "model6.5_negbinom_matrix_correlation_features_oos_optim_otherbucket_samplevariance.hpp\r\n"
     ]
    }
   ],
   "source": [
    "!ls ../models/ | grep -v '.stan' "
   ]
  },
  {
   "cell_type": "code",
   "execution_count": 11,
   "metadata": {
    "ExecuteTime": {
     "end_time": "2018-01-28T16:13:58.522731Z",
     "start_time": "2018-01-28T16:13:57.537385Z"
    }
   },
   "outputs": [],
   "source": [
    "!rm ../models/model6.4_negbinom_matrix_correlation_features_oos_optim_otherbucket\n",
    "!rm ../models/model6.4_negbinom_matrix_correlation_features_oos_optim_otherbucket.hpp\n",
    "!rm ../models/model6.5_negbinom_matrix_correlation_features_oos_optim_otherbucket_samplevariance\n",
    "!rm ../models/model6.5_negbinom_matrix_correlation_features_oos_optim_otherbucket_samplevariance.hpp"
   ]
  },
  {
   "cell_type": "code",
   "execution_count": 13,
   "metadata": {
    "ExecuteTime": {
     "end_time": "2018-01-28T20:42:54.442981Z",
     "start_time": "2018-01-28T20:42:15.578617Z"
    }
   },
   "outputs": [
    {
     "name": "stdout",
     "output_type": "stream",
     "text": [
      "make: Entering directory '/home/jovyan/cmdstan'\n",
      "\n",
      "--- Translating Stan model to C++ code ---\n",
      "bin/stanc  /home/jovyan/work/notebooks/../models/model6.4_negbinom_matrix_correlation_features_oos_optim_otherbucket.stan --o=/home/jovyan/work/notebooks/../models/model6.4_negbinom_matrix_correlation_features_oos_optim_otherbucket.hpp\n",
      "Model name=model6_4_negbinom_matrix_correlation_features_oos_optim_otherbucket_model\n",
      "Input file=/home/jovyan/work/notebooks/../models/model6.4_negbinom_matrix_correlation_features_oos_optim_otherbucket.stan\n",
      "Output file=/home/jovyan/work/notebooks/../models/model6.4_negbinom_matrix_correlation_features_oos_optim_otherbucket.hpp\n",
      "\n",
      "--- Linking C++ model ---\n",
      "g++ -I src -I stan/src -isystem stan/lib/stan_math/ -isystem stan/lib/stan_math/lib/eigen_3.3.3 -isystem stan/lib/stan_math/lib/boost_1.62.0 -isystem stan/lib/stan_math/lib/cvodes_2.9.0/include -Wall -DEIGEN_NO_DEBUG  -DBOOST_RESULT_OF_USE_TR1 -DBOOST_NO_DECLTYPE -DBOOST_DISABLE_ASSERTS -DFUSION_MAX_VECTOR_SIZE=12 -DNO_FPRINTF_OUTPUT -pipe   -lpthread  -O3 -o /home/jovyan/work/notebooks/../models/model6.4_negbinom_matrix_correlation_features_oos_optim_otherbucket src/cmdstan/main.cpp -include /home/jovyan/work/notebooks/../models/model6.4_negbinom_matrix_correlation_features_oos_optim_otherbucket.hpp stan/lib/stan_math/lib/cvodes_2.9.0/lib/libsundials_nvecserial.a stan/lib/stan_math/lib/cvodes_2.9.0/lib/libsundials_cvodes.a \n",
      "make: Leaving directory '/home/jovyan/cmdstan'\n"
     ]
    }
   ],
   "source": [
    "!make -C $HOME/cmdstan $(pwd)/../models/model6.4_negbinom_matrix_correlation_features_oos_optim_otherbucket"
   ]
  },
  {
   "cell_type": "code",
   "execution_count": 14,
   "metadata": {
    "ExecuteTime": {
     "end_time": "2018-01-28T20:42:54.708202Z",
     "start_time": "2018-01-28T20:42:54.454109Z"
    }
   },
   "outputs": [
    {
     "name": "stdout",
     "output_type": "stream",
     "text": [
      "../models/model6.4_negbinom_matrix_correlation_features_oos_optim_otherbucket\r\n",
      "../models/model6.4_negbinom_matrix_correlation_features_oos_optim_otherbucket.hpp\r\n",
      "../models/model6.4_negbinom_matrix_correlation_features_oos_optim_otherbucket.stan\r\n"
     ]
    }
   ],
   "source": [
    "!ls ../models/model6.4*"
   ]
  },
  {
   "cell_type": "code",
   "execution_count": 15,
   "metadata": {
    "ExecuteTime": {
     "end_time": "2018-01-28T20:43:37.867700Z",
     "start_time": "2018-01-28T20:42:54.716966Z"
    }
   },
   "outputs": [
    {
     "name": "stdout",
     "output_type": "stream",
     "text": [
      "make: Entering directory '/home/jovyan/cmdstan'\n",
      "\n",
      "--- Translating Stan model to C++ code ---\n",
      "bin/stanc  /home/jovyan/work/notebooks/../models/model6.5_negbinom_matrix_correlation_features_oos_optim_otherbucket_samplevariance.stan --o=/home/jovyan/work/notebooks/../models/model6.5_negbinom_matrix_correlation_features_oos_optim_otherbucket_samplevariance.hpp\n",
      "Model name=model6_5_negbinom_matrix_correlation_features_oos_optim_otherbucket_samplevariance_model\n",
      "Input file=/home/jovyan/work/notebooks/../models/model6.5_negbinom_matrix_correlation_features_oos_optim_otherbucket_samplevariance.stan\n",
      "Output file=/home/jovyan/work/notebooks/../models/model6.5_negbinom_matrix_correlation_features_oos_optim_otherbucket_samplevariance.hpp\n",
      "\n",
      "--- Linking C++ model ---\n",
      "g++ -I src -I stan/src -isystem stan/lib/stan_math/ -isystem stan/lib/stan_math/lib/eigen_3.3.3 -isystem stan/lib/stan_math/lib/boost_1.62.0 -isystem stan/lib/stan_math/lib/cvodes_2.9.0/include -Wall -DEIGEN_NO_DEBUG  -DBOOST_RESULT_OF_USE_TR1 -DBOOST_NO_DECLTYPE -DBOOST_DISABLE_ASSERTS -DFUSION_MAX_VECTOR_SIZE=12 -DNO_FPRINTF_OUTPUT -pipe   -lpthread  -O3 -o /home/jovyan/work/notebooks/../models/model6.5_negbinom_matrix_correlation_features_oos_optim_otherbucket_samplevariance src/cmdstan/main.cpp -include /home/jovyan/work/notebooks/../models/model6.5_negbinom_matrix_correlation_features_oos_optim_otherbucket_samplevariance.hpp stan/lib/stan_math/lib/cvodes_2.9.0/lib/libsundials_nvecserial.a stan/lib/stan_math/lib/cvodes_2.9.0/lib/libsundials_cvodes.a \n",
      "make: Leaving directory '/home/jovyan/cmdstan'\n"
     ]
    }
   ],
   "source": [
    "!make -C $HOME/cmdstan $(pwd)/../models/model6.5_negbinom_matrix_correlation_features_oos_optim_otherbucket_samplevariance"
   ]
  },
  {
   "cell_type": "code",
   "execution_count": 16,
   "metadata": {
    "ExecuteTime": {
     "end_time": "2018-01-28T20:43:38.148729Z",
     "start_time": "2018-01-28T20:43:37.876154Z"
    }
   },
   "outputs": [
    {
     "name": "stdout",
     "output_type": "stream",
     "text": [
      "../models/model6.5_negbinom_matrix_correlation_features_oos_optim_otherbucket_samplevariance\r\n",
      "../models/model6.5_negbinom_matrix_correlation_features_oos_optim_otherbucket_samplevariance.hpp\r\n",
      "../models/model6.5_negbinom_matrix_correlation_features_oos_optim_otherbucket_samplevariance.stan\r\n"
     ]
    }
   ],
   "source": [
    "!ls ../models/model6.5*"
   ]
  },
  {
   "cell_type": "code",
   "execution_count": 16,
   "metadata": {
    "ExecuteTime": {
     "end_time": "2018-01-28T16:15:26.654079Z",
     "start_time": "2018-01-28T16:15:26.413530Z"
    }
   },
   "outputs": [
    {
     "name": "stdout",
     "output_type": "stream",
     "text": [
      "Usage: ../models/model6.5_negbinom_matrix_correlation_features_oos_optim_otherbucket_samplevariance <arg1> <subarg1_1> ... <subarg1_m> ... <arg_n> <subarg_n_1> ... <subarg_n_m>\r\n",
      "\r\n",
      "Begin by selecting amongst the following inference methods and diagnostics,\r\n",
      "  sample      Bayesian inference with Markov Chain Monte Carlo\r\n",
      "  optimize    Point estimation\r\n",
      "  variational  Variational inference\r\n",
      "  diagnose    Model diagnostics\r\n",
      "\r\n",
      "Or see help information with\r\n",
      "  help        Prints help\r\n",
      "  help-all    Prints entire argument tree\r\n",
      "\r\n",
      "Additional configuration available by specifying\r\n",
      "  id          Unique process identifier\r\n",
      "  data        Input data options\r\n",
      "  init        Initialization method: \"x\" initializes randomly between [-x, x], \"0\" initializes to 0, anything else identifies a file of values\r\n",
      "  random      Random number configuration\r\n",
      "  output      File output options\r\n",
      "\r\n",
      "See ../models/model6.5_negbinom_matrix_correlation_features_oos_optim_otherbucket_samplevariance <arg1> [ help | help-all ] for details on individual arguments.\r\n",
      "\r\n",
      "Failed to parse arguments, terminating Stan\r\n"
     ]
    }
   ],
   "source": [
    "!../models/model6.5_negbinom_matrix_correlation_features_oos_optim_otherbucket_samplevariance"
   ]
  },
  {
   "cell_type": "markdown",
   "metadata": {},
   "source": [
    "# Execute model"
   ]
  },
  {
   "cell_type": "code",
   "execution_count": 7,
   "metadata": {
    "ExecuteTime": {
     "end_time": "2018-01-28T20:38:48.061677Z",
     "start_time": "2018-01-28T20:38:46.393696Z"
    }
   },
   "outputs": [
    {
     "name": "stdout",
     "output_type": "stream",
     "text": [
      "usage: execute-model [-h] --train_samples TRAIN_SAMPLES --train_xdata\r\n",
      "                     TRAIN_XDATA --train_cellfeatures TRAIN_CELLFEATURES\r\n",
      "                     --test_samples TEST_SAMPLES [--n_chains N_CHAINS]\r\n",
      "                     --output_name OUTPUT_NAME --model_executable\r\n",
      "                     MODEL_EXECUTABLE [--dry_run] [--num_samples NUM_SAMPLES]\r\n",
      "                     [--num_warmup NUM_WARMUP] [--vi]\r\n",
      "\r\n",
      "optional arguments:\r\n",
      "  -h, --help            show this help message and exit\r\n",
      "  --train_samples TRAIN_SAMPLES\r\n",
      "                        training matrix filename\r\n",
      "  --train_xdata TRAIN_XDATA\r\n",
      "                        map from training samples to subsets (xdata design\r\n",
      "                        matrix\r\n",
      "  --train_cellfeatures TRAIN_CELLFEATURES\r\n",
      "                        cell features matrix\r\n",
      "  --test_samples TEST_SAMPLES\r\n",
      "                        test matrix filename (to be deconvolved)\r\n",
      "  --n_chains N_CHAINS   number of MCMC chains\r\n",
      "  --output_name OUTPUT_NAME\r\n",
      "                        prefix for output files (include chunk number here!)\r\n",
      "  --model_executable MODEL_EXECUTABLE\r\n",
      "                        compiled stan model\r\n",
      "  --dry_run             don't run expensive stan fit commands, but do\r\n",
      "                        everything else\r\n",
      "  --num_samples NUM_SAMPLES\r\n",
      "                        number of saved samples\r\n",
      "  --num_warmup NUM_WARMUP\r\n",
      "                        number of warmup samples (NOT saved)\r\n",
      "  --vi                  run VI instead of NUTS (recommendation: 1000 samples,\r\n",
      "                        9000 warmup\r\n"
     ]
    }
   ],
   "source": [
    "!execute-model -h"
   ]
  },
  {
   "cell_type": "code",
   "execution_count": 18,
   "metadata": {
    "ExecuteTime": {
     "end_time": "2018-01-28T16:15:50.565376Z",
     "start_time": "2018-01-28T16:15:50.322797Z"
    }
   },
   "outputs": [
    {
     "name": "stdout",
     "output_type": "stream",
     "text": [
      "experiment_bladder.test.expression.tsv\r\n",
      "experiment_bladder.training.expression.tsv\r\n",
      "experiment_bladder.training.xdata.tsv\r\n",
      "experiment_rcc.test.chunked.chunk-1-of-2.model6_4.chain_metadata.pkl\r\n",
      "experiment_rcc.test.chunked.chunk-1-of-2.model6_4.sample_name_to_id.tsv\r\n",
      "experiment_rcc.test.chunked.chunk-1-of-2.model6_4.samples.1.csv\r\n",
      "experiment_rcc.test.chunked.chunk-1-of-2.model6_4.samples.2.csv\r\n",
      "experiment_rcc.test.chunked.chunk-1-of-2.model6_4.samples.3.csv\r\n",
      "experiment_rcc.test.chunked.chunk-1-of-2.model6_4.samples.4.csv\r\n",
      "experiment_rcc.test.chunked.chunk-1-of-2.model6_4.seed.1.txt\r\n",
      "experiment_rcc.test.chunked.chunk-1-of-2.model6_4.seed.2.txt\r\n",
      "experiment_rcc.test.chunked.chunk-1-of-2.model6_4.seed.3.txt\r\n",
      "experiment_rcc.test.chunked.chunk-1-of-2.model6_4.seed.4.txt\r\n",
      "experiment_rcc.test.chunked.chunk-1-of-2.model6_4.standata.Rdump\r\n",
      "experiment_rcc.test.chunked.chunk-1-of-2.model6_4.stdout.1.txt\r\n",
      "experiment_rcc.test.chunked.chunk-1-of-2.model6_4.stdout.2.txt\r\n",
      "experiment_rcc.test.chunked.chunk-1-of-2.model6_4.stdout.3.txt\r\n",
      "experiment_rcc.test.chunked.chunk-1-of-2.model6_4.stdout.4.txt\r\n",
      "experiment_rcc.test.chunked.chunk-1-of-2.model6_5.chain_metadata.pkl\r\n",
      "experiment_rcc.test.chunked.chunk-1-of-2.model6_5.sample_name_to_id.tsv\r\n",
      "experiment_rcc.test.chunked.chunk-1-of-2.model6_5.samples.1.csv\r\n",
      "experiment_rcc.test.chunked.chunk-1-of-2.model6_5.samples.2.csv\r\n",
      "experiment_rcc.test.chunked.chunk-1-of-2.model6_5.samples.3.csv\r\n",
      "experiment_rcc.test.chunked.chunk-1-of-2.model6_5.samples.4.csv\r\n",
      "experiment_rcc.test.chunked.chunk-1-of-2.model6_5.seed.1.txt\r\n",
      "experiment_rcc.test.chunked.chunk-1-of-2.model6_5.seed.2.txt\r\n",
      "experiment_rcc.test.chunked.chunk-1-of-2.model6_5.seed.3.txt\r\n",
      "experiment_rcc.test.chunked.chunk-1-of-2.model6_5.seed.4.txt\r\n",
      "experiment_rcc.test.chunked.chunk-1-of-2.model6_5.standata.Rdump\r\n",
      "experiment_rcc.test.chunked.chunk-1-of-2.model6_5.stdout.1.txt\r\n",
      "experiment_rcc.test.chunked.chunk-1-of-2.model6_5.stdout.2.txt\r\n",
      "experiment_rcc.test.chunked.chunk-1-of-2.model6_5.stdout.3.txt\r\n",
      "experiment_rcc.test.chunked.chunk-1-of-2.model6_5.stdout.4.txt\r\n",
      "experiment_rcc.test.chunked.chunk-1-of-2.tsv\r\n",
      "experiment_rcc.test.chunked.chunk-2-of-2.tsv\r\n",
      "experiment_rcc.test.expression.tsv\r\n",
      "experiment_rcc.training.expression.tsv\r\n",
      "experiment_rcc.training.xdata.tsv\r\n",
      "singleorigin_plus_rcctils.combined.cellfeatures.tsv\r\n"
     ]
    }
   ],
   "source": [
    "!ls out"
   ]
  },
  {
   "cell_type": "code",
   "execution_count": 19,
   "metadata": {
    "ExecuteTime": {
     "end_time": "2018-01-28T16:16:05.145747Z",
     "start_time": "2018-01-28T16:15:58.544213Z"
    }
   },
   "outputs": [
    {
     "name": "stdout",
     "output_type": "stream",
     "text": [
      "Launching chain:  1\n",
      "Launching chain:  2\n",
      "Launching chain:  3\n",
      "Launching chain:  4\n",
      "[Chain 1] ('../models/model6.5_negbinom_matrix_correlation_features_oos_optim_otherbucket_samplevariance method=sample num_samples=1000 num_warmup=1000 save_warmup=0 thin=1 random seed=67068949 id=1 data file=out/experiment_rcc.test.chunked.chunk-1-of-2.model6_5.standata.Rdump output file=out/experiment_rcc.test.chunked.chunk-1-of-2.model6_5.samples.1.csv refresh=25\\n', '')\n",
      "[Chain 2] ('../models/model6.5_negbinom_matrix_correlation_features_oos_optim_otherbucket_samplevariance method=sample num_samples=1000 num_warmup=1000 save_warmup=0 thin=1 random seed=686888424 id=2 data file=out/experiment_rcc.test.chunked.chunk-1-of-2.model6_5.standata.Rdump output file=out/experiment_rcc.test.chunked.chunk-1-of-2.model6_5.samples.2.csv refresh=25\\n', '')\n",
      "[Chain 3] ('../models/model6.5_negbinom_matrix_correlation_features_oos_optim_otherbucket_samplevariance method=sample num_samples=1000 num_warmup=1000 save_warmup=0 thin=1 random seed=105912234 id=3 data file=out/experiment_rcc.test.chunked.chunk-1-of-2.model6_5.standata.Rdump output file=out/experiment_rcc.test.chunked.chunk-1-of-2.model6_5.samples.3.csv refresh=25\\n', '')\n",
      "[Chain 4] ('../models/model6.5_negbinom_matrix_correlation_features_oos_optim_otherbucket_samplevariance method=sample num_samples=1000 num_warmup=1000 save_warmup=0 thin=1 random seed=841788785 id=4 data file=out/experiment_rcc.test.chunked.chunk-1-of-2.model6_5.standata.Rdump output file=out/experiment_rcc.test.chunked.chunk-1-of-2.model6_5.samples.4.csv refresh=25\\n', '')\n",
      "[Chain 1] Execution completed, return code: 0\n",
      "[Chain 2] Execution completed, return code: 0\n",
      "[Chain 3] Execution completed, return code: 0\n",
      "[Chain 4] Execution completed, return code: 0\n",
      "echo stansummary --csv_file=out/experiment_rcc.test.chunked.chunk-1-of-2.model6_5.stansummary.csv out/experiment_rcc.test.chunked.chunk-1-of-2.model6_5.samples.1.csv out/experiment_rcc.test.chunked.chunk-1-of-2.model6_5.samples.2.csv out/experiment_rcc.test.chunked.chunk-1-of-2.model6_5.samples.3.csv out/experiment_rcc.test.chunked.chunk-1-of-2.model6_5.samples.4.csv > /dev/null;\n"
     ]
    }
   ],
   "source": [
    "!execute-model \\\n",
    "--train_samples out/experiment_rcc.training.expression.tsv \\\n",
    "--train_xdata out/experiment_rcc.training.xdata.tsv \\\n",
    "--train_cellfeatures out/singleorigin_plus_rcctils.combined.cellfeatures.tsv \\\n",
    "--test_samples out/experiment_rcc.test.chunked.chunk-1-of-2.tsv \\\n",
    "--n_chains 4 \\\n",
    "--output_name out/experiment_rcc.test.chunked.chunk-1-of-2.model6_5 \\\n",
    "--model_executable ../models/model6.5_negbinom_matrix_correlation_features_oos_optim_otherbucket_samplevariance \\\n",
    "--dry_run;"
   ]
  },
  {
   "cell_type": "markdown",
   "metadata": {},
   "source": [
    "Don't do a dry-run with echos, but do a manual dry-run with two iterations. This is an important test because any actual errors with loading this data into Stan will come up here:"
   ]
  },
  {
   "cell_type": "code",
   "execution_count": 21,
   "metadata": {
    "ExecuteTime": {
     "end_time": "2018-01-28T21:02:02.306550Z",
     "start_time": "2018-01-28T20:55:39.490303Z"
    },
    "scrolled": false
   },
   "outputs": [
    {
     "name": "stdout",
     "output_type": "stream",
     "text": [
      "Launching chain:  1\n",
      "[Chain 1] method = sample (Default)\n",
      "[Chain 1]   sample\n",
      "[Chain 1]     num_samples = 2\n",
      "[Chain 1]     num_warmup = 2\n",
      "[Chain 1]     save_warmup = 0 (Default)\n",
      "[Chain 1]     thin = 1 (Default)\n",
      "[Chain 1]     adapt\n",
      "[Chain 1]       engaged = 1 (Default)\n",
      "[Chain 1]       gamma = 0.050000000000000003 (Default)\n",
      "[Chain 1]       delta = 0.80000000000000004 (Default)\n",
      "[Chain 1]       kappa = 0.75 (Default)\n",
      "[Chain 1]       t0 = 10 (Default)\n",
      "[Chain 1]       init_buffer = 75 (Default)\n",
      "[Chain 1]       term_buffer = 50 (Default)\n",
      "[Chain 1]       window = 25 (Default)\n",
      "[Chain 1]     algorithm = hmc (Default)\n",
      "[Chain 1]       hmc\n",
      "[Chain 1]         engine = nuts (Default)\n",
      "[Chain 1]           nuts\n",
      "[Chain 1]             max_depth = 10 (Default)\n",
      "[Chain 1]         metric = diag_e (Default)\n",
      "[Chain 1]         stepsize = 1 (Default)\n",
      "[Chain 1]         stepsize_jitter = 0 (Default)\n",
      "[Chain 1] id = 1\n",
      "[Chain 1] data\n",
      "[Chain 1]   file = out/experiment_rcc.test.chunked.chunk-1-of-2.model6_4.standata.Rdump\n",
      "[Chain 1] init = 2 (Default)\n",
      "[Chain 1] random\n",
      "[Chain 1]   seed = 510720654\n",
      "[Chain 1] output\n",
      "[Chain 1]   file = out/experiment_rcc.test.chunked.chunk-1-of-2.model6_4.samples.1.csv\n",
      "[Chain 1]   diagnostic_file =  (Default)\n",
      "[Chain 1]   refresh = 25\n",
      "[Chain 1] \n",
      "[Chain 1] \n",
      "[Chain 1] Gradient evaluation took 5.8907 seconds\n",
      "[Chain 1] 1000 transitions using 10 leapfrog steps per transition would take 58907 seconds.\n",
      "[Chain 1] Adjust your expectations accordingly!\n",
      "[Chain 1] \n",
      "[Chain 1] \n",
      "[Chain 1] WARNING: No variance estimation is\n",
      "[Chain 1]          performed for num_warmup < 20\n",
      "[Chain 1] \n",
      "[Chain 1] Iteration: 1 / 4 [ 25%]  (Warmup)\n",
      "[Chain 1] Iteration: 3 / 4 [ 75%]  (Sampling)\n",
      "[Chain 1] Iteration: 4 / 4 [100%]  (Sampling)\n",
      "[Chain 1] \n",
      "[Chain 1]  Elapsed Time: 23.0118 seconds (Warm-up)\n",
      "[Chain 1]                12.5662 seconds (Sampling)\n",
      "[Chain 1]                35.5781 seconds (Total)\n",
      "[Chain 1] Execution completed, return code: 0\n",
      " stansummary --csv_file=out/experiment_rcc.test.chunked.chunk-1-of-2.model6_4.stansummary.csv out/experiment_rcc.test.chunked.chunk-1-of-2.model6_4.samples.1.csv > /dev/null;\n",
      "stansummary completed, return code: 0\n",
      "Run complete. Chain metadata pickled out.\n"
     ]
    }
   ],
   "source": [
    "!execute-model \\\n",
    "--train_samples out/experiment_rcc.training.expression.tsv \\\n",
    "--train_xdata out/experiment_rcc.training.xdata.tsv \\\n",
    "--train_cellfeatures out/singleorigin_plus_rcctils.combined.cellfeatures.tsv \\\n",
    "--test_samples out/experiment_rcc.test.chunked.chunk-1-of-2.tsv \\\n",
    "--n_chains 1 \\\n",
    "--output_name out/experiment_rcc.test.chunked.chunk-1-of-2.model6_4 \\\n",
    "--model_executable ../models/model6.4_negbinom_matrix_correlation_features_oos_optim_otherbucket \\\n",
    "--num_samples 2 \\\n",
    "--num_warmup 2;"
   ]
  },
  {
   "cell_type": "code",
   "execution_count": null,
   "metadata": {},
   "outputs": [],
   "source": []
  },
  {
   "cell_type": "code",
   "execution_count": 22,
   "metadata": {
    "ExecuteTime": {
     "end_time": "2018-01-28T21:08:27.458975Z",
     "start_time": "2018-01-28T21:05:09.832056Z"
    },
    "scrolled": true
   },
   "outputs": [
    {
     "name": "stdout",
     "output_type": "stream",
     "text": [
      "Launching chain:  1\n",
      "[Chain 1] method = sample (Default)\n",
      "[Chain 1]   sample\n",
      "[Chain 1]     num_samples = 2\n",
      "[Chain 1]     num_warmup = 2\n",
      "[Chain 1]     save_warmup = 0 (Default)\n",
      "[Chain 1]     thin = 1 (Default)\n",
      "[Chain 1]     adapt\n",
      "[Chain 1]       engaged = 1 (Default)\n",
      "[Chain 1]       gamma = 0.050000000000000003 (Default)\n",
      "[Chain 1]       delta = 0.80000000000000004 (Default)\n",
      "[Chain 1]       kappa = 0.75 (Default)\n",
      "[Chain 1]       t0 = 10 (Default)\n",
      "[Chain 1]       init_buffer = 75 (Default)\n",
      "[Chain 1]       term_buffer = 50 (Default)\n",
      "[Chain 1]       window = 25 (Default)\n",
      "[Chain 1]     algorithm = hmc (Default)\n",
      "[Chain 1]       hmc\n",
      "[Chain 1]         engine = nuts (Default)\n",
      "[Chain 1]           nuts\n",
      "[Chain 1]             max_depth = 10 (Default)\n",
      "[Chain 1]         metric = diag_e (Default)\n",
      "[Chain 1]         stepsize = 1 (Default)\n",
      "[Chain 1]         stepsize_jitter = 0 (Default)\n",
      "[Chain 1] id = 1\n",
      "[Chain 1] data\n",
      "[Chain 1]   file = out/experiment_rcc.test.chunked.chunk-1-of-2.model6_5.standata.Rdump\n",
      "[Chain 1] init = 2 (Default)\n",
      "[Chain 1] random\n",
      "[Chain 1]   seed = 1496710112\n",
      "[Chain 1] output\n",
      "[Chain 1]   file = out/experiment_rcc.test.chunked.chunk-1-of-2.model6_5.samples.1.csv\n",
      "[Chain 1]   diagnostic_file =  (Default)\n",
      "[Chain 1]   refresh = 25\n",
      "[Chain 1] \n",
      "[Chain 1] Rejecting initial value:\n",
      "[Chain 1]   Error evaluating the log probability at the initial value.\n",
      "[Chain 1] Exception: neg_binomial_2_log_lpmf: Precision parameter[1] is nan, but must be > 0!  (in '/home/jovyan/work/notebooks/../models/model6.5_negbinom_matrix_correlation_features_oos_optim_otherbucket_samplevariance.stan' at line 131)\n",
      "[Chain 1] \n",
      "[Chain 1] Rejecting initial value:\n",
      "[Chain 1]   Error evaluating the log probability at the initial value.\n",
      "[Chain 1] Exception: neg_binomial_2_log_lpmf: Precision parameter[1] is nan, but must be > 0!  (in '/home/jovyan/work/notebooks/../models/model6.5_negbinom_matrix_correlation_features_oos_optim_otherbucket_samplevariance.stan' at line 131)\n",
      "[Chain 1] \n",
      "[Chain 1] Rejecting initial value:\n",
      "[Chain 1]   Error evaluating the log probability at the initial value.\n",
      "[Chain 1] Exception: neg_binomial_2_log_lpmf: Precision parameter[1] is nan, but must be > 0!  (in '/home/jovyan/work/notebooks/../models/model6.5_negbinom_matrix_correlation_features_oos_optim_otherbucket_samplevariance.stan' at line 131)\n",
      "[Chain 1] \n",
      "[Chain 1] Rejecting initial value:\n",
      "[Chain 1]   Error evaluating the log probability at the initial value.\n",
      "[Chain 1] Exception: neg_binomial_2_log_lpmf: Precision parameter[10] is nan, but must be > 0!  (in '/home/jovyan/work/notebooks/../models/model6.5_negbinom_matrix_correlation_features_oos_optim_otherbucket_samplevariance.stan' at line 131)\n",
      "[Chain 1] \n",
      "[Chain 1] Rejecting initial value:\n",
      "[Chain 1]   Error evaluating the log probability at the initial value.\n",
      "[Chain 1] Exception: neg_binomial_2_log_lpmf: Precision parameter[1] is nan, but must be > 0!  (in '/home/jovyan/work/notebooks/../models/model6.5_negbinom_matrix_correlation_features_oos_optim_otherbucket_samplevariance.stan' at line 131)\n",
      "[Chain 1] \n",
      "[Chain 1] Rejecting initial value:\n",
      "[Chain 1]   Error evaluating the log probability at the initial value.\n",
      "[Chain 1] Exception: neg_binomial_2_log_lpmf: Precision parameter[2] is nan, but must be > 0!  (in '/home/jovyan/work/notebooks/../models/model6.5_negbinom_matrix_correlation_features_oos_optim_otherbucket_samplevariance.stan' at line 131)\n",
      "[Chain 1] \n",
      "[Chain 1] Rejecting initial value:\n",
      "[Chain 1]   Error evaluating the log probability at the initial value.\n",
      "[Chain 1] Exception: neg_binomial_2_log_lpmf: Precision parameter[5] is nan, but must be > 0!  (in '/home/jovyan/work/notebooks/../models/model6.5_negbinom_matrix_correlation_features_oos_optim_otherbucket_samplevariance.stan' at line 131)\n",
      "[Chain 1] \n",
      "[Chain 1] Rejecting initial value:\n",
      "[Chain 1]   Error evaluating the log probability at the initial value.\n",
      "[Chain 1] Exception: neg_binomial_2_log_lpmf: Precision parameter[3] is nan, but must be > 0!  (in '/home/jovyan/work/notebooks/../models/model6.5_negbinom_matrix_correlation_features_oos_optim_otherbucket_samplevariance.stan' at line 131)\n",
      "[Chain 1] \n",
      "[Chain 1] Rejecting initial value:\n",
      "[Chain 1]   Error evaluating the log probability at the initial value.\n",
      "[Chain 1] Exception: neg_binomial_2_log_lpmf: Precision parameter[4] is nan, but must be > 0!  (in '/home/jovyan/work/notebooks/../models/model6.5_negbinom_matrix_correlation_features_oos_optim_otherbucket_samplevariance.stan' at line 131)\n",
      "[Chain 1] \n",
      "[Chain 1] Rejecting initial value:\n",
      "[Chain 1]   Error evaluating the log probability at the initial value.\n",
      "[Chain 1] Exception: neg_binomial_2_log_lpmf: Precision parameter[1] is nan, but must be > 0!  (in '/home/jovyan/work/notebooks/../models/model6.5_negbinom_matrix_correlation_features_oos_optim_otherbucket_samplevariance.stan' at line 131)\n",
      "[Chain 1] \n",
      "[Chain 1] Rejecting initial value:\n",
      "[Chain 1]   Error evaluating the log probability at the initial value.\n",
      "[Chain 1] Exception: neg_binomial_2_log_lpmf: Precision parameter[1] is nan, but must be > 0!  (in '/home/jovyan/work/notebooks/../models/model6.5_negbinom_matrix_correlation_features_oos_optim_otherbucket_samplevariance.stan' at line 131)\n",
      "[Chain 1] \n",
      "[Chain 1] Rejecting initial value:\n",
      "[Chain 1]   Error evaluating the log probability at the initial value.\n",
      "[Chain 1] Exception: neg_binomial_2_log_lpmf: Precision parameter[1] is nan, but must be > 0!  (in '/home/jovyan/work/notebooks/../models/model6.5_negbinom_matrix_correlation_features_oos_optim_otherbucket_samplevariance.stan' at line 131)\n",
      "[Chain 1] \n",
      "[Chain 1] Rejecting initial value:\n",
      "[Chain 1]   Error evaluating the log probability at the initial value.\n",
      "[Chain 1] Exception: neg_binomial_2_log_lpmf: Precision parameter[4] is nan, but must be > 0!  (in '/home/jovyan/work/notebooks/../models/model6.5_negbinom_matrix_correlation_features_oos_optim_otherbucket_samplevariance.stan' at line 131)\n",
      "[Chain 1] \n",
      "[Chain 1] Rejecting initial value:\n",
      "[Chain 1]   Error evaluating the log probability at the initial value.\n",
      "[Chain 1] Exception: neg_binomial_2_log_lpmf: Precision parameter[1] is nan, but must be > 0!  (in '/home/jovyan/work/notebooks/../models/model6.5_negbinom_matrix_correlation_features_oos_optim_otherbucket_samplevariance.stan' at line 131)\n",
      "[Chain 1] \n",
      "[Chain 1] Rejecting initial value:\n",
      "[Chain 1]   Error evaluating the log probability at the initial value.\n",
      "[Chain 1] Exception: neg_binomial_2_log_lpmf: Precision parameter[4] is nan, but must be > 0!  (in '/home/jovyan/work/notebooks/../models/model6.5_negbinom_matrix_correlation_features_oos_optim_otherbucket_samplevariance.stan' at line 131)\n",
      "[Chain 1] \n",
      "[Chain 1] Rejecting initial value:\n",
      "[Chain 1]   Error evaluating the log probability at the initial value.\n",
      "[Chain 1] Exception: neg_binomial_2_log_lpmf: Precision parameter[2] is nan, but must be > 0!  (in '/home/jovyan/work/notebooks/../models/model6.5_negbinom_matrix_correlation_features_oos_optim_otherbucket_samplevariance.stan' at line 131)\n",
      "[Chain 1] \n",
      "[Chain 1] Rejecting initial value:\n",
      "[Chain 1]   Error evaluating the log probability at the initial value.\n",
      "[Chain 1] Exception: neg_binomial_2_log_lpmf: Precision parameter[1] is nan, but must be > 0!  (in '/home/jovyan/work/notebooks/../models/model6.5_negbinom_matrix_correlation_features_oos_optim_otherbucket_samplevariance.stan' at line 131)\n",
      "[Chain 1] \n",
      "[Chain 1] Rejecting initial value:\n",
      "[Chain 1]   Error evaluating the log probability at the initial value.\n",
      "[Chain 1] Exception: neg_binomial_2_log_lpmf: Precision parameter[2] is nan, but must be > 0!  (in '/home/jovyan/work/notebooks/../models/model6.5_negbinom_matrix_correlation_features_oos_optim_otherbucket_samplevariance.stan' at line 131)\n",
      "[Chain 1] \n",
      "[Chain 1] Rejecting initial value:\n",
      "[Chain 1]   Error evaluating the log probability at the initial value.\n",
      "[Chain 1] Exception: neg_binomial_2_log_lpmf: Precision parameter[1] is nan, but must be > 0!  (in '/home/jovyan/work/notebooks/../models/model6.5_negbinom_matrix_correlation_features_oos_optim_otherbucket_samplevariance.stan' at line 131)\n",
      "[Chain 1] \n",
      "[Chain 1] Rejecting initial value:\n",
      "[Chain 1]   Error evaluating the log probability at the initial value.\n",
      "[Chain 1] Exception: neg_binomial_2_log_lpmf: Precision parameter[1] is nan, but must be > 0!  (in '/home/jovyan/work/notebooks/../models/model6.5_negbinom_matrix_correlation_features_oos_optim_otherbucket_samplevariance.stan' at line 131)\n",
      "[Chain 1] \n",
      "[Chain 1] Rejecting initial value:\n",
      "[Chain 1]   Error evaluating the log probability at the initial value.\n",
      "[Chain 1] Exception: neg_binomial_2_log_lpmf: Precision parameter[4] is nan, but must be > 0!  (in '/home/jovyan/work/notebooks/../models/model6.5_negbinom_matrix_correlation_features_oos_optim_otherbucket_samplevariance.stan' at line 131)\n",
      "[Chain 1] \n",
      "[Chain 1] Rejecting initial value:\n",
      "[Chain 1]   Error evaluating the log probability at the initial value.\n",
      "[Chain 1] Exception: neg_binomial_2_log_lpmf: Precision parameter[3] is nan, but must be > 0!  (in '/home/jovyan/work/notebooks/../models/model6.5_negbinom_matrix_correlation_features_oos_optim_otherbucket_samplevariance.stan' at line 131)\n",
      "[Chain 1] \n",
      "[Chain 1] Rejecting initial value:\n",
      "[Chain 1]   Error evaluating the log probability at the initial value.\n",
      "[Chain 1] Exception: neg_binomial_2_log_lpmf: Precision parameter[1] is nan, but must be > 0!  (in '/home/jovyan/work/notebooks/../models/model6.5_negbinom_matrix_correlation_features_oos_optim_otherbucket_samplevariance.stan' at line 131)\n",
      "[Chain 1] \n",
      "[Chain 1] Rejecting initial value:\n",
      "[Chain 1]   Error evaluating the log probability at the initial value.\n",
      "[Chain 1] Exception: neg_binomial_2_log_lpmf: Precision parameter[2] is nan, but must be > 0!  (in '/home/jovyan/work/notebooks/../models/model6.5_negbinom_matrix_correlation_features_oos_optim_otherbucket_samplevariance.stan' at line 131)\n",
      "[Chain 1] \n",
      "[Chain 1] Rejecting initial value:\n",
      "[Chain 1]   Error evaluating the log probability at the initial value.\n",
      "[Chain 1] Exception: neg_binomial_2_log_lpmf: Precision parameter[1] is nan, but must be > 0!  (in '/home/jovyan/work/notebooks/../models/model6.5_negbinom_matrix_correlation_features_oos_optim_otherbucket_samplevariance.stan' at line 131)\n",
      "[Chain 1] \n",
      "[Chain 1] Rejecting initial value:\n",
      "[Chain 1]   Error evaluating the log probability at the initial value.\n",
      "[Chain 1] Exception: neg_binomial_2_log_lpmf: Precision parameter[5] is nan, but must be > 0!  (in '/home/jovyan/work/notebooks/../models/model6.5_negbinom_matrix_correlation_features_oos_optim_otherbucket_samplevariance.stan' at line 131)\n",
      "[Chain 1] \n",
      "[Chain 1] Rejecting initial value:\n",
      "[Chain 1]   Error evaluating the log probability at the initial value.\n",
      "[Chain 1] Exception: neg_binomial_2_log_lpmf: Precision parameter[1] is nan, but must be > 0!  (in '/home/jovyan/work/notebooks/../models/model6.5_negbinom_matrix_correlation_features_oos_optim_otherbucket_samplevariance.stan' at line 131)\n",
      "[Chain 1] \n",
      "[Chain 1] Rejecting initial value:\n",
      "[Chain 1]   Error evaluating the log probability at the initial value.\n",
      "[Chain 1] Exception: neg_binomial_2_log_lpmf: Precision parameter[1] is nan, but must be > 0!  (in '/home/jovyan/work/notebooks/../models/model6.5_negbinom_matrix_correlation_features_oos_optim_otherbucket_samplevariance.stan' at line 131)\n",
      "[Chain 1] \n",
      "[Chain 1] Rejecting initial value:\n",
      "[Chain 1]   Error evaluating the log probability at the initial value.\n",
      "[Chain 1] Exception: neg_binomial_2_log_lpmf: Precision parameter[2] is nan, but must be > 0!  (in '/home/jovyan/work/notebooks/../models/model6.5_negbinom_matrix_correlation_features_oos_optim_otherbucket_samplevariance.stan' at line 131)\n",
      "[Chain 1] \n",
      "[Chain 1] Rejecting initial value:\n",
      "[Chain 1]   Error evaluating the log probability at the initial value.\n",
      "[Chain 1] Exception: neg_binomial_2_log_lpmf: Precision parameter[1] is nan, but must be > 0!  (in '/home/jovyan/work/notebooks/../models/model6.5_negbinom_matrix_correlation_features_oos_optim_otherbucket_samplevariance.stan' at line 131)\n",
      "[Chain 1] \n",
      "[Chain 1] Rejecting initial value:\n",
      "[Chain 1]   Error evaluating the log probability at the initial value.\n",
      "[Chain 1] Exception: neg_binomial_2_log_lpmf: Precision parameter[2] is nan, but must be > 0!  (in '/home/jovyan/work/notebooks/../models/model6.5_negbinom_matrix_correlation_features_oos_optim_otherbucket_samplevariance.stan' at line 131)\n",
      "[Chain 1] \n",
      "[Chain 1] Rejecting initial value:\n",
      "[Chain 1]   Error evaluating the log probability at the initial value.\n",
      "[Chain 1] Exception: neg_binomial_2_log_lpmf: Precision parameter[4] is nan, but must be > 0!  (in '/home/jovyan/work/notebooks/../models/model6.5_negbinom_matrix_correlation_features_oos_optim_otherbucket_samplevariance.stan' at line 131)\n",
      "[Chain 1] \n",
      "[Chain 1] Rejecting initial value:\n",
      "[Chain 1]   Error evaluating the log probability at the initial value.\n",
      "[Chain 1] Exception: neg_binomial_2_log_lpmf: Precision parameter[1] is nan, but must be > 0!  (in '/home/jovyan/work/notebooks/../models/model6.5_negbinom_matrix_correlation_features_oos_optim_otherbucket_samplevariance.stan' at line 131)\n",
      "[Chain 1] \n",
      "[Chain 1] Rejecting initial value:\n",
      "[Chain 1]   Error evaluating the log probability at the initial value.\n",
      "[Chain 1] Exception: neg_binomial_2_log_lpmf: Precision parameter[1] is nan, but must be > 0!  (in '/home/jovyan/work/notebooks/../models/model6.5_negbinom_matrix_correlation_features_oos_optim_otherbucket_samplevariance.stan' at line 131)\n",
      "[Chain 1] \n",
      "[Chain 1] Rejecting initial value:\n",
      "[Chain 1]   Error evaluating the log probability at the initial value.\n",
      "[Chain 1] Exception: neg_binomial_2_log_lpmf: Precision parameter[2] is nan, but must be > 0!  (in '/home/jovyan/work/notebooks/../models/model6.5_negbinom_matrix_correlation_features_oos_optim_otherbucket_samplevariance.stan' at line 131)\n",
      "[Chain 1] \n",
      "[Chain 1] Rejecting initial value:\n",
      "[Chain 1]   Error evaluating the log probability at the initial value.\n",
      "[Chain 1] Exception: neg_binomial_2_log_lpmf: Precision parameter[1] is nan, but must be > 0!  (in '/home/jovyan/work/notebooks/../models/model6.5_negbinom_matrix_correlation_features_oos_optim_otherbucket_samplevariance.stan' at line 131)\n",
      "[Chain 1] \n",
      "[Chain 1] Rejecting initial value:\n",
      "[Chain 1]   Error evaluating the log probability at the initial value.\n",
      "[Chain 1] Exception: neg_binomial_2_log_lpmf: Precision parameter[8] is nan, but must be > 0!  (in '/home/jovyan/work/notebooks/../models/model6.5_negbinom_matrix_correlation_features_oos_optim_otherbucket_samplevariance.stan' at line 131)\n",
      "[Chain 1] \n",
      "[Chain 1] Rejecting initial value:\n",
      "[Chain 1]   Error evaluating the log probability at the initial value.\n",
      "[Chain 1] Exception: neg_binomial_2_log_lpmf: Precision parameter[1] is nan, but must be > 0!  (in '/home/jovyan/work/notebooks/../models/model6.5_negbinom_matrix_correlation_features_oos_optim_otherbucket_samplevariance.stan' at line 131)\n",
      "[Chain 1] \n",
      "[Chain 1] Rejecting initial value:\n",
      "[Chain 1]   Error evaluating the log probability at the initial value.\n",
      "[Chain 1] Exception: neg_binomial_2_log_lpmf: Precision parameter[4] is nan, but must be > 0!  (in '/home/jovyan/work/notebooks/../models/model6.5_negbinom_matrix_correlation_features_oos_optim_otherbucket_samplevariance.stan' at line 131)\n",
      "[Chain 1] \n",
      "[Chain 1] Rejecting initial value:\n",
      "[Chain 1]   Error evaluating the log probability at the initial value.\n",
      "[Chain 1] Exception: neg_binomial_2_log_lpmf: Precision parameter[3] is nan, but must be > 0!  (in '/home/jovyan/work/notebooks/../models/model6.5_negbinom_matrix_correlation_features_oos_optim_otherbucket_samplevariance.stan' at line 131)\n",
      "[Chain 1] \n",
      "[Chain 1] Rejecting initial value:\n",
      "[Chain 1]   Error evaluating the log probability at the initial value.\n",
      "[Chain 1] Exception: neg_binomial_2_log_lpmf: Precision parameter[4] is nan, but must be > 0!  (in '/home/jovyan/work/notebooks/../models/model6.5_negbinom_matrix_correlation_features_oos_optim_otherbucket_samplevariance.stan' at line 131)\n",
      "[Chain 1] \n",
      "[Chain 1] Rejecting initial value:\n",
      "[Chain 1]   Error evaluating the log probability at the initial value.\n",
      "[Chain 1] Exception: neg_binomial_2_log_lpmf: Precision parameter[2] is nan, but must be > 0!  (in '/home/jovyan/work/notebooks/../models/model6.5_negbinom_matrix_correlation_features_oos_optim_otherbucket_samplevariance.stan' at line 131)\n",
      "[Chain 1] \n",
      "[Chain 1] Rejecting initial value:\n",
      "[Chain 1]   Error evaluating the log probability at the initial value.\n",
      "[Chain 1] Exception: neg_binomial_2_log_lpmf: Precision parameter[4] is nan, but must be > 0!  (in '/home/jovyan/work/notebooks/../models/model6.5_negbinom_matrix_correlation_features_oos_optim_otherbucket_samplevariance.stan' at line 131)\n",
      "[Chain 1] \n",
      "[Chain 1] Rejecting initial value:\n",
      "[Chain 1]   Error evaluating the log probability at the initial value.\n",
      "[Chain 1] Exception: neg_binomial_2_log_lpmf: Precision parameter[2] is nan, but must be > 0!  (in '/home/jovyan/work/notebooks/../models/model6.5_negbinom_matrix_correlation_features_oos_optim_otherbucket_samplevariance.stan' at line 131)\n",
      "[Chain 1] \n",
      "[Chain 1] Rejecting initial value:\n",
      "[Chain 1]   Error evaluating the log probability at the initial value.\n",
      "[Chain 1] Exception: neg_binomial_2_log_lpmf: Precision parameter[4] is nan, but must be > 0!  (in '/home/jovyan/work/notebooks/../models/model6.5_negbinom_matrix_correlation_features_oos_optim_otherbucket_samplevariance.stan' at line 131)\n",
      "[Chain 1] \n",
      "[Chain 1] Rejecting initial value:\n",
      "[Chain 1]   Error evaluating the log probability at the initial value.\n",
      "[Chain 1] Exception: neg_binomial_2_log_lpmf: Precision parameter[1] is nan, but must be > 0!  (in '/home/jovyan/work/notebooks/../models/model6.5_negbinom_matrix_correlation_features_oos_optim_otherbucket_samplevariance.stan' at line 131)\n",
      "[Chain 1] \n",
      "[Chain 1] Rejecting initial value:\n",
      "[Chain 1]   Error evaluating the log probability at the initial value.\n",
      "[Chain 1] Exception: neg_binomial_2_log_lpmf: Precision parameter[1] is nan, but must be > 0!  (in '/home/jovyan/work/notebooks/../models/model6.5_negbinom_matrix_correlation_features_oos_optim_otherbucket_samplevariance.stan' at line 131)\n",
      "[Chain 1] \n",
      "[Chain 1] Rejecting initial value:\n",
      "[Chain 1]   Error evaluating the log probability at the initial value.\n",
      "[Chain 1] Exception: neg_binomial_2_log_lpmf: Precision parameter[2] is nan, but must be > 0!  (in '/home/jovyan/work/notebooks/../models/model6.5_negbinom_matrix_correlation_features_oos_optim_otherbucket_samplevariance.stan' at line 131)\n",
      "[Chain 1] \n",
      "[Chain 1] Rejecting initial value:\n",
      "[Chain 1]   Error evaluating the log probability at the initial value.\n",
      "[Chain 1] Exception: neg_binomial_2_log_lpmf: Precision parameter[4] is nan, but must be > 0!  (in '/home/jovyan/work/notebooks/../models/model6.5_negbinom_matrix_correlation_features_oos_optim_otherbucket_samplevariance.stan' at line 131)\n",
      "[Chain 1] \n",
      "[Chain 1] Rejecting initial value:\n",
      "[Chain 1]   Error evaluating the log probability at the initial value.\n",
      "[Chain 1] Exception: neg_binomial_2_log_lpmf: Precision parameter[1] is nan, but must be > 0!  (in '/home/jovyan/work/notebooks/../models/model6.5_negbinom_matrix_correlation_features_oos_optim_otherbucket_samplevariance.stan' at line 131)\n",
      "[Chain 1] \n",
      "[Chain 1] Rejecting initial value:\n",
      "[Chain 1]   Error evaluating the log probability at the initial value.\n",
      "[Chain 1] Exception: neg_binomial_2_log_lpmf: Precision parameter[1] is nan, but must be > 0!  (in '/home/jovyan/work/notebooks/../models/model6.5_negbinom_matrix_correlation_features_oos_optim_otherbucket_samplevariance.stan' at line 131)\n",
      "[Chain 1] \n",
      "[Chain 1] Rejecting initial value:\n",
      "[Chain 1]   Error evaluating the log probability at the initial value.\n",
      "[Chain 1] Exception: neg_binomial_2_log_lpmf: Precision parameter[2] is nan, but must be > 0!  (in '/home/jovyan/work/notebooks/../models/model6.5_negbinom_matrix_correlation_features_oos_optim_otherbucket_samplevariance.stan' at line 131)\n",
      "[Chain 1] \n",
      "[Chain 1] Rejecting initial value:\n",
      "[Chain 1]   Error evaluating the log probability at the initial value.\n",
      "[Chain 1] Exception: neg_binomial_2_log_lpmf: Precision parameter[2] is nan, but must be > 0!  (in '/home/jovyan/work/notebooks/../models/model6.5_negbinom_matrix_correlation_features_oos_optim_otherbucket_samplevariance.stan' at line 131)\n",
      "[Chain 1] \n",
      "[Chain 1] Rejecting initial value:\n",
      "[Chain 1]   Error evaluating the log probability at the initial value.\n",
      "[Chain 1] Exception: neg_binomial_2_log_lpmf: Precision parameter[2] is nan, but must be > 0!  (in '/home/jovyan/work/notebooks/../models/model6.5_negbinom_matrix_correlation_features_oos_optim_otherbucket_samplevariance.stan' at line 131)\n",
      "[Chain 1] \n",
      "[Chain 1] Rejecting initial value:\n",
      "[Chain 1]   Error evaluating the log probability at the initial value.\n",
      "[Chain 1] Exception: neg_binomial_2_log_lpmf: Precision parameter[2] is nan, but must be > 0!  (in '/home/jovyan/work/notebooks/../models/model6.5_negbinom_matrix_correlation_features_oos_optim_otherbucket_samplevariance.stan' at line 131)\n",
      "[Chain 1] \n",
      "[Chain 1] Rejecting initial value:\n",
      "[Chain 1]   Error evaluating the log probability at the initial value.\n",
      "[Chain 1] Exception: neg_binomial_2_log_lpmf: Precision parameter[2] is nan, but must be > 0!  (in '/home/jovyan/work/notebooks/../models/model6.5_negbinom_matrix_correlation_features_oos_optim_otherbucket_samplevariance.stan' at line 131)\n",
      "[Chain 1] \n",
      "[Chain 1] Rejecting initial value:\n",
      "[Chain 1]   Error evaluating the log probability at the initial value.\n",
      "[Chain 1] Exception: neg_binomial_2_log_lpmf: Precision parameter[2] is nan, but must be > 0!  (in '/home/jovyan/work/notebooks/../models/model6.5_negbinom_matrix_correlation_features_oos_optim_otherbucket_samplevariance.stan' at line 131)\n",
      "[Chain 1] \n",
      "[Chain 1] Rejecting initial value:\n",
      "[Chain 1]   Error evaluating the log probability at the initial value.\n",
      "[Chain 1] Exception: neg_binomial_2_log_lpmf: Precision parameter[3] is nan, but must be > 0!  (in '/home/jovyan/work/notebooks/../models/model6.5_negbinom_matrix_correlation_features_oos_optim_otherbucket_samplevariance.stan' at line 131)\n",
      "[Chain 1] \n",
      "[Chain 1] Rejecting initial value:\n",
      "[Chain 1]   Error evaluating the log probability at the initial value.\n",
      "[Chain 1] Exception: neg_binomial_2_log_lpmf: Precision parameter[2] is nan, but must be > 0!  (in '/home/jovyan/work/notebooks/../models/model6.5_negbinom_matrix_correlation_features_oos_optim_otherbucket_samplevariance.stan' at line 131)\n",
      "[Chain 1] \n",
      "[Chain 1] Rejecting initial value:\n",
      "[Chain 1]   Error evaluating the log probability at the initial value.\n",
      "[Chain 1] Exception: neg_binomial_2_log_lpmf: Precision parameter[3] is nan, but must be > 0!  (in '/home/jovyan/work/notebooks/../models/model6.5_negbinom_matrix_correlation_features_oos_optim_otherbucket_samplevariance.stan' at line 131)\n",
      "[Chain 1] \n",
      "[Chain 1] Rejecting initial value:\n",
      "[Chain 1]   Error evaluating the log probability at the initial value.\n",
      "[Chain 1] Exception: neg_binomial_2_log_lpmf: Precision parameter[4] is nan, but must be > 0!  (in '/home/jovyan/work/notebooks/../models/model6.5_negbinom_matrix_correlation_features_oos_optim_otherbucket_samplevariance.stan' at line 131)\n",
      "[Chain 1] \n",
      "[Chain 1] Rejecting initial value:\n",
      "[Chain 1]   Error evaluating the log probability at the initial value.\n",
      "[Chain 1] Exception: neg_binomial_2_log_lpmf: Precision parameter[1] is nan, but must be > 0!  (in '/home/jovyan/work/notebooks/../models/model6.5_negbinom_matrix_correlation_features_oos_optim_otherbucket_samplevariance.stan' at line 131)\n",
      "[Chain 1] \n",
      "[Chain 1] Rejecting initial value:\n",
      "[Chain 1]   Error evaluating the log probability at the initial value.\n",
      "[Chain 1] Exception: neg_binomial_2_log_lpmf: Precision parameter[1] is nan, but must be > 0!  (in '/home/jovyan/work/notebooks/../models/model6.5_negbinom_matrix_correlation_features_oos_optim_otherbucket_samplevariance.stan' at line 131)\n",
      "[Chain 1] \n",
      "[Chain 1] Rejecting initial value:\n",
      "[Chain 1]   Error evaluating the log probability at the initial value.\n",
      "[Chain 1] Exception: neg_binomial_2_log_lpmf: Precision parameter[1] is nan, but must be > 0!  (in '/home/jovyan/work/notebooks/../models/model6.5_negbinom_matrix_correlation_features_oos_optim_otherbucket_samplevariance.stan' at line 131)\n",
      "[Chain 1] \n",
      "[Chain 1] Rejecting initial value:\n",
      "[Chain 1]   Error evaluating the log probability at the initial value.\n",
      "[Chain 1] Exception: neg_binomial_2_log_lpmf: Precision parameter[1] is nan, but must be > 0!  (in '/home/jovyan/work/notebooks/../models/model6.5_negbinom_matrix_correlation_features_oos_optim_otherbucket_samplevariance.stan' at line 131)\n",
      "[Chain 1] \n",
      "[Chain 1] Rejecting initial value:\n",
      "[Chain 1]   Error evaluating the log probability at the initial value.\n",
      "[Chain 1] Exception: neg_binomial_2_log_lpmf: Precision parameter[2] is nan, but must be > 0!  (in '/home/jovyan/work/notebooks/../models/model6.5_negbinom_matrix_correlation_features_oos_optim_otherbucket_samplevariance.stan' at line 131)\n",
      "[Chain 1] \n",
      "[Chain 1] Rejecting initial value:\n",
      "[Chain 1]   Error evaluating the log probability at the initial value.\n",
      "[Chain 1] Exception: neg_binomial_2_log_lpmf: Precision parameter[1] is nan, but must be > 0!  (in '/home/jovyan/work/notebooks/../models/model6.5_negbinom_matrix_correlation_features_oos_optim_otherbucket_samplevariance.stan' at line 131)\n",
      "[Chain 1] \n",
      "[Chain 1] Rejecting initial value:\n",
      "[Chain 1]   Error evaluating the log probability at the initial value.\n",
      "[Chain 1] Exception: neg_binomial_2_log_lpmf: Precision parameter[1] is nan, but must be > 0!  (in '/home/jovyan/work/notebooks/../models/model6.5_negbinom_matrix_correlation_features_oos_optim_otherbucket_samplevariance.stan' at line 131)\n",
      "[Chain 1] \n",
      "[Chain 1] Rejecting initial value:\n",
      "[Chain 1]   Error evaluating the log probability at the initial value.\n",
      "[Chain 1] Exception: neg_binomial_2_log_lpmf: Precision parameter[1] is nan, but must be > 0!  (in '/home/jovyan/work/notebooks/../models/model6.5_negbinom_matrix_correlation_features_oos_optim_otherbucket_samplevariance.stan' at line 131)\n",
      "[Chain 1] \n",
      "[Chain 1] Rejecting initial value:\n",
      "[Chain 1]   Error evaluating the log probability at the initial value.\n",
      "[Chain 1] Exception: neg_binomial_2_log_lpmf: Precision parameter[2] is nan, but must be > 0!  (in '/home/jovyan/work/notebooks/../models/model6.5_negbinom_matrix_correlation_features_oos_optim_otherbucket_samplevariance.stan' at line 131)\n",
      "[Chain 1] \n",
      "[Chain 1] Rejecting initial value:\n",
      "[Chain 1]   Error evaluating the log probability at the initial value.\n",
      "[Chain 1] Exception: neg_binomial_2_log_lpmf: Precision parameter[1] is nan, but must be > 0!  (in '/home/jovyan/work/notebooks/../models/model6.5_negbinom_matrix_correlation_features_oos_optim_otherbucket_samplevariance.stan' at line 131)\n",
      "[Chain 1] \n",
      "[Chain 1] Rejecting initial value:\n",
      "[Chain 1]   Error evaluating the log probability at the initial value.\n",
      "[Chain 1] Exception: neg_binomial_2_log_lpmf: Precision parameter[2] is nan, but must be > 0!  (in '/home/jovyan/work/notebooks/../models/model6.5_negbinom_matrix_correlation_features_oos_optim_otherbucket_samplevariance.stan' at line 131)\n",
      "[Chain 1] \n",
      "[Chain 1] Rejecting initial value:\n",
      "[Chain 1]   Error evaluating the log probability at the initial value.\n",
      "[Chain 1] Exception: neg_binomial_2_log_lpmf: Precision parameter[3] is nan, but must be > 0!  (in '/home/jovyan/work/notebooks/../models/model6.5_negbinom_matrix_correlation_features_oos_optim_otherbucket_samplevariance.stan' at line 131)\n",
      "[Chain 1] \n",
      "[Chain 1] Rejecting initial value:\n",
      "[Chain 1]   Error evaluating the log probability at the initial value.\n",
      "[Chain 1] Exception: neg_binomial_2_log_lpmf: Precision parameter[1] is nan, but must be > 0!  (in '/home/jovyan/work/notebooks/../models/model6.5_negbinom_matrix_correlation_features_oos_optim_otherbucket_samplevariance.stan' at line 131)\n",
      "[Chain 1] \n",
      "[Chain 1] Rejecting initial value:\n",
      "[Chain 1]   Error evaluating the log probability at the initial value.\n",
      "[Chain 1] Exception: neg_binomial_2_log_lpmf: Precision parameter[3] is nan, but must be > 0!  (in '/home/jovyan/work/notebooks/../models/model6.5_negbinom_matrix_correlation_features_oos_optim_otherbucket_samplevariance.stan' at line 131)\n",
      "[Chain 1] \n",
      "[Chain 1] Rejecting initial value:\n",
      "[Chain 1]   Error evaluating the log probability at the initial value.\n",
      "[Chain 1] Exception: neg_binomial_2_log_lpmf: Precision parameter[1] is nan, but must be > 0!  (in '/home/jovyan/work/notebooks/../models/model6.5_negbinom_matrix_correlation_features_oos_optim_otherbucket_samplevariance.stan' at line 131)\n",
      "[Chain 1] \n",
      "[Chain 1] Rejecting initial value:\n",
      "[Chain 1]   Error evaluating the log probability at the initial value.\n",
      "[Chain 1] Exception: neg_binomial_2_log_lpmf: Precision parameter[4] is nan, but must be > 0!  (in '/home/jovyan/work/notebooks/../models/model6.5_negbinom_matrix_correlation_features_oos_optim_otherbucket_samplevariance.stan' at line 131)\n",
      "[Chain 1] \n",
      "[Chain 1] Rejecting initial value:\n",
      "[Chain 1]   Error evaluating the log probability at the initial value.\n",
      "[Chain 1] Exception: neg_binomial_2_log_lpmf: Precision parameter[1] is nan, but must be > 0!  (in '/home/jovyan/work/notebooks/../models/model6.5_negbinom_matrix_correlation_features_oos_optim_otherbucket_samplevariance.stan' at line 131)\n",
      "[Chain 1] \n",
      "[Chain 1] Rejecting initial value:\n",
      "[Chain 1]   Error evaluating the log probability at the initial value.\n",
      "[Chain 1] Exception: neg_binomial_2_log_lpmf: Precision parameter[2] is nan, but must be > 0!  (in '/home/jovyan/work/notebooks/../models/model6.5_negbinom_matrix_correlation_features_oos_optim_otherbucket_samplevariance.stan' at line 131)\n",
      "[Chain 1] \n",
      "[Chain 1] Rejecting initial value:\n",
      "[Chain 1]   Error evaluating the log probability at the initial value.\n",
      "[Chain 1] Exception: neg_binomial_2_log_lpmf: Precision parameter[2] is nan, but must be > 0!  (in '/home/jovyan/work/notebooks/../models/model6.5_negbinom_matrix_correlation_features_oos_optim_otherbucket_samplevariance.stan' at line 131)\n",
      "[Chain 1] \n",
      "[Chain 1] Rejecting initial value:\n",
      "[Chain 1]   Error evaluating the log probability at the initial value.\n",
      "[Chain 1] Exception: neg_binomial_2_log_lpmf: Precision parameter[1] is nan, but must be > 0!  (in '/home/jovyan/work/notebooks/../models/model6.5_negbinom_matrix_correlation_features_oos_optim_otherbucket_samplevariance.stan' at line 131)\n",
      "[Chain 1] \n",
      "[Chain 1] Rejecting initial value:\n",
      "[Chain 1]   Error evaluating the log probability at the initial value.\n",
      "[Chain 1] Exception: neg_binomial_2_log_lpmf: Precision parameter[1] is nan, but must be > 0!  (in '/home/jovyan/work/notebooks/../models/model6.5_negbinom_matrix_correlation_features_oos_optim_otherbucket_samplevariance.stan' at line 131)\n",
      "[Chain 1] \n",
      "[Chain 1] Rejecting initial value:\n",
      "[Chain 1]   Error evaluating the log probability at the initial value.\n",
      "[Chain 1] Exception: neg_binomial_2_log_lpmf: Precision parameter[1] is nan, but must be > 0!  (in '/home/jovyan/work/notebooks/../models/model6.5_negbinom_matrix_correlation_features_oos_optim_otherbucket_samplevariance.stan' at line 131)\n",
      "[Chain 1] \n",
      "[Chain 1] Rejecting initial value:\n",
      "[Chain 1]   Error evaluating the log probability at the initial value.\n",
      "[Chain 1] Exception: neg_binomial_2_log_lpmf: Precision parameter[1] is nan, but must be > 0!  (in '/home/jovyan/work/notebooks/../models/model6.5_negbinom_matrix_correlation_features_oos_optim_otherbucket_samplevariance.stan' at line 131)\n",
      "[Chain 1] \n",
      "[Chain 1] Rejecting initial value:\n",
      "[Chain 1]   Error evaluating the log probability at the initial value.\n",
      "[Chain 1] Exception: neg_binomial_2_log_lpmf: Precision parameter[2] is nan, but must be > 0!  (in '/home/jovyan/work/notebooks/../models/model6.5_negbinom_matrix_correlation_features_oos_optim_otherbucket_samplevariance.stan' at line 131)\n",
      "[Chain 1] \n",
      "[Chain 1] Rejecting initial value:\n",
      "[Chain 1]   Error evaluating the log probability at the initial value.\n",
      "[Chain 1] Exception: neg_binomial_2_log_lpmf: Precision parameter[1] is nan, but must be > 0!  (in '/home/jovyan/work/notebooks/../models/model6.5_negbinom_matrix_correlation_features_oos_optim_otherbucket_samplevariance.stan' at line 131)\n",
      "[Chain 1] \n",
      "[Chain 1] Rejecting initial value:\n",
      "[Chain 1]   Error evaluating the log probability at the initial value.\n",
      "[Chain 1] Exception: neg_binomial_2_log_lpmf: Precision parameter[2] is nan, but must be > 0!  (in '/home/jovyan/work/notebooks/../models/model6.5_negbinom_matrix_correlation_features_oos_optim_otherbucket_samplevariance.stan' at line 131)\n",
      "[Chain 1] \n",
      "[Chain 1] Rejecting initial value:\n",
      "[Chain 1]   Error evaluating the log probability at the initial value.\n",
      "[Chain 1] Exception: neg_binomial_2_log_lpmf: Precision parameter[1] is nan, but must be > 0!  (in '/home/jovyan/work/notebooks/../models/model6.5_negbinom_matrix_correlation_features_oos_optim_otherbucket_samplevariance.stan' at line 131)\n",
      "[Chain 1] \n",
      "[Chain 1] Rejecting initial value:\n",
      "[Chain 1]   Error evaluating the log probability at the initial value.\n",
      "[Chain 1] Exception: neg_binomial_2_log_lpmf: Precision parameter[3] is nan, but must be > 0!  (in '/home/jovyan/work/notebooks/../models/model6.5_negbinom_matrix_correlation_features_oos_optim_otherbucket_samplevariance.stan' at line 131)\n",
      "[Chain 1] \n",
      "[Chain 1] Rejecting initial value:\n",
      "[Chain 1]   Error evaluating the log probability at the initial value.\n",
      "[Chain 1] Exception: neg_binomial_2_log_lpmf: Precision parameter[1] is nan, but must be > 0!  (in '/home/jovyan/work/notebooks/../models/model6.5_negbinom_matrix_correlation_features_oos_optim_otherbucket_samplevariance.stan' at line 131)\n",
      "[Chain 1] \n",
      "[Chain 1] Rejecting initial value:\n",
      "[Chain 1]   Error evaluating the log probability at the initial value.\n",
      "[Chain 1] Exception: neg_binomial_2_log_lpmf: Precision parameter[2] is nan, but must be > 0!  (in '/home/jovyan/work/notebooks/../models/model6.5_negbinom_matrix_correlation_features_oos_optim_otherbucket_samplevariance.stan' at line 131)\n",
      "[Chain 1] \n",
      "[Chain 1] Rejecting initial value:\n",
      "[Chain 1]   Error evaluating the log probability at the initial value.\n",
      "[Chain 1] Exception: neg_binomial_2_log_lpmf: Precision parameter[2] is nan, but must be > 0!  (in '/home/jovyan/work/notebooks/../models/model6.5_negbinom_matrix_correlation_features_oos_optim_otherbucket_samplevariance.stan' at line 131)\n",
      "[Chain 1] \n",
      "[Chain 1] Rejecting initial value:\n",
      "[Chain 1]   Error evaluating the log probability at the initial value.\n",
      "[Chain 1] Exception: neg_binomial_2_log_lpmf: Precision parameter[2] is nan, but must be > 0!  (in '/home/jovyan/work/notebooks/../models/model6.5_negbinom_matrix_correlation_features_oos_optim_otherbucket_samplevariance.stan' at line 131)\n",
      "[Chain 1] \n",
      "[Chain 1] Rejecting initial value:\n",
      "[Chain 1]   Error evaluating the log probability at the initial value.\n",
      "[Chain 1] Exception: neg_binomial_2_log_lpmf: Precision parameter[1] is nan, but must be > 0!  (in '/home/jovyan/work/notebooks/../models/model6.5_negbinom_matrix_correlation_features_oos_optim_otherbucket_samplevariance.stan' at line 131)\n",
      "[Chain 1] \n",
      "[Chain 1] Rejecting initial value:\n",
      "[Chain 1]   Error evaluating the log probability at the initial value.\n",
      "[Chain 1] Exception: neg_binomial_2_log_lpmf: Precision parameter[1] is nan, but must be > 0!  (in '/home/jovyan/work/notebooks/../models/model6.5_negbinom_matrix_correlation_features_oos_optim_otherbucket_samplevariance.stan' at line 131)\n",
      "[Chain 1] \n",
      "[Chain 1] Rejecting initial value:\n",
      "[Chain 1]   Error evaluating the log probability at the initial value.\n",
      "[Chain 1] Exception: neg_binomial_2_log_lpmf: Precision parameter[1] is nan, but must be > 0!  (in '/home/jovyan/work/notebooks/../models/model6.5_negbinom_matrix_correlation_features_oos_optim_otherbucket_samplevariance.stan' at line 131)\n",
      "[Chain 1] \n",
      "[Chain 1] Rejecting initial value:\n",
      "[Chain 1]   Error evaluating the log probability at the initial value.\n",
      "[Chain 1] Exception: neg_binomial_2_log_lpmf: Precision parameter[1] is nan, but must be > 0!  (in '/home/jovyan/work/notebooks/../models/model6.5_negbinom_matrix_correlation_features_oos_optim_otherbucket_samplevariance.stan' at line 131)\n",
      "[Chain 1] \n",
      "[Chain 1] Rejecting initial value:\n",
      "[Chain 1]   Error evaluating the log probability at the initial value.\n",
      "[Chain 1] Exception: neg_binomial_2_log_lpmf: Precision parameter[1] is nan, but must be > 0!  (in '/home/jovyan/work/notebooks/../models/model6.5_negbinom_matrix_correlation_features_oos_optim_otherbucket_samplevariance.stan' at line 131)\n",
      "[Chain 1] \n",
      "[Chain 1] Rejecting initial value:\n",
      "[Chain 1]   Error evaluating the log probability at the initial value.\n",
      "[Chain 1] Exception: neg_binomial_2_log_lpmf: Precision parameter[3] is nan, but must be > 0!  (in '/home/jovyan/work/notebooks/../models/model6.5_negbinom_matrix_correlation_features_oos_optim_otherbucket_samplevariance.stan' at line 131)\n",
      "[Chain 1] \n",
      "[Chain 1] Rejecting initial value:\n",
      "[Chain 1]   Error evaluating the log probability at the initial value.\n",
      "[Chain 1] Exception: neg_binomial_2_log_lpmf: Precision parameter[1] is nan, but must be > 0!  (in '/home/jovyan/work/notebooks/../models/model6.5_negbinom_matrix_correlation_features_oos_optim_otherbucket_samplevariance.stan' at line 131)\n",
      "[Chain 1] \n",
      "[Chain 1] \n",
      "[Chain 1] Initialization between (-2, 2) failed after 100 attempts. \n",
      "[Chain 1]  Try specifying initial values, reducing ranges of constrained values, or reparameterizing the model.\n",
      "[Chain 1] Initialization failed.\n",
      "[Chain 1] Execution completed, return code: 70\n",
      " stansummary --csv_file=out/experiment_rcc.test.chunked.chunk-1-of-2.model6_5.stansummary.csv out/experiment_rcc.test.chunked.chunk-1-of-2.model6_5.samples.1.csv > /dev/null;\n",
      "stansummary completed, return code: 134\n",
      "Run complete. Chain metadata pickled out.\n"
     ]
    }
   ],
   "source": [
    "!execute-model \\\n",
    "--train_samples out/experiment_rcc.training.expression.tsv \\\n",
    "--train_xdata out/experiment_rcc.training.xdata.tsv \\\n",
    "--train_cellfeatures out/singleorigin_plus_rcctils.combined.cellfeatures.tsv \\\n",
    "--test_samples out/experiment_rcc.test.chunked.chunk-1-of-2.tsv \\\n",
    "--n_chains 1 \\\n",
    "--output_name out/experiment_rcc.test.chunked.chunk-1-of-2.model6_5 \\\n",
    "--model_executable ../models/model6.5_negbinom_matrix_correlation_features_oos_optim_otherbucket_samplevariance \\\n",
    "--num_samples 2 \\\n",
    "--num_warmup 2;"
   ]
  },
  {
   "cell_type": "code",
   "execution_count": null,
   "metadata": {},
   "outputs": [],
   "source": []
  },
  {
   "cell_type": "markdown",
   "metadata": {},
   "source": [
    "## VI is possible too:\n",
    "\n",
    "As usual, we do a dry run first:"
   ]
  },
  {
   "cell_type": "code",
   "execution_count": 26,
   "metadata": {
    "ExecuteTime": {
     "end_time": "2018-01-28T21:16:24.460438Z",
     "start_time": "2018-01-28T21:16:17.090937Z"
    }
   },
   "outputs": [
    {
     "name": "stdout",
     "output_type": "stream",
     "text": [
      "Launching chain:  1\r\n",
      "[Chain 1] ../models/model6.5_negbinom_matrix_correlation_features_oos_optim_otherbucket_samplevariance method=variational iter=2000 output_samples=1000 random seed=1299699189 id=1 data file=out/experiment_rcc.test.chunked.chunk-1-of-2.model6_5.standata.Rdump output file=out/experiment_rcc.test.chunked.chunk-1-of-2.model6_5.samples.1.csv refresh=25\r\n",
      "[Chain 1] Execution completed, return code: 0\r\n",
      "echo stansummary --csv_file=out/experiment_rcc.test.chunked.chunk-1-of-2.model6_5.stansummary.csv out/experiment_rcc.test.chunked.chunk-1-of-2.model6_5.samples.1.csv > /dev/null;\r\n",
      "stansummary completed, return code: 0\r\n",
      "Run complete. Chain metadata pickled out.\r\n"
     ]
    }
   ],
   "source": [
    "!execute-model \\\n",
    "--train_samples out/experiment_rcc.training.expression.tsv \\\n",
    "--train_xdata out/experiment_rcc.training.xdata.tsv \\\n",
    "--train_cellfeatures out/singleorigin_plus_rcctils.combined.cellfeatures.tsv \\\n",
    "--test_samples out/experiment_rcc.test.chunked.chunk-1-of-2.tsv \\\n",
    "--n_chains 1 \\\n",
    "--output_name out/experiment_rcc.test.chunked.chunk-1-of-2.model6_5 \\\n",
    "--model_executable ../models/model6.5_negbinom_matrix_correlation_features_oos_optim_otherbucket_samplevariance \\\n",
    "--num_samples 1000 \\\n",
    "--num_warmup 1000 \\\n",
    "--vi \\\n",
    "--dry_run;"
   ]
  },
  {
   "cell_type": "code",
   "execution_count": 27,
   "metadata": {
    "ExecuteTime": {
     "end_time": "2018-01-28T21:19:45.447487Z",
     "start_time": "2018-01-28T21:16:30.820595Z"
    }
   },
   "outputs": [
    {
     "name": "stdout",
     "output_type": "stream",
     "text": [
      "Launching chain:  1\n",
      "[Chain 1] method = variational\n",
      "[Chain 1]   variational\n",
      "[Chain 1]     algorithm = meanfield (Default)\n",
      "[Chain 1]       meanfield\n",
      "[Chain 1]     iter = 2000\n",
      "[Chain 1]     grad_samples = 1 (Default)\n",
      "[Chain 1]     elbo_samples = 100 (Default)\n",
      "[Chain 1]     eta = 1 (Default)\n",
      "[Chain 1]     adapt\n",
      "[Chain 1]       engaged = 1 (Default)\n",
      "[Chain 1]       iter = 50 (Default)\n",
      "[Chain 1]     tol_rel_obj = 0.01 (Default)\n",
      "[Chain 1]     eval_elbo = 100 (Default)\n",
      "[Chain 1]     output_samples = 1000 (Default)\n",
      "[Chain 1] id = 1\n",
      "[Chain 1] data\n",
      "[Chain 1]   file = out/experiment_rcc.test.chunked.chunk-1-of-2.model6_5.standata.Rdump\n",
      "[Chain 1] init = 2 (Default)\n",
      "[Chain 1] random\n",
      "[Chain 1]   seed = 570512503\n",
      "[Chain 1] output\n",
      "[Chain 1]   file = out/experiment_rcc.test.chunked.chunk-1-of-2.model6_5.samples.1.csv\n",
      "[Chain 1]   diagnostic_file =  (Default)\n",
      "[Chain 1]   refresh = 25\n",
      "[Chain 1] \n",
      "[Chain 1] ------------------------------------------------------------\n",
      "[Chain 1] EXPERIMENTAL ALGORITHM:\n",
      "[Chain 1]   This procedure has not been thoroughly tested and may be unstable\n",
      "[Chain 1]   or buggy. The interface is subject to change.\n",
      "[Chain 1] ------------------------------------------------------------\n",
      "[Chain 1] \n",
      "[Chain 1] \n",
      "[Chain 1] Rejecting initial value:\n",
      "[Chain 1]   Error evaluating the log probability at the initial value.\n",
      "[Chain 1] Exception: neg_binomial_2_log_lpmf: Precision parameter[4] is nan, but must be > 0!  (in '/home/jovyan/work/notebooks/../models/model6.5_negbinom_matrix_correlation_features_oos_optim_otherbucket_samplevariance.stan' at line 131)\n",
      "[Chain 1] \n",
      "[Chain 1] Rejecting initial value:\n",
      "[Chain 1]   Error evaluating the log probability at the initial value.\n",
      "[Chain 1] Exception: neg_binomial_2_log_lpmf: Precision parameter[1] is nan, but must be > 0!  (in '/home/jovyan/work/notebooks/../models/model6.5_negbinom_matrix_correlation_features_oos_optim_otherbucket_samplevariance.stan' at line 131)\n",
      "[Chain 1] \n",
      "[Chain 1] Rejecting initial value:\n",
      "[Chain 1]   Error evaluating the log probability at the initial value.\n",
      "[Chain 1] Exception: neg_binomial_2_log_lpmf: Precision parameter[1] is nan, but must be > 0!  (in '/home/jovyan/work/notebooks/../models/model6.5_negbinom_matrix_correlation_features_oos_optim_otherbucket_samplevariance.stan' at line 131)\n",
      "[Chain 1] \n",
      "[Chain 1] Rejecting initial value:\n",
      "[Chain 1]   Error evaluating the log probability at the initial value.\n",
      "[Chain 1] Exception: neg_binomial_2_log_lpmf: Precision parameter[1] is nan, but must be > 0!  (in '/home/jovyan/work/notebooks/../models/model6.5_negbinom_matrix_correlation_features_oos_optim_otherbucket_samplevariance.stan' at line 131)\n",
      "[Chain 1] \n",
      "[Chain 1] Rejecting initial value:\n",
      "[Chain 1]   Error evaluating the log probability at the initial value.\n",
      "[Chain 1] Exception: neg_binomial_2_log_lpmf: Precision parameter[1] is nan, but must be > 0!  (in '/home/jovyan/work/notebooks/../models/model6.5_negbinom_matrix_correlation_features_oos_optim_otherbucket_samplevariance.stan' at line 131)\n",
      "[Chain 1] \n",
      "[Chain 1] Rejecting initial value:\n",
      "[Chain 1]   Error evaluating the log probability at the initial value.\n",
      "[Chain 1] Exception: neg_binomial_2_log_lpmf: Precision parameter[2] is nan, but must be > 0!  (in '/home/jovyan/work/notebooks/../models/model6.5_negbinom_matrix_correlation_features_oos_optim_otherbucket_samplevariance.stan' at line 131)\n",
      "[Chain 1] \n",
      "[Chain 1] Rejecting initial value:\n",
      "[Chain 1]   Error evaluating the log probability at the initial value.\n",
      "[Chain 1] Exception: neg_binomial_2_log_lpmf: Precision parameter[2] is nan, but must be > 0!  (in '/home/jovyan/work/notebooks/../models/model6.5_negbinom_matrix_correlation_features_oos_optim_otherbucket_samplevariance.stan' at line 131)\n",
      "[Chain 1] \n",
      "[Chain 1] Rejecting initial value:\n",
      "[Chain 1]   Error evaluating the log probability at the initial value.\n",
      "[Chain 1] Exception: neg_binomial_2_log_lpmf: Precision parameter[1] is nan, but must be > 0!  (in '/home/jovyan/work/notebooks/../models/model6.5_negbinom_matrix_correlation_features_oos_optim_otherbucket_samplevariance.stan' at line 131)\n",
      "[Chain 1] \n",
      "[Chain 1] Rejecting initial value:\n",
      "[Chain 1]   Error evaluating the log probability at the initial value.\n",
      "[Chain 1] Exception: neg_binomial_2_log_lpmf: Precision parameter[1] is nan, but must be > 0!  (in '/home/jovyan/work/notebooks/../models/model6.5_negbinom_matrix_correlation_features_oos_optim_otherbucket_samplevariance.stan' at line 131)\n",
      "[Chain 1] \n",
      "[Chain 1] Rejecting initial value:\n",
      "[Chain 1]   Error evaluating the log probability at the initial value.\n",
      "[Chain 1] Exception: neg_binomial_2_log_lpmf: Precision parameter[2] is nan, but must be > 0!  (in '/home/jovyan/work/notebooks/../models/model6.5_negbinom_matrix_correlation_features_oos_optim_otherbucket_samplevariance.stan' at line 131)\n",
      "[Chain 1] \n",
      "[Chain 1] Rejecting initial value:\n",
      "[Chain 1]   Error evaluating the log probability at the initial value.\n",
      "[Chain 1] Exception: neg_binomial_2_log_lpmf: Precision parameter[1] is nan, but must be > 0!  (in '/home/jovyan/work/notebooks/../models/model6.5_negbinom_matrix_correlation_features_oos_optim_otherbucket_samplevariance.stan' at line 131)\n",
      "[Chain 1] \n",
      "[Chain 1] Rejecting initial value:\n",
      "[Chain 1]   Error evaluating the log probability at the initial value.\n",
      "[Chain 1] Exception: neg_binomial_2_log_lpmf: Precision parameter[1] is nan, but must be > 0!  (in '/home/jovyan/work/notebooks/../models/model6.5_negbinom_matrix_correlation_features_oos_optim_otherbucket_samplevariance.stan' at line 131)\n",
      "[Chain 1] \n",
      "[Chain 1] Rejecting initial value:\n",
      "[Chain 1]   Error evaluating the log probability at the initial value.\n",
      "[Chain 1] Exception: neg_binomial_2_log_lpmf: Precision parameter[1] is nan, but must be > 0!  (in '/home/jovyan/work/notebooks/../models/model6.5_negbinom_matrix_correlation_features_oos_optim_otherbucket_samplevariance.stan' at line 131)\n",
      "[Chain 1] \n",
      "[Chain 1] Rejecting initial value:\n",
      "[Chain 1]   Error evaluating the log probability at the initial value.\n",
      "[Chain 1] Exception: neg_binomial_2_log_lpmf: Precision parameter[1] is nan, but must be > 0!  (in '/home/jovyan/work/notebooks/../models/model6.5_negbinom_matrix_correlation_features_oos_optim_otherbucket_samplevariance.stan' at line 131)\n",
      "[Chain 1] \n",
      "[Chain 1] Rejecting initial value:\n",
      "[Chain 1]   Error evaluating the log probability at the initial value.\n",
      "[Chain 1] Exception: neg_binomial_2_log_lpmf: Precision parameter[1] is nan, but must be > 0!  (in '/home/jovyan/work/notebooks/../models/model6.5_negbinom_matrix_correlation_features_oos_optim_otherbucket_samplevariance.stan' at line 131)\n",
      "[Chain 1] \n",
      "[Chain 1] Rejecting initial value:\n",
      "[Chain 1]   Error evaluating the log probability at the initial value.\n",
      "[Chain 1] Exception: neg_binomial_2_log_lpmf: Precision parameter[4] is nan, but must be > 0!  (in '/home/jovyan/work/notebooks/../models/model6.5_negbinom_matrix_correlation_features_oos_optim_otherbucket_samplevariance.stan' at line 131)\n",
      "[Chain 1] \n",
      "[Chain 1] Rejecting initial value:\n",
      "[Chain 1]   Error evaluating the log probability at the initial value.\n",
      "[Chain 1] Exception: neg_binomial_2_log_lpmf: Precision parameter[1] is nan, but must be > 0!  (in '/home/jovyan/work/notebooks/../models/model6.5_negbinom_matrix_correlation_features_oos_optim_otherbucket_samplevariance.stan' at line 131)\n",
      "[Chain 1] \n",
      "[Chain 1] Rejecting initial value:\n",
      "[Chain 1]   Error evaluating the log probability at the initial value.\n",
      "[Chain 1] Exception: neg_binomial_2_log_lpmf: Precision parameter[1] is nan, but must be > 0!  (in '/home/jovyan/work/notebooks/../models/model6.5_negbinom_matrix_correlation_features_oos_optim_otherbucket_samplevariance.stan' at line 131)\n",
      "[Chain 1] \n",
      "[Chain 1] Rejecting initial value:\n",
      "[Chain 1]   Error evaluating the log probability at the initial value.\n",
      "[Chain 1] Exception: neg_binomial_2_log_lpmf: Precision parameter[2] is nan, but must be > 0!  (in '/home/jovyan/work/notebooks/../models/model6.5_negbinom_matrix_correlation_features_oos_optim_otherbucket_samplevariance.stan' at line 131)\n",
      "[Chain 1] \n",
      "[Chain 1] Rejecting initial value:\n",
      "[Chain 1]   Error evaluating the log probability at the initial value.\n",
      "[Chain 1] Exception: neg_binomial_2_log_lpmf: Precision parameter[2] is nan, but must be > 0!  (in '/home/jovyan/work/notebooks/../models/model6.5_negbinom_matrix_correlation_features_oos_optim_otherbucket_samplevariance.stan' at line 131)\n",
      "[Chain 1] \n",
      "[Chain 1] Rejecting initial value:\n",
      "[Chain 1]   Error evaluating the log probability at the initial value.\n",
      "[Chain 1] Exception: neg_binomial_2_log_lpmf: Precision parameter[1] is nan, but must be > 0!  (in '/home/jovyan/work/notebooks/../models/model6.5_negbinom_matrix_correlation_features_oos_optim_otherbucket_samplevariance.stan' at line 131)\n",
      "[Chain 1] \n",
      "[Chain 1] Rejecting initial value:\n",
      "[Chain 1]   Error evaluating the log probability at the initial value.\n",
      "[Chain 1] Exception: neg_binomial_2_log_lpmf: Precision parameter[3] is nan, but must be > 0!  (in '/home/jovyan/work/notebooks/../models/model6.5_negbinom_matrix_correlation_features_oos_optim_otherbucket_samplevariance.stan' at line 131)\n",
      "[Chain 1] \n",
      "[Chain 1] Rejecting initial value:\n",
      "[Chain 1]   Error evaluating the log probability at the initial value.\n",
      "[Chain 1] Exception: neg_binomial_2_log_lpmf: Precision parameter[1] is nan, but must be > 0!  (in '/home/jovyan/work/notebooks/../models/model6.5_negbinom_matrix_correlation_features_oos_optim_otherbucket_samplevariance.stan' at line 131)\n",
      "[Chain 1] \n",
      "[Chain 1] Rejecting initial value:\n",
      "[Chain 1]   Error evaluating the log probability at the initial value.\n",
      "[Chain 1] Exception: neg_binomial_2_log_lpmf: Precision parameter[1] is nan, but must be > 0!  (in '/home/jovyan/work/notebooks/../models/model6.5_negbinom_matrix_correlation_features_oos_optim_otherbucket_samplevariance.stan' at line 131)\n",
      "[Chain 1] \n",
      "[Chain 1] Rejecting initial value:\n",
      "[Chain 1]   Error evaluating the log probability at the initial value.\n",
      "[Chain 1] Exception: neg_binomial_2_log_lpmf: Precision parameter[2] is nan, but must be > 0!  (in '/home/jovyan/work/notebooks/../models/model6.5_negbinom_matrix_correlation_features_oos_optim_otherbucket_samplevariance.stan' at line 131)\n",
      "[Chain 1] \n",
      "[Chain 1] Rejecting initial value:\n",
      "[Chain 1]   Error evaluating the log probability at the initial value.\n",
      "[Chain 1] Exception: neg_binomial_2_log_lpmf: Precision parameter[3] is nan, but must be > 0!  (in '/home/jovyan/work/notebooks/../models/model6.5_negbinom_matrix_correlation_features_oos_optim_otherbucket_samplevariance.stan' at line 131)\n",
      "[Chain 1] \n",
      "[Chain 1] Rejecting initial value:\n",
      "[Chain 1]   Error evaluating the log probability at the initial value.\n",
      "[Chain 1] Exception: neg_binomial_2_log_lpmf: Precision parameter[1] is nan, but must be > 0!  (in '/home/jovyan/work/notebooks/../models/model6.5_negbinom_matrix_correlation_features_oos_optim_otherbucket_samplevariance.stan' at line 131)\n",
      "[Chain 1] \n",
      "[Chain 1] Rejecting initial value:\n",
      "[Chain 1]   Error evaluating the log probability at the initial value.\n",
      "[Chain 1] Exception: neg_binomial_2_log_lpmf: Precision parameter[5] is nan, but must be > 0!  (in '/home/jovyan/work/notebooks/../models/model6.5_negbinom_matrix_correlation_features_oos_optim_otherbucket_samplevariance.stan' at line 131)\n",
      "[Chain 1] \n",
      "[Chain 1] Rejecting initial value:\n",
      "[Chain 1]   Error evaluating the log probability at the initial value.\n",
      "[Chain 1] Exception: neg_binomial_2_log_lpmf: Precision parameter[1] is nan, but must be > 0!  (in '/home/jovyan/work/notebooks/../models/model6.5_negbinom_matrix_correlation_features_oos_optim_otherbucket_samplevariance.stan' at line 131)\n",
      "[Chain 1] \n",
      "[Chain 1] Rejecting initial value:\n",
      "[Chain 1]   Error evaluating the log probability at the initial value.\n",
      "[Chain 1] Exception: neg_binomial_2_log_lpmf: Precision parameter[1] is nan, but must be > 0!  (in '/home/jovyan/work/notebooks/../models/model6.5_negbinom_matrix_correlation_features_oos_optim_otherbucket_samplevariance.stan' at line 131)\n",
      "[Chain 1] \n",
      "[Chain 1] Rejecting initial value:\n",
      "[Chain 1]   Error evaluating the log probability at the initial value.\n",
      "[Chain 1] Exception: neg_binomial_2_log_lpmf: Precision parameter[8] is nan, but must be > 0!  (in '/home/jovyan/work/notebooks/../models/model6.5_negbinom_matrix_correlation_features_oos_optim_otherbucket_samplevariance.stan' at line 131)\n",
      "[Chain 1] \n",
      "[Chain 1] Rejecting initial value:\n",
      "[Chain 1]   Error evaluating the log probability at the initial value.\n",
      "[Chain 1] Exception: neg_binomial_2_log_lpmf: Precision parameter[3] is nan, but must be > 0!  (in '/home/jovyan/work/notebooks/../models/model6.5_negbinom_matrix_correlation_features_oos_optim_otherbucket_samplevariance.stan' at line 131)\n",
      "[Chain 1] \n",
      "[Chain 1] Rejecting initial value:\n",
      "[Chain 1]   Error evaluating the log probability at the initial value.\n",
      "[Chain 1] Exception: neg_binomial_2_log_lpmf: Precision parameter[1] is nan, but must be > 0!  (in '/home/jovyan/work/notebooks/../models/model6.5_negbinom_matrix_correlation_features_oos_optim_otherbucket_samplevariance.stan' at line 131)\n",
      "[Chain 1] \n",
      "[Chain 1] Rejecting initial value:\n",
      "[Chain 1]   Error evaluating the log probability at the initial value.\n",
      "[Chain 1] Exception: neg_binomial_2_log_lpmf: Precision parameter[1] is nan, but must be > 0!  (in '/home/jovyan/work/notebooks/../models/model6.5_negbinom_matrix_correlation_features_oos_optim_otherbucket_samplevariance.stan' at line 131)\n",
      "[Chain 1] \n",
      "[Chain 1] Rejecting initial value:\n",
      "[Chain 1]   Error evaluating the log probability at the initial value.\n",
      "[Chain 1] Exception: neg_binomial_2_log_lpmf: Precision parameter[2] is nan, but must be > 0!  (in '/home/jovyan/work/notebooks/../models/model6.5_negbinom_matrix_correlation_features_oos_optim_otherbucket_samplevariance.stan' at line 131)\n",
      "[Chain 1] \n",
      "[Chain 1] Rejecting initial value:\n",
      "[Chain 1]   Error evaluating the log probability at the initial value.\n",
      "[Chain 1] Exception: neg_binomial_2_log_lpmf: Precision parameter[3] is nan, but must be > 0!  (in '/home/jovyan/work/notebooks/../models/model6.5_negbinom_matrix_correlation_features_oos_optim_otherbucket_samplevariance.stan' at line 131)\n",
      "[Chain 1] \n",
      "[Chain 1] Rejecting initial value:\n",
      "[Chain 1]   Error evaluating the log probability at the initial value.\n",
      "[Chain 1] Exception: neg_binomial_2_log_lpmf: Precision parameter[1] is nan, but must be > 0!  (in '/home/jovyan/work/notebooks/../models/model6.5_negbinom_matrix_correlation_features_oos_optim_otherbucket_samplevariance.stan' at line 131)\n",
      "[Chain 1] \n",
      "[Chain 1] Rejecting initial value:\n",
      "[Chain 1]   Error evaluating the log probability at the initial value.\n",
      "[Chain 1] Exception: neg_binomial_2_log_lpmf: Precision parameter[5] is nan, but must be > 0!  (in '/home/jovyan/work/notebooks/../models/model6.5_negbinom_matrix_correlation_features_oos_optim_otherbucket_samplevariance.stan' at line 131)\n",
      "[Chain 1] \n",
      "[Chain 1] Rejecting initial value:\n",
      "[Chain 1]   Error evaluating the log probability at the initial value.\n",
      "[Chain 1] Exception: neg_binomial_2_log_lpmf: Precision parameter[1] is nan, but must be > 0!  (in '/home/jovyan/work/notebooks/../models/model6.5_negbinom_matrix_correlation_features_oos_optim_otherbucket_samplevariance.stan' at line 131)\n",
      "[Chain 1] \n",
      "[Chain 1] Rejecting initial value:\n",
      "[Chain 1]   Error evaluating the log probability at the initial value.\n",
      "[Chain 1] Exception: neg_binomial_2_log_lpmf: Precision parameter[1] is nan, but must be > 0!  (in '/home/jovyan/work/notebooks/../models/model6.5_negbinom_matrix_correlation_features_oos_optim_otherbucket_samplevariance.stan' at line 131)\n",
      "[Chain 1] \n",
      "[Chain 1] Rejecting initial value:\n",
      "[Chain 1]   Error evaluating the log probability at the initial value.\n",
      "[Chain 1] Exception: neg_binomial_2_log_lpmf: Precision parameter[2] is nan, but must be > 0!  (in '/home/jovyan/work/notebooks/../models/model6.5_negbinom_matrix_correlation_features_oos_optim_otherbucket_samplevariance.stan' at line 131)\n",
      "[Chain 1] \n",
      "[Chain 1] Rejecting initial value:\n",
      "[Chain 1]   Error evaluating the log probability at the initial value.\n",
      "[Chain 1] Exception: neg_binomial_2_log_lpmf: Precision parameter[2] is nan, but must be > 0!  (in '/home/jovyan/work/notebooks/../models/model6.5_negbinom_matrix_correlation_features_oos_optim_otherbucket_samplevariance.stan' at line 131)\n",
      "[Chain 1] \n",
      "[Chain 1] Rejecting initial value:\n",
      "[Chain 1]   Error evaluating the log probability at the initial value.\n",
      "[Chain 1] Exception: neg_binomial_2_log_lpmf: Precision parameter[1] is nan, but must be > 0!  (in '/home/jovyan/work/notebooks/../models/model6.5_negbinom_matrix_correlation_features_oos_optim_otherbucket_samplevariance.stan' at line 131)\n",
      "[Chain 1] \n",
      "[Chain 1] Rejecting initial value:\n",
      "[Chain 1]   Error evaluating the log probability at the initial value.\n",
      "[Chain 1] Exception: neg_binomial_2_log_lpmf: Precision parameter[4] is nan, but must be > 0!  (in '/home/jovyan/work/notebooks/../models/model6.5_negbinom_matrix_correlation_features_oos_optim_otherbucket_samplevariance.stan' at line 131)\n",
      "[Chain 1] \n",
      "[Chain 1] Rejecting initial value:\n",
      "[Chain 1]   Error evaluating the log probability at the initial value.\n",
      "[Chain 1] Exception: neg_binomial_2_log_lpmf: Precision parameter[1] is nan, but must be > 0!  (in '/home/jovyan/work/notebooks/../models/model6.5_negbinom_matrix_correlation_features_oos_optim_otherbucket_samplevariance.stan' at line 131)\n",
      "[Chain 1] \n",
      "[Chain 1] Rejecting initial value:\n",
      "[Chain 1]   Error evaluating the log probability at the initial value.\n",
      "[Chain 1] Exception: neg_binomial_2_log_lpmf: Precision parameter[1] is nan, but must be > 0!  (in '/home/jovyan/work/notebooks/../models/model6.5_negbinom_matrix_correlation_features_oos_optim_otherbucket_samplevariance.stan' at line 131)\n",
      "[Chain 1] \n",
      "[Chain 1] Rejecting initial value:\n",
      "[Chain 1]   Error evaluating the log probability at the initial value.\n",
      "[Chain 1] Exception: neg_binomial_2_log_lpmf: Precision parameter[1] is nan, but must be > 0!  (in '/home/jovyan/work/notebooks/../models/model6.5_negbinom_matrix_correlation_features_oos_optim_otherbucket_samplevariance.stan' at line 131)\n",
      "[Chain 1] \n",
      "[Chain 1] Rejecting initial value:\n",
      "[Chain 1]   Error evaluating the log probability at the initial value.\n",
      "[Chain 1] Exception: neg_binomial_2_log_lpmf: Precision parameter[1] is nan, but must be > 0!  (in '/home/jovyan/work/notebooks/../models/model6.5_negbinom_matrix_correlation_features_oos_optim_otherbucket_samplevariance.stan' at line 131)\n",
      "[Chain 1] \n",
      "[Chain 1] Rejecting initial value:\n",
      "[Chain 1]   Error evaluating the log probability at the initial value.\n",
      "[Chain 1] Exception: neg_binomial_2_log_lpmf: Precision parameter[1] is nan, but must be > 0!  (in '/home/jovyan/work/notebooks/../models/model6.5_negbinom_matrix_correlation_features_oos_optim_otherbucket_samplevariance.stan' at line 131)\n",
      "[Chain 1] \n",
      "[Chain 1] Rejecting initial value:\n",
      "[Chain 1]   Error evaluating the log probability at the initial value.\n",
      "[Chain 1] Exception: neg_binomial_2_log_lpmf: Precision parameter[7] is nan, but must be > 0!  (in '/home/jovyan/work/notebooks/../models/model6.5_negbinom_matrix_correlation_features_oos_optim_otherbucket_samplevariance.stan' at line 131)\n",
      "[Chain 1] \n",
      "[Chain 1] Rejecting initial value:\n",
      "[Chain 1]   Error evaluating the log probability at the initial value.\n",
      "[Chain 1] Exception: neg_binomial_2_log_lpmf: Precision parameter[3] is nan, but must be > 0!  (in '/home/jovyan/work/notebooks/../models/model6.5_negbinom_matrix_correlation_features_oos_optim_otherbucket_samplevariance.stan' at line 131)\n",
      "[Chain 1] \n",
      "[Chain 1] Rejecting initial value:\n",
      "[Chain 1]   Error evaluating the log probability at the initial value.\n",
      "[Chain 1] Exception: neg_binomial_2_log_lpmf: Precision parameter[4] is nan, but must be > 0!  (in '/home/jovyan/work/notebooks/../models/model6.5_negbinom_matrix_correlation_features_oos_optim_otherbucket_samplevariance.stan' at line 131)\n",
      "[Chain 1] \n",
      "[Chain 1] Rejecting initial value:\n",
      "[Chain 1]   Error evaluating the log probability at the initial value.\n",
      "[Chain 1] Exception: neg_binomial_2_log_lpmf: Precision parameter[1] is nan, but must be > 0!  (in '/home/jovyan/work/notebooks/../models/model6.5_negbinom_matrix_correlation_features_oos_optim_otherbucket_samplevariance.stan' at line 131)\n",
      "[Chain 1] \n",
      "[Chain 1] Rejecting initial value:\n",
      "[Chain 1]   Error evaluating the log probability at the initial value.\n",
      "[Chain 1] Exception: neg_binomial_2_log_lpmf: Precision parameter[3] is nan, but must be > 0!  (in '/home/jovyan/work/notebooks/../models/model6.5_negbinom_matrix_correlation_features_oos_optim_otherbucket_samplevariance.stan' at line 131)\n",
      "[Chain 1] \n",
      "[Chain 1] Rejecting initial value:\n",
      "[Chain 1]   Error evaluating the log probability at the initial value.\n",
      "[Chain 1] Exception: neg_binomial_2_log_lpmf: Precision parameter[2] is nan, but must be > 0!  (in '/home/jovyan/work/notebooks/../models/model6.5_negbinom_matrix_correlation_features_oos_optim_otherbucket_samplevariance.stan' at line 131)\n",
      "[Chain 1] \n",
      "[Chain 1] Rejecting initial value:\n",
      "[Chain 1]   Error evaluating the log probability at the initial value.\n",
      "[Chain 1] Exception: neg_binomial_2_log_lpmf: Precision parameter[2] is nan, but must be > 0!  (in '/home/jovyan/work/notebooks/../models/model6.5_negbinom_matrix_correlation_features_oos_optim_otherbucket_samplevariance.stan' at line 131)\n",
      "[Chain 1] \n",
      "[Chain 1] Rejecting initial value:\n",
      "[Chain 1]   Error evaluating the log probability at the initial value.\n",
      "[Chain 1] Exception: neg_binomial_2_log_lpmf: Precision parameter[1] is nan, but must be > 0!  (in '/home/jovyan/work/notebooks/../models/model6.5_negbinom_matrix_correlation_features_oos_optim_otherbucket_samplevariance.stan' at line 131)\n",
      "[Chain 1] \n",
      "[Chain 1] Rejecting initial value:\n",
      "[Chain 1]   Error evaluating the log probability at the initial value.\n",
      "[Chain 1] Exception: neg_binomial_2_log_lpmf: Precision parameter[4] is nan, but must be > 0!  (in '/home/jovyan/work/notebooks/../models/model6.5_negbinom_matrix_correlation_features_oos_optim_otherbucket_samplevariance.stan' at line 131)\n",
      "[Chain 1] \n",
      "[Chain 1] Rejecting initial value:\n",
      "[Chain 1]   Error evaluating the log probability at the initial value.\n",
      "[Chain 1] Exception: neg_binomial_2_log_lpmf: Precision parameter[1] is nan, but must be > 0!  (in '/home/jovyan/work/notebooks/../models/model6.5_negbinom_matrix_correlation_features_oos_optim_otherbucket_samplevariance.stan' at line 131)\n",
      "[Chain 1] \n",
      "[Chain 1] Rejecting initial value:\n",
      "[Chain 1]   Error evaluating the log probability at the initial value.\n",
      "[Chain 1] Exception: neg_binomial_2_log_lpmf: Precision parameter[3] is nan, but must be > 0!  (in '/home/jovyan/work/notebooks/../models/model6.5_negbinom_matrix_correlation_features_oos_optim_otherbucket_samplevariance.stan' at line 131)\n",
      "[Chain 1] \n",
      "[Chain 1] Rejecting initial value:\n",
      "[Chain 1]   Error evaluating the log probability at the initial value.\n",
      "[Chain 1] Exception: neg_binomial_2_log_lpmf: Precision parameter[4] is nan, but must be > 0!  (in '/home/jovyan/work/notebooks/../models/model6.5_negbinom_matrix_correlation_features_oos_optim_otherbucket_samplevariance.stan' at line 131)\n",
      "[Chain 1] \n",
      "[Chain 1] Rejecting initial value:\n",
      "[Chain 1]   Error evaluating the log probability at the initial value.\n",
      "[Chain 1] Exception: neg_binomial_2_log_lpmf: Precision parameter[3] is nan, but must be > 0!  (in '/home/jovyan/work/notebooks/../models/model6.5_negbinom_matrix_correlation_features_oos_optim_otherbucket_samplevariance.stan' at line 131)\n",
      "[Chain 1] \n",
      "[Chain 1] Rejecting initial value:\n",
      "[Chain 1]   Error evaluating the log probability at the initial value.\n",
      "[Chain 1] Exception: neg_binomial_2_log_lpmf: Precision parameter[1] is nan, but must be > 0!  (in '/home/jovyan/work/notebooks/../models/model6.5_negbinom_matrix_correlation_features_oos_optim_otherbucket_samplevariance.stan' at line 131)\n",
      "[Chain 1] \n",
      "[Chain 1] Rejecting initial value:\n",
      "[Chain 1]   Error evaluating the log probability at the initial value.\n",
      "[Chain 1] Exception: neg_binomial_2_log_lpmf: Precision parameter[3] is nan, but must be > 0!  (in '/home/jovyan/work/notebooks/../models/model6.5_negbinom_matrix_correlation_features_oos_optim_otherbucket_samplevariance.stan' at line 131)\n",
      "[Chain 1] \n",
      "[Chain 1] Rejecting initial value:\n",
      "[Chain 1]   Error evaluating the log probability at the initial value.\n",
      "[Chain 1] Exception: neg_binomial_2_log_lpmf: Precision parameter[3] is nan, but must be > 0!  (in '/home/jovyan/work/notebooks/../models/model6.5_negbinom_matrix_correlation_features_oos_optim_otherbucket_samplevariance.stan' at line 131)\n",
      "[Chain 1] \n",
      "[Chain 1] Rejecting initial value:\n",
      "[Chain 1]   Error evaluating the log probability at the initial value.\n",
      "[Chain 1] Exception: neg_binomial_2_log_lpmf: Precision parameter[1] is nan, but must be > 0!  (in '/home/jovyan/work/notebooks/../models/model6.5_negbinom_matrix_correlation_features_oos_optim_otherbucket_samplevariance.stan' at line 131)\n",
      "[Chain 1] \n",
      "[Chain 1] Rejecting initial value:\n",
      "[Chain 1]   Error evaluating the log probability at the initial value.\n",
      "[Chain 1] Exception: neg_binomial_2_log_lpmf: Precision parameter[2] is nan, but must be > 0!  (in '/home/jovyan/work/notebooks/../models/model6.5_negbinom_matrix_correlation_features_oos_optim_otherbucket_samplevariance.stan' at line 131)\n",
      "[Chain 1] \n",
      "[Chain 1] Rejecting initial value:\n",
      "[Chain 1]   Error evaluating the log probability at the initial value.\n",
      "[Chain 1] Exception: neg_binomial_2_log_lpmf: Precision parameter[1] is nan, but must be > 0!  (in '/home/jovyan/work/notebooks/../models/model6.5_negbinom_matrix_correlation_features_oos_optim_otherbucket_samplevariance.stan' at line 131)\n",
      "[Chain 1] \n",
      "[Chain 1] Rejecting initial value:\n",
      "[Chain 1]   Error evaluating the log probability at the initial value.\n",
      "[Chain 1] Exception: neg_binomial_2_log_lpmf: Precision parameter[1] is nan, but must be > 0!  (in '/home/jovyan/work/notebooks/../models/model6.5_negbinom_matrix_correlation_features_oos_optim_otherbucket_samplevariance.stan' at line 131)\n",
      "[Chain 1] \n",
      "[Chain 1] Rejecting initial value:\n",
      "[Chain 1]   Error evaluating the log probability at the initial value.\n",
      "[Chain 1] Exception: neg_binomial_2_log_lpmf: Precision parameter[1] is nan, but must be > 0!  (in '/home/jovyan/work/notebooks/../models/model6.5_negbinom_matrix_correlation_features_oos_optim_otherbucket_samplevariance.stan' at line 131)\n",
      "[Chain 1] \n",
      "[Chain 1] Rejecting initial value:\n",
      "[Chain 1]   Error evaluating the log probability at the initial value.\n",
      "[Chain 1] Exception: neg_binomial_2_log_lpmf: Precision parameter[1] is nan, but must be > 0!  (in '/home/jovyan/work/notebooks/../models/model6.5_negbinom_matrix_correlation_features_oos_optim_otherbucket_samplevariance.stan' at line 131)\n",
      "[Chain 1] \n",
      "[Chain 1] Rejecting initial value:\n",
      "[Chain 1]   Error evaluating the log probability at the initial value.\n",
      "[Chain 1] Exception: neg_binomial_2_log_lpmf: Precision parameter[3] is nan, but must be > 0!  (in '/home/jovyan/work/notebooks/../models/model6.5_negbinom_matrix_correlation_features_oos_optim_otherbucket_samplevariance.stan' at line 131)\n",
      "[Chain 1] \n",
      "[Chain 1] Rejecting initial value:\n",
      "[Chain 1]   Error evaluating the log probability at the initial value.\n",
      "[Chain 1] Exception: neg_binomial_2_log_lpmf: Precision parameter[2] is nan, but must be > 0!  (in '/home/jovyan/work/notebooks/../models/model6.5_negbinom_matrix_correlation_features_oos_optim_otherbucket_samplevariance.stan' at line 131)\n",
      "[Chain 1] \n",
      "[Chain 1] Rejecting initial value:\n",
      "[Chain 1]   Error evaluating the log probability at the initial value.\n",
      "[Chain 1] Exception: neg_binomial_2_log_lpmf: Precision parameter[2] is nan, but must be > 0!  (in '/home/jovyan/work/notebooks/../models/model6.5_negbinom_matrix_correlation_features_oos_optim_otherbucket_samplevariance.stan' at line 131)\n",
      "[Chain 1] \n",
      "[Chain 1] Rejecting initial value:\n",
      "[Chain 1]   Error evaluating the log probability at the initial value.\n",
      "[Chain 1] Exception: neg_binomial_2_log_lpmf: Precision parameter[3] is nan, but must be > 0!  (in '/home/jovyan/work/notebooks/../models/model6.5_negbinom_matrix_correlation_features_oos_optim_otherbucket_samplevariance.stan' at line 131)\n",
      "[Chain 1] \n",
      "[Chain 1] Rejecting initial value:\n",
      "[Chain 1]   Error evaluating the log probability at the initial value.\n",
      "[Chain 1] Exception: neg_binomial_2_log_lpmf: Precision parameter[1] is nan, but must be > 0!  (in '/home/jovyan/work/notebooks/../models/model6.5_negbinom_matrix_correlation_features_oos_optim_otherbucket_samplevariance.stan' at line 131)\n",
      "[Chain 1] \n",
      "[Chain 1] Rejecting initial value:\n",
      "[Chain 1]   Error evaluating the log probability at the initial value.\n",
      "[Chain 1] Exception: neg_binomial_2_log_lpmf: Precision parameter[1] is nan, but must be > 0!  (in '/home/jovyan/work/notebooks/../models/model6.5_negbinom_matrix_correlation_features_oos_optim_otherbucket_samplevariance.stan' at line 131)\n",
      "[Chain 1] \n",
      "[Chain 1] Rejecting initial value:\n",
      "[Chain 1]   Error evaluating the log probability at the initial value.\n",
      "[Chain 1] Exception: neg_binomial_2_log_lpmf: Precision parameter[2] is nan, but must be > 0!  (in '/home/jovyan/work/notebooks/../models/model6.5_negbinom_matrix_correlation_features_oos_optim_otherbucket_samplevariance.stan' at line 131)\n",
      "[Chain 1] \n",
      "[Chain 1] Rejecting initial value:\n",
      "[Chain 1]   Error evaluating the log probability at the initial value.\n",
      "[Chain 1] Exception: neg_binomial_2_log_lpmf: Precision parameter[6] is nan, but must be > 0!  (in '/home/jovyan/work/notebooks/../models/model6.5_negbinom_matrix_correlation_features_oos_optim_otherbucket_samplevariance.stan' at line 131)\n",
      "[Chain 1] \n",
      "[Chain 1] Rejecting initial value:\n",
      "[Chain 1]   Error evaluating the log probability at the initial value.\n",
      "[Chain 1] Exception: neg_binomial_2_log_lpmf: Precision parameter[1] is nan, but must be > 0!  (in '/home/jovyan/work/notebooks/../models/model6.5_negbinom_matrix_correlation_features_oos_optim_otherbucket_samplevariance.stan' at line 131)\n",
      "[Chain 1] \n",
      "[Chain 1] Rejecting initial value:\n",
      "[Chain 1]   Error evaluating the log probability at the initial value.\n",
      "[Chain 1] Exception: neg_binomial_2_log_lpmf: Precision parameter[1] is nan, but must be > 0!  (in '/home/jovyan/work/notebooks/../models/model6.5_negbinom_matrix_correlation_features_oos_optim_otherbucket_samplevariance.stan' at line 131)\n",
      "[Chain 1] \n",
      "[Chain 1] Rejecting initial value:\n",
      "[Chain 1]   Error evaluating the log probability at the initial value.\n",
      "[Chain 1] Exception: neg_binomial_2_log_lpmf: Precision parameter[2] is nan, but must be > 0!  (in '/home/jovyan/work/notebooks/../models/model6.5_negbinom_matrix_correlation_features_oos_optim_otherbucket_samplevariance.stan' at line 131)\n",
      "[Chain 1] \n",
      "[Chain 1] Rejecting initial value:\n",
      "[Chain 1]   Error evaluating the log probability at the initial value.\n",
      "[Chain 1] Exception: neg_binomial_2_log_lpmf: Precision parameter[1] is nan, but must be > 0!  (in '/home/jovyan/work/notebooks/../models/model6.5_negbinom_matrix_correlation_features_oos_optim_otherbucket_samplevariance.stan' at line 131)\n",
      "[Chain 1] \n",
      "[Chain 1] Rejecting initial value:\n",
      "[Chain 1]   Error evaluating the log probability at the initial value.\n",
      "[Chain 1] Exception: neg_binomial_2_log_lpmf: Precision parameter[1] is nan, but must be > 0!  (in '/home/jovyan/work/notebooks/../models/model6.5_negbinom_matrix_correlation_features_oos_optim_otherbucket_samplevariance.stan' at line 131)\n",
      "[Chain 1] \n",
      "[Chain 1] Rejecting initial value:\n",
      "[Chain 1]   Error evaluating the log probability at the initial value.\n",
      "[Chain 1] Exception: neg_binomial_2_log_lpmf: Precision parameter[3] is nan, but must be > 0!  (in '/home/jovyan/work/notebooks/../models/model6.5_negbinom_matrix_correlation_features_oos_optim_otherbucket_samplevariance.stan' at line 131)\n",
      "[Chain 1] \n",
      "[Chain 1] Rejecting initial value:\n",
      "[Chain 1]   Error evaluating the log probability at the initial value.\n",
      "[Chain 1] Exception: neg_binomial_2_log_lpmf: Precision parameter[2] is nan, but must be > 0!  (in '/home/jovyan/work/notebooks/../models/model6.5_negbinom_matrix_correlation_features_oos_optim_otherbucket_samplevariance.stan' at line 131)\n",
      "[Chain 1] \n",
      "[Chain 1] Rejecting initial value:\n",
      "[Chain 1]   Error evaluating the log probability at the initial value.\n",
      "[Chain 1] Exception: neg_binomial_2_log_lpmf: Precision parameter[1] is nan, but must be > 0!  (in '/home/jovyan/work/notebooks/../models/model6.5_negbinom_matrix_correlation_features_oos_optim_otherbucket_samplevariance.stan' at line 131)\n",
      "[Chain 1] \n",
      "[Chain 1] Rejecting initial value:\n",
      "[Chain 1]   Error evaluating the log probability at the initial value.\n",
      "[Chain 1] Exception: neg_binomial_2_log_lpmf: Precision parameter[2] is nan, but must be > 0!  (in '/home/jovyan/work/notebooks/../models/model6.5_negbinom_matrix_correlation_features_oos_optim_otherbucket_samplevariance.stan' at line 131)\n",
      "[Chain 1] \n",
      "[Chain 1] Rejecting initial value:\n",
      "[Chain 1]   Error evaluating the log probability at the initial value.\n",
      "[Chain 1] Exception: neg_binomial_2_log_lpmf: Precision parameter[2] is nan, but must be > 0!  (in '/home/jovyan/work/notebooks/../models/model6.5_negbinom_matrix_correlation_features_oos_optim_otherbucket_samplevariance.stan' at line 131)\n",
      "[Chain 1] \n",
      "[Chain 1] Rejecting initial value:\n",
      "[Chain 1]   Error evaluating the log probability at the initial value.\n",
      "[Chain 1] Exception: neg_binomial_2_log_lpmf: Precision parameter[1] is nan, but must be > 0!  (in '/home/jovyan/work/notebooks/../models/model6.5_negbinom_matrix_correlation_features_oos_optim_otherbucket_samplevariance.stan' at line 131)\n",
      "[Chain 1] \n",
      "[Chain 1] Rejecting initial value:\n",
      "[Chain 1]   Error evaluating the log probability at the initial value.\n",
      "[Chain 1] Exception: neg_binomial_2_log_lpmf: Precision parameter[2] is nan, but must be > 0!  (in '/home/jovyan/work/notebooks/../models/model6.5_negbinom_matrix_correlation_features_oos_optim_otherbucket_samplevariance.stan' at line 131)\n",
      "[Chain 1] \n",
      "[Chain 1] Rejecting initial value:\n",
      "[Chain 1]   Error evaluating the log probability at the initial value.\n",
      "[Chain 1] Exception: neg_binomial_2_log_lpmf: Precision parameter[3] is nan, but must be > 0!  (in '/home/jovyan/work/notebooks/../models/model6.5_negbinom_matrix_correlation_features_oos_optim_otherbucket_samplevariance.stan' at line 131)\n",
      "[Chain 1] \n",
      "[Chain 1] Rejecting initial value:\n",
      "[Chain 1]   Error evaluating the log probability at the initial value.\n",
      "[Chain 1] Exception: neg_binomial_2_log_lpmf: Precision parameter[1] is nan, but must be > 0!  (in '/home/jovyan/work/notebooks/../models/model6.5_negbinom_matrix_correlation_features_oos_optim_otherbucket_samplevariance.stan' at line 131)\n",
      "[Chain 1] \n",
      "[Chain 1] Rejecting initial value:\n",
      "[Chain 1]   Error evaluating the log probability at the initial value.\n",
      "[Chain 1] Exception: neg_binomial_2_log_lpmf: Precision parameter[4] is nan, but must be > 0!  (in '/home/jovyan/work/notebooks/../models/model6.5_negbinom_matrix_correlation_features_oos_optim_otherbucket_samplevariance.stan' at line 131)\n",
      "[Chain 1] \n",
      "[Chain 1] Rejecting initial value:\n",
      "[Chain 1]   Error evaluating the log probability at the initial value.\n",
      "[Chain 1] Exception: neg_binomial_2_log_lpmf: Precision parameter[1] is nan, but must be > 0!  (in '/home/jovyan/work/notebooks/../models/model6.5_negbinom_matrix_correlation_features_oos_optim_otherbucket_samplevariance.stan' at line 131)\n",
      "[Chain 1] \n",
      "[Chain 1] Rejecting initial value:\n",
      "[Chain 1]   Error evaluating the log probability at the initial value.\n",
      "[Chain 1] Exception: neg_binomial_2_log_lpmf: Precision parameter[1] is nan, but must be > 0!  (in '/home/jovyan/work/notebooks/../models/model6.5_negbinom_matrix_correlation_features_oos_optim_otherbucket_samplevariance.stan' at line 131)\n",
      "[Chain 1] \n",
      "[Chain 1] Rejecting initial value:\n",
      "[Chain 1]   Error evaluating the log probability at the initial value.\n",
      "[Chain 1] Exception: neg_binomial_2_log_lpmf: Precision parameter[1] is nan, but must be > 0!  (in '/home/jovyan/work/notebooks/../models/model6.5_negbinom_matrix_correlation_features_oos_optim_otherbucket_samplevariance.stan' at line 131)\n",
      "[Chain 1] \n",
      "[Chain 1] Rejecting initial value:\n",
      "[Chain 1]   Error evaluating the log probability at the initial value.\n",
      "[Chain 1] Exception: neg_binomial_2_log_lpmf: Precision parameter[2] is nan, but must be > 0!  (in '/home/jovyan/work/notebooks/../models/model6.5_negbinom_matrix_correlation_features_oos_optim_otherbucket_samplevariance.stan' at line 131)\n",
      "[Chain 1] \n",
      "[Chain 1] Rejecting initial value:\n",
      "[Chain 1]   Error evaluating the log probability at the initial value.\n",
      "[Chain 1] Exception: neg_binomial_2_log_lpmf: Precision parameter[3] is nan, but must be > 0!  (in '/home/jovyan/work/notebooks/../models/model6.5_negbinom_matrix_correlation_features_oos_optim_otherbucket_samplevariance.stan' at line 131)\n",
      "[Chain 1] \n",
      "[Chain 1] Rejecting initial value:\n",
      "[Chain 1]   Error evaluating the log probability at the initial value.\n",
      "[Chain 1] Exception: neg_binomial_2_log_lpmf: Precision parameter[1] is nan, but must be > 0!  (in '/home/jovyan/work/notebooks/../models/model6.5_negbinom_matrix_correlation_features_oos_optim_otherbucket_samplevariance.stan' at line 131)\n",
      "[Chain 1] \n",
      "[Chain 1] \n",
      "[Chain 1] Initialization between (-2, 2) failed after 100 attempts. \n",
      "[Chain 1]  Try specifying initial values, reducing ranges of constrained values, or reparameterizing the model.\n",
      "[Chain 1] Initialization failed.\n",
      "[Chain 1] Execution completed, return code: 70\n",
      " stansummary --csv_file=out/experiment_rcc.test.chunked.chunk-1-of-2.model6_5.stansummary.csv out/experiment_rcc.test.chunked.chunk-1-of-2.model6_5.samples.1.csv > /dev/null;\n",
      "stansummary completed, return code: 134\n",
      "Run complete. Chain metadata pickled out.\n"
     ]
    }
   ],
   "source": [
    "!execute-model \\\n",
    "--train_samples out/experiment_rcc.training.expression.tsv \\\n",
    "--train_xdata out/experiment_rcc.training.xdata.tsv \\\n",
    "--train_cellfeatures out/singleorigin_plus_rcctils.combined.cellfeatures.tsv \\\n",
    "--test_samples out/experiment_rcc.test.chunked.chunk-1-of-2.tsv \\\n",
    "--n_chains 1 \\\n",
    "--output_name out/experiment_rcc.test.chunked.chunk-1-of-2.model6_5 \\\n",
    "--model_executable ../models/model6.5_negbinom_matrix_correlation_features_oos_optim_otherbucket_samplevariance \\\n",
    "--num_samples 1000 \\\n",
    "--num_warmup 1000 \\\n",
    "--vi;"
   ]
  },
  {
   "cell_type": "code",
   "execution_count": null,
   "metadata": {},
   "outputs": [],
   "source": []
  },
  {
   "cell_type": "code",
   "execution_count": 28,
   "metadata": {
    "ExecuteTime": {
     "end_time": "2018-01-28T21:23:14.628455Z",
     "start_time": "2018-01-28T21:23:14.339927Z"
    }
   },
   "outputs": [
    {
     "name": "stdout",
     "output_type": "stream",
     "text": [
      "total 117780\r\n",
      "-rw-r--r-- 1 jovyan users     1230 Jan 28 18:46 singleorigin_plus_rcctils.combined.cellfeatures.tsv\r\n",
      "-rw-r--r-- 1 jovyan users     7342 Jan 28 18:46 experiment_rcc.training.xdata.tsv\r\n",
      "-rw-r--r-- 1 jovyan users  2236524 Jan 28 18:46 experiment_rcc.training.expression.tsv\r\n",
      "-rw-r--r-- 1 jovyan users  1214588 Jan 28 18:46 experiment_rcc.test.expression.tsv\r\n",
      "-rw-r--r-- 1 jovyan users   623381 Jan 28 18:46 experiment_rcc.test.chunked.chunk-2-of-2.tsv\r\n",
      "-rw-r--r-- 1 jovyan users   638866 Jan 28 18:46 experiment_rcc.test.chunked.chunk-1-of-2.tsv\r\n",
      "-rw-r--r-- 1 jovyan users     1135 Jan 28 18:46 experiment_rcc.test.chunked.chunk-1-of-2.model6_5.samples.4.csv\r\n",
      "-rw-r--r-- 1 jovyan users     1133 Jan 28 18:46 experiment_rcc.test.chunked.chunk-1-of-2.model6_5.samples.3.csv\r\n",
      "-rw-r--r-- 1 jovyan users     1135 Jan 28 18:46 experiment_rcc.test.chunked.chunk-1-of-2.model6_5.samples.2.csv\r\n",
      "-rw-r--r-- 1 jovyan users     2118 Jan 28 18:46 experiment_bladder.training.xdata.tsv\r\n",
      "-rw-r--r-- 1 jovyan users   966041 Jan 28 18:46 experiment_bladder.training.expression.tsv\r\n",
      "-rw-r--r-- 1 jovyan users   404939 Jan 28 18:46 experiment_bladder.test.expression.tsv\r\n",
      "-rw-r--r-- 1 jovyan users      414 Jan 28 20:55 experiment_rcc.test.chunked.chunk-1-of-2.model6_5.stdout.4.txt\r\n",
      "-rw-r--r-- 1 jovyan users      414 Jan 28 20:55 experiment_rcc.test.chunked.chunk-1-of-2.model6_5.stdout.3.txt\r\n",
      "-rw-r--r-- 1 jovyan users      414 Jan 28 20:55 experiment_rcc.test.chunked.chunk-1-of-2.model6_5.stdout.2.txt\r\n",
      "-rw-r--r-- 1 jovyan users        9 Jan 28 20:55 experiment_rcc.test.chunked.chunk-1-of-2.model6_5.seed.4.txt\r\n",
      "-rw-r--r-- 1 jovyan users        9 Jan 28 20:55 experiment_rcc.test.chunked.chunk-1-of-2.model6_5.seed.3.txt\r\n",
      "-rw-r--r-- 1 jovyan users        9 Jan 28 20:55 experiment_rcc.test.chunked.chunk-1-of-2.model6_5.seed.2.txt\r\n",
      "-rw-r--r-- 1 jovyan users     1868 Jan 28 20:55 experiment_rcc.test.chunked.chunk-1-of-2.model6_4.sample_name_to_id.tsv\r\n",
      "-rw-r--r-- 1 jovyan users  8826599 Jan 28 20:55 experiment_rcc.test.chunked.chunk-1-of-2.model6_4.standata.Rdump\r\n",
      "-rw-r--r-- 1 jovyan users        9 Jan 28 20:55 experiment_rcc.test.chunked.chunk-1-of-2.model6_4.seed.1.txt\r\n",
      "-rw-r--r-- 1 jovyan users 18579024 Jan 28 21:00 experiment_rcc.test.chunked.chunk-1-of-2.model6_4.samples.1.csv\r\n",
      "-rw-r--r-- 1 jovyan users     1907 Jan 28 21:00 experiment_rcc.test.chunked.chunk-1-of-2.model6_4.stdout.1.txt\r\n",
      "-rw-r--r-- 1 jovyan users 78149782 Jan 28 21:01 experiment_rcc.test.chunked.chunk-1-of-2.model6_4.stansummary.csv\r\n",
      "-rw-r--r-- 1 jovyan users     1386 Jan 28 21:01 experiment_rcc.test.chunked.chunk-1-of-2.model6_4.chain_metadata.pkl\r\n",
      "-rw-r--r-- 1 jovyan users     1868 Jan 28 21:16 experiment_rcc.test.chunked.chunk-1-of-2.model6_5.sample_name_to_id.tsv\r\n",
      "-rw-r--r-- 1 jovyan users  8826599 Jan 28 21:16 experiment_rcc.test.chunked.chunk-1-of-2.model6_5.standata.Rdump\r\n",
      "-rw-r--r-- 1 jovyan users        9 Jan 28 21:16 experiment_rcc.test.chunked.chunk-1-of-2.model6_5.seed.1.txt\r\n",
      "-rw-r--r-- 1 jovyan users      840 Jan 28 21:16 experiment_rcc.test.chunked.chunk-1-of-2.model6_5.samples.1.csv\r\n",
      "-rw-r--r-- 1 jovyan users    37174 Jan 28 21:19 experiment_rcc.test.chunked.chunk-1-of-2.model6_5.stdout.1.txt\r\n",
      "-rw-r--r-- 1 jovyan users     1405 Jan 28 21:19 experiment_rcc.test.chunked.chunk-1-of-2.model6_5.chain_metadata.pkl\r\n"
     ]
    }
   ],
   "source": [
    "!ls -lrt out"
   ]
  },
  {
   "cell_type": "code",
   "execution_count": null,
   "metadata": {},
   "outputs": [],
   "source": []
  },
  {
   "cell_type": "code",
   "execution_count": null,
   "metadata": {},
   "outputs": [],
   "source": []
  },
  {
   "cell_type": "markdown",
   "metadata": {},
   "source": [
    "# Gotchas\n",
    "\n",
    "Here are some common errors you might run into.\n",
    "\n",
    "All code below is frozen -- don't rerun, just look at the output."
   ]
  },
  {
   "cell_type": "code",
   "execution_count": 1,
   "metadata": {
    "ExecuteTime": {
     "end_time": "2018-01-11T07:43:00.311534Z",
     "start_time": "2018-01-11T07:42:58.160997Z"
    },
    "deletable": false,
    "editable": false,
    "run_control": {
     "frozen": true
    }
   },
   "outputs": [
    {
     "name": "stdout",
     "output_type": "stream",
     "text": [
      "Traceback (most recent call last):\r\n",
      "  File \"/opt/conda/bin/execute-model\", line 11, in <module>\r\n",
      "    load_entry_point('infino', 'console_scripts', 'execute-model')()\r\n",
      "  File \"/home/jovyan/pyinfino/infino/execute_model.py\", line 178, in main\r\n",
      "    assert len(set(train_df.index.values).symmetric_difference(set(test_df.index.values))) == 0\r\n",
      "AssertionError\r\n"
     ]
    }
   ],
   "source": [
    "!execute-model \\\n",
    "--train_samples out/experiment_rcc.training.expression.tsv \\\n",
    "--train_xdata out/experiment_rcc.training.xdata.tsv \\\n",
    "--train_cellfeatures out/singleorigin_plus_rcctils.combined.cellfeatures.tsv \\\n",
    "--test_samples out/experiment_rcc.test.chunked.chunk-1-of-2.tsv \\\n",
    "--n_chains 4 \\\n",
    "--output_name out/experiment_rcc.test.chunked.chunk-1-of-2 \\\n",
    "--model_executable ../models/model6.5_negbinom_matrix_correlation_features_oos_optim_otherbucket_samplevariance \\\n",
    "--dry_run;"
   ]
  },
  {
   "cell_type": "markdown",
   "metadata": {},
   "source": [
    "Above error means we were regenerating the data but not rechunking it. So different random genes got captured. Oops! You need to proceed with the steps in order. So if you redo the data prep, you have to rechunk."
   ]
  },
  {
   "cell_type": "code",
   "execution_count": null,
   "metadata": {},
   "outputs": [],
   "source": []
  },
  {
   "cell_type": "code",
   "execution_count": 38,
   "metadata": {
    "ExecuteTime": {
     "end_time": "2018-01-12T09:34:01.240686Z",
     "start_time": "2018-01-12T09:33:46.353042Z"
    },
    "deletable": false,
    "editable": false,
    "run_control": {
     "frozen": true
    }
   },
   "outputs": [
    {
     "name": "stdout",
     "output_type": "stream",
     "text": [
      "Launching chain:  1\n",
      "Launching chain:  2\n",
      "Launching chain:  3\n",
      "Launching chain:  4\n",
      "[Chain 1] ('method = sample (Default)\\n  sample\\n    num_samples = 2\\n    num_warmup = 2\\n    save_warmup = 0 (Default)\\n    thin = 1 (Default)\\n    adapt\\n      engaged = 1 (Default)\\n      gamma = 0.050000000000000003 (Default)\\n      delta = 0.80000000000000004 (Default)\\n      kappa = 0.75 (Default)\\n      t0 = 10 (Default)\\n      init_buffer = 75 (Default)\\n      term_buffer = 50 (Default)\\n      window = 25 (Default)\\n    algorithm = hmc (Default)\\n      hmc\\n        engine = nuts (Default)\\n          nuts\\n            max_depth = 10 (Default)\\n        metric = diag_e (Default)\\n        stepsize = 1 (Default)\\n        stepsize_jitter = 0 (Default)\\nid = 1\\ndata\\n  file = out/experiment_rcc.test.chunked.chunk-1-of-2.model6_4.standata.Rdump\\ninit = 2 (Default)\\nrandom\\n  seed = 1233977238\\noutput\\n  file = out/experiment_rcc.test.chunked.chunk-1-of-2.model6_4.samples.1.csv\\n  diagnostic_file =  (Default)\\n  refresh = 25\\n\\n', 'Killed\\n')\n",
      "[Chain 2] ('method = sample (Default)\\n  sample\\n    num_samples = 2\\n    num_warmup = 2\\n    save_warmup = 0 (Default)\\n    thin = 1 (Default)\\n    adapt\\n      engaged = 1 (Default)\\n      gamma = 0.050000000000000003 (Default)\\n      delta = 0.80000000000000004 (Default)\\n      kappa = 0.75 (Default)\\n      t0 = 10 (Default)\\n      init_buffer = 75 (Default)\\n      term_buffer = 50 (Default)\\n      window = 25 (Default)\\n    algorithm = hmc (Default)\\n      hmc\\n        engine = nuts (Default)\\n          nuts\\n            max_depth = 10 (Default)\\n        metric = diag_e (Default)\\n        stepsize = 1 (Default)\\n        stepsize_jitter = 0 (Default)\\nid = 2\\ndata\\n  file = out/experiment_rcc.test.chunked.chunk-1-of-2.model6_4.standata.Rdump\\ninit = 2 (Default)\\nrandom\\n  seed = 91730434\\noutput\\n  file = out/experiment_rcc.test.chunked.chunk-1-of-2.model6_4.samples.2.csv\\n  diagnostic_file =  (Default)\\n  refresh = 25\\n\\n', 'Killed\\n')\n",
      "[Chain 3] ('method = sample (Default)\\n  sample\\n    num_samples = 2\\n    num_warmup = 2\\n    save_warmup = 0 (Default)\\n    thin = 1 (Default)\\n    adapt\\n      engaged = 1 (Default)\\n      gamma = 0.050000000000000003 (Default)\\n      delta = 0.80000000000000004 (Default)\\n      kappa = 0.75 (Default)\\n      t0 = 10 (Default)\\n      init_buffer = 75 (Default)\\n      term_buffer = 50 (Default)\\n      window = 25 (Default)\\n    algorithm = hmc (Default)\\n      hmc\\n        engine = nuts (Default)\\n          nuts\\n            max_depth = 10 (Default)\\n        metric = diag_e (Default)\\n        stepsize = 1 (Default)\\n        stepsize_jitter = 0 (Default)\\nid = 3\\ndata\\n  file = out/experiment_rcc.test.chunked.chunk-1-of-2.model6_4.standata.Rdump\\ninit = 2 (Default)\\nrandom\\n  seed = 1537880374\\noutput\\n  file = out/experiment_rcc.test.chunked.chunk-1-of-2.model6_4.samples.3.csv\\n  diagnostic_file =  (Default)\\n  refresh = 25\\n\\n', 'Killed\\n')\n",
      "[Chain 4] ('method = sample (Default)\\n  sample\\n    num_samples = 2\\n    num_warmup = 2\\n    save_warmup = 0 (Default)\\n    thin = 1 (Default)\\n    adapt\\n      engaged = 1 (Default)\\n      gamma = 0.050000000000000003 (Default)\\n      delta = 0.80000000000000004 (Default)\\n      kappa = 0.75 (Default)\\n      t0 = 10 (Default)\\n      init_buffer = 75 (Default)\\n      term_buffer = 50 (Default)\\n      window = 25 (Default)\\n    algorithm = hmc (Default)\\n      hmc\\n        engine = nuts (Default)\\n          nuts\\n            max_depth = 10 (Default)\\n        metric = diag_e (Default)\\n        stepsize = 1 (Default)\\n        stepsize_jitter = 0 (Default)\\nid = 4\\ndata\\n  file = out/experiment_rcc.test.chunked.chunk-1-of-2.model6_4.standata.Rdump\\ninit = 2 (Default)\\nrandom\\n  seed = 1118234254\\noutput\\n  file = out/experiment_rcc.test.chunked.chunk-1-of-2.model6_4.samples.4.csv\\n  diagnostic_file =  (Default)\\n  refresh = 25\\n\\n', 'Killed\\n')\n",
      "[Chain 1] Execution completed, return code: 137\n",
      "[Chain 2] Execution completed, return code: 137\n",
      "[Chain 3] Execution completed, return code: 137\n",
      "[Chain 4] Execution completed, return code: 137\n",
      " stansummary --csv_file=out/experiment_rcc.test.chunked.chunk-1-of-2.model6_4.stansummary.csv out/experiment_rcc.test.chunked.chunk-1-of-2.model6_4.samples.1.csv out/experiment_rcc.test.chunked.chunk-1-of-2.model6_4.samples.2.csv out/experiment_rcc.test.chunked.chunk-1-of-2.model6_4.samples.3.csv out/experiment_rcc.test.chunked.chunk-1-of-2.model6_4.samples.4.csv > /dev/null;\n",
      "return code: 134\n"
     ]
    }
   ],
   "source": [
    "!execute-model \\\n",
    "--train_samples out/experiment_rcc.training.expression.tsv \\\n",
    "--train_xdata out/experiment_rcc.training.xdata.tsv \\\n",
    "--train_cellfeatures out/singleorigin_plus_rcctils.combined.cellfeatures.tsv \\\n",
    "--test_samples out/experiment_rcc.test.chunked.chunk-1-of-2.tsv \\\n",
    "--n_chains 4 \\\n",
    "--output_name out/experiment_rcc.test.chunked.chunk-1-of-2.model6_4 \\\n",
    "--model_executable ../models/model6.4_negbinom_matrix_correlation_features_oos_optim_otherbucket \\\n",
    "--num_samples 2 \\\n",
    "--num_warmup 2;"
   ]
  },
  {
   "cell_type": "markdown",
   "metadata": {},
   "source": [
    "This is likely getting SIGKILLed due to out of memory. You can watch us hit the 2GB RAM max using `docker stats` command. Have to change the docker for mac machine settings (in Advanced). Try also reducing the number of chains. In one test, Model6.4 with one chain took me 4.6 GB of RAM to run (see the above output right before Gotchas section). I recommend dedicating 4 CPUs and 8 GB of RAM to your Docker-for-Mac VM to properly test your stan runner code before launching it on beefy machines in the cloud."
   ]
  },
  {
   "cell_type": "code",
   "execution_count": null,
   "metadata": {},
   "outputs": [],
   "source": []
  },
  {
   "cell_type": "markdown",
   "metadata": {},
   "source": [
    "Also if something goes wrong, you can run stansummary manually like this:"
   ]
  },
  {
   "cell_type": "code",
   "execution_count": 6,
   "metadata": {
    "ExecuteTime": {
     "end_time": "2018-01-28T20:38:45.556017Z",
     "start_time": "2018-01-28T20:38:44.995832Z"
    }
   },
   "outputs": [
    {
     "name": "stdout",
     "output_type": "stream",
     "text": [
      "usage: run-stansummary [-h] --sample_log SAMPLE_LOG --output_file OUTPUT_FILE\r\n",
      "                       [--exclude_broken_chains] [--dry_run] [--verbose]\r\n",
      "\r\n",
      "optional arguments:\r\n",
      "  -h, --help            show this help message and exit\r\n",
      "  --sample_log SAMPLE_LOG\r\n",
      "                        sampling log filename(s)\r\n",
      "  --output_file OUTPUT_FILE\r\n",
      "                        output file name\r\n",
      "  --exclude_broken_chains\r\n",
      "                        detect and exclude broken chains\r\n",
      "  --dry_run             don't run the actual stansummary command, but do\r\n",
      "                        everything else\r\n",
      "  --verbose             print return code even if successful (by default\r\n",
      "                        quiet)\r\n"
     ]
    }
   ],
   "source": [
    "!run-stansummary -h"
   ]
  },
  {
   "cell_type": "code",
   "execution_count": null,
   "metadata": {},
   "outputs": [],
   "source": []
  },
  {
   "cell_type": "markdown",
   "metadata": {},
   "source": [
    "# Running your experiments on the cloud"
   ]
  },
  {
   "cell_type": "code",
   "execution_count": null,
   "metadata": {},
   "outputs": [],
   "source": []
  }
 ],
 "metadata": {
  "kernelspec": {
   "display_name": "Python 3",
   "language": "python",
   "name": "python3"
  },
  "language_info": {
   "codemirror_mode": {
    "name": "ipython",
    "version": 3
   },
   "file_extension": ".py",
   "mimetype": "text/x-python",
   "name": "python",
   "nbconvert_exporter": "python",
   "pygments_lexer": "ipython3",
   "version": "3.6.3"
  },
  "toc": {
   "nav_menu": {},
   "number_sections": true,
   "sideBar": true,
   "skip_h1_title": false,
   "title_cell": "Table of Contents",
   "title_sidebar": "Contents",
   "toc_cell": false,
   "toc_position": {},
   "toc_section_display": "block",
   "toc_window_display": false
  },
  "varInspector": {
   "cols": {
    "lenName": 16,
    "lenType": 16,
    "lenVar": 40
   },
   "kernels_config": {
    "python": {
     "delete_cmd_postfix": "",
     "delete_cmd_prefix": "del ",
     "library": "var_list.py",
     "varRefreshCmd": "print(var_dic_list())"
    },
    "r": {
     "delete_cmd_postfix": ") ",
     "delete_cmd_prefix": "rm(",
     "library": "var_list.r",
     "varRefreshCmd": "cat(var_dic_list()) "
    }
   },
   "types_to_exclude": [
    "module",
    "function",
    "builtin_function_or_method",
    "instance",
    "_Feature"
   ],
   "window_display": false
  }
 },
 "nbformat": 4,
 "nbformat_minor": 2
}
