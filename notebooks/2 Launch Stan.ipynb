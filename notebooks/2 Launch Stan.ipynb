{
 "cells": [
  {
   "cell_type": "markdown",
   "metadata": {},
   "source": [
    "So far we ran:\n",
    "\n",
    "* `1 Experimental data prep using rinfino.ipynb`\n",
    "* `1.1 combine Cell Features.ipynb`\n",
    "\n",
    "# Chunk up our data"
   ]
  },
  {
   "cell_type": "code",
   "execution_count": 1,
   "metadata": {
    "ExecuteTime": {
     "end_time": "2018-01-11T06:11:30.810353Z",
     "start_time": "2018-01-11T06:11:26.559910Z"
    }
   },
   "outputs": [
    {
     "name": "stdout",
     "output_type": "stream",
     "text": [
      "usage: chunker [-h] --data DATA [--output_file OUTPUT_FILE] --pagesize\r\n",
      "               PAGESIZE [--min_chunk_size MIN_CHUNK_SIZE]\r\n",
      "\r\n",
      "optional arguments:\r\n",
      "  -h, --help            show this help message and exit\r\n",
      "  --data DATA           path to test data (tab delimited genes x samples)\r\n",
      "  --output_file OUTPUT_FILE\r\n",
      "                        output file prefix (optional)\r\n",
      "  --pagesize PAGESIZE   page size (default 10)\r\n",
      "  --min_chunk_size MIN_CHUNK_SIZE\r\n",
      "                        minimum number of samples in a chunk (default 3),\r\n",
      "                        achieved via rebalancing (set to 1 to disable)\r\n"
     ]
    }
   ],
   "source": [
    "!chunker -h"
   ]
  },
  {
   "cell_type": "code",
   "execution_count": 2,
   "metadata": {
    "ExecuteTime": {
     "end_time": "2018-01-11T06:11:50.916431Z",
     "start_time": "2018-01-11T06:11:50.656832Z"
    }
   },
   "outputs": [
    {
     "name": "stdout",
     "output_type": "stream",
     "text": [
      "all_cohorts.cibersort_results.tsv\r\n",
      "bladder.tpm.tsv\r\n",
      "cohort_newbladder.cibersort.input.classes.datatype_est_counts.txt\r\n",
      "provenance.md\r\n",
      "rcctils.cellfeatures.tsv\r\n",
      "rcctils.celltypes.tsv\r\n",
      "singleorigin.cellfeatures.tsv\r\n",
      "tcgakirc.tpm.tsv\r\n"
     ]
    }
   ],
   "source": [
    "!ls ../data/"
   ]
  },
  {
   "cell_type": "code",
   "execution_count": 4,
   "metadata": {
    "ExecuteTime": {
     "end_time": "2018-01-11T06:12:18.621294Z",
     "start_time": "2018-01-11T06:12:18.355246Z"
    }
   },
   "outputs": [
    {
     "name": "stdout",
     "output_type": "stream",
     "text": [
      "experiment_bladder.test.expression.tsv\r\n",
      "experiment_bladder.training.expression.tsv\r\n",
      "experiment_bladder.training.xdata.tsv\r\n",
      "experiment_rcc.test.chunked.chunk-1-of-2.tsv\r\n",
      "experiment_rcc.test.chunked.chunk-2-of-2.tsv\r\n",
      "experiment_rcc.test.expression.tsv\r\n",
      "experiment_rcc.training.expression.tsv\r\n",
      "experiment_rcc.training.xdata.tsv\r\n",
      "singleorigin_plus_rcctils.combined.cellfeatures.tsv\r\n"
     ]
    }
   ],
   "source": [
    "!ls out"
   ]
  },
  {
   "cell_type": "code",
   "execution_count": 6,
   "metadata": {
    "ExecuteTime": {
     "end_time": "2018-01-11T06:12:39.669083Z",
     "start_time": "2018-01-11T06:12:38.007511Z"
    }
   },
   "outputs": [
    {
     "name": "stdout",
     "output_type": "stream",
     "text": [
      "Output:\r\n",
      "out/experiment_rcc.test.chunked.chunk-1-of-2.tsv  -- 40 samples (X953473f4.9927.4fd4.bfee.8f5908638cc7, ..., a0f62f75.1a15.413e.9960.3cfc09f52b9e)\r\n",
      "out/experiment_rcc.test.chunked.chunk-2-of-2.tsv  -- 39 samples (X116f7723.de02.4a81.bec1.cc068019ff38, ..., X0153168a.39ce.47d6.b7f5.ac1e0f312245)\r\n"
     ]
    }
   ],
   "source": [
    "!chunker \\\n",
    "--data out/experiment_rcc.test.expression.tsv \\\n",
    "--output_file out/experiment_rcc.test.chunked \\\n",
    "--pagesize 40 --min_chunk_size 10;"
   ]
  },
  {
   "cell_type": "markdown",
   "metadata": {},
   "source": [
    "# Compile our Stan models\n",
    "\n",
    "Create executable version of `modelname.stan`: `make -C $HOME/cmdstan $(pwd)/modelname`. (Note you leave off the `.stan` suffix.)\n",
    "\n",
    "This creates `modelname` executable. We may need to clear the compiled files out manually to force a rerun of `make`: `rm modelname.hpp modelname`"
   ]
  },
  {
   "cell_type": "code",
   "execution_count": 9,
   "metadata": {
    "ExecuteTime": {
     "end_time": "2018-01-11T06:16:33.248455Z",
     "start_time": "2018-01-11T06:16:33.001778Z"
    }
   },
   "outputs": [
    {
     "name": "stdout",
     "output_type": "stream",
     "text": [
      "../model6.4_negbinom_matrix_correlation_features_oos_optim_otherbucket.stan\r\n",
      "../model6.5_negbinom_matrix_correlation_features_oos_optim_otherbucket_samplevariance.stan\r\n"
     ]
    }
   ],
   "source": [
    "!ls ../*.stan"
   ]
  },
  {
   "cell_type": "code",
   "execution_count": 12,
   "metadata": {
    "ExecuteTime": {
     "end_time": "2018-01-11T06:18:01.380809Z",
     "start_time": "2018-01-11T06:17:21.849611Z"
    }
   },
   "outputs": [
    {
     "name": "stdout",
     "output_type": "stream",
     "text": [
      "make: Entering directory '/home/jovyan/cmdstan'\n",
      "\n",
      "--- Translating Stan model to C++ code ---\n",
      "bin/stanc  /home/jovyan/work/infino-private-2/notebooks/../model6.4_negbinom_matrix_correlation_features_oos_optim_otherbucket.stan --o=/home/jovyan/work/infino-private-2/notebooks/../model6.4_negbinom_matrix_correlation_features_oos_optim_otherbucket.hpp\n",
      "Model name=model6_4_negbinom_matrix_correlation_features_oos_optim_otherbucket_model\n",
      "Input file=/home/jovyan/work/infino-private-2/notebooks/../model6.4_negbinom_matrix_correlation_features_oos_optim_otherbucket.stan\n",
      "Output file=/home/jovyan/work/infino-private-2/notebooks/../model6.4_negbinom_matrix_correlation_features_oos_optim_otherbucket.hpp\n",
      "\n",
      "--- Linking C++ model ---\n",
      "g++ -I src -I stan/src -isystem stan/lib/stan_math/ -isystem stan/lib/stan_math/lib/eigen_3.3.3 -isystem stan/lib/stan_math/lib/boost_1.62.0 -isystem stan/lib/stan_math/lib/cvodes_2.9.0/include -Wall -DEIGEN_NO_DEBUG  -DBOOST_RESULT_OF_USE_TR1 -DBOOST_NO_DECLTYPE -DBOOST_DISABLE_ASSERTS -DFUSION_MAX_VECTOR_SIZE=12 -DNO_FPRINTF_OUTPUT -pipe   -lpthread  -O3 -o /home/jovyan/work/infino-private-2/notebooks/../model6.4_negbinom_matrix_correlation_features_oos_optim_otherbucket src/cmdstan/main.cpp -include /home/jovyan/work/infino-private-2/notebooks/../model6.4_negbinom_matrix_correlation_features_oos_optim_otherbucket.hpp stan/lib/stan_math/lib/cvodes_2.9.0/lib/libsundials_nvecserial.a stan/lib/stan_math/lib/cvodes_2.9.0/lib/libsundials_cvodes.a \n",
      "make: Leaving directory '/home/jovyan/cmdstan'\n"
     ]
    }
   ],
   "source": [
    "!make -C $HOME/cmdstan $(pwd)/../model6.4_negbinom_matrix_correlation_features_oos_optim_otherbucket"
   ]
  },
  {
   "cell_type": "code",
   "execution_count": 13,
   "metadata": {
    "ExecuteTime": {
     "end_time": "2018-01-11T06:18:24.957502Z",
     "start_time": "2018-01-11T06:18:24.678148Z"
    }
   },
   "outputs": [
    {
     "name": "stdout",
     "output_type": "stream",
     "text": [
      "../model6.4_negbinom_matrix_correlation_features_oos_optim_otherbucket\r\n",
      "../model6.4_negbinom_matrix_correlation_features_oos_optim_otherbucket.hpp\r\n",
      "../model6.4_negbinom_matrix_correlation_features_oos_optim_otherbucket.stan\r\n"
     ]
    }
   ],
   "source": [
    "!ls ../model6.4*"
   ]
  },
  {
   "cell_type": "code",
   "execution_count": 14,
   "metadata": {
    "ExecuteTime": {
     "end_time": "2018-01-11T06:19:04.554199Z",
     "start_time": "2018-01-11T06:18:27.358461Z"
    }
   },
   "outputs": [
    {
     "name": "stdout",
     "output_type": "stream",
     "text": [
      "make: Entering directory '/home/jovyan/cmdstan'\n",
      "\n",
      "--- Translating Stan model to C++ code ---\n",
      "bin/stanc  /home/jovyan/work/infino-private-2/notebooks/../model6.5_negbinom_matrix_correlation_features_oos_optim_otherbucket_samplevariance.stan --o=/home/jovyan/work/infino-private-2/notebooks/../model6.5_negbinom_matrix_correlation_features_oos_optim_otherbucket_samplevariance.hpp\n",
      "Model name=model6_5_negbinom_matrix_correlation_features_oos_optim_otherbucket_samplevariance_model\n",
      "Input file=/home/jovyan/work/infino-private-2/notebooks/../model6.5_negbinom_matrix_correlation_features_oos_optim_otherbucket_samplevariance.stan\n",
      "Output file=/home/jovyan/work/infino-private-2/notebooks/../model6.5_negbinom_matrix_correlation_features_oos_optim_otherbucket_samplevariance.hpp\n",
      "\n",
      "--- Linking C++ model ---\n",
      "g++ -I src -I stan/src -isystem stan/lib/stan_math/ -isystem stan/lib/stan_math/lib/eigen_3.3.3 -isystem stan/lib/stan_math/lib/boost_1.62.0 -isystem stan/lib/stan_math/lib/cvodes_2.9.0/include -Wall -DEIGEN_NO_DEBUG  -DBOOST_RESULT_OF_USE_TR1 -DBOOST_NO_DECLTYPE -DBOOST_DISABLE_ASSERTS -DFUSION_MAX_VECTOR_SIZE=12 -DNO_FPRINTF_OUTPUT -pipe   -lpthread  -O3 -o /home/jovyan/work/infino-private-2/notebooks/../model6.5_negbinom_matrix_correlation_features_oos_optim_otherbucket_samplevariance src/cmdstan/main.cpp -include /home/jovyan/work/infino-private-2/notebooks/../model6.5_negbinom_matrix_correlation_features_oos_optim_otherbucket_samplevariance.hpp stan/lib/stan_math/lib/cvodes_2.9.0/lib/libsundials_nvecserial.a stan/lib/stan_math/lib/cvodes_2.9.0/lib/libsundials_cvodes.a \n",
      "make: Leaving directory '/home/jovyan/cmdstan'\n"
     ]
    }
   ],
   "source": [
    "!make -C $HOME/cmdstan $(pwd)/../model6.5_negbinom_matrix_correlation_features_oos_optim_otherbucket_samplevariance"
   ]
  },
  {
   "cell_type": "code",
   "execution_count": 15,
   "metadata": {
    "ExecuteTime": {
     "end_time": "2018-01-11T06:19:09.989093Z",
     "start_time": "2018-01-11T06:19:09.716911Z"
    }
   },
   "outputs": [
    {
     "name": "stdout",
     "output_type": "stream",
     "text": [
      "../model6.5_negbinom_matrix_correlation_features_oos_optim_otherbucket_samplevariance\r\n",
      "../model6.5_negbinom_matrix_correlation_features_oos_optim_otherbucket_samplevariance.hpp\r\n",
      "../model6.5_negbinom_matrix_correlation_features_oos_optim_otherbucket_samplevariance.stan\r\n"
     ]
    }
   ],
   "source": [
    "!ls ../model6.5*"
   ]
  },
  {
   "cell_type": "code",
   "execution_count": 17,
   "metadata": {
    "ExecuteTime": {
     "end_time": "2018-01-11T06:19:19.092937Z",
     "start_time": "2018-01-11T06:19:18.830752Z"
    }
   },
   "outputs": [
    {
     "name": "stdout",
     "output_type": "stream",
     "text": [
      "Usage: ../model6.5_negbinom_matrix_correlation_features_oos_optim_otherbucket_samplevariance <arg1> <subarg1_1> ... <subarg1_m> ... <arg_n> <subarg_n_1> ... <subarg_n_m>\r\n",
      "\r\n",
      "Begin by selecting amongst the following inference methods and diagnostics,\r\n",
      "  sample      Bayesian inference with Markov Chain Monte Carlo\r\n",
      "  optimize    Point estimation\r\n",
      "  variational  Variational inference\r\n",
      "  diagnose    Model diagnostics\r\n",
      "\r\n",
      "Or see help information with\r\n",
      "  help        Prints help\r\n",
      "  help-all    Prints entire argument tree\r\n",
      "\r\n",
      "Additional configuration available by specifying\r\n",
      "  id          Unique process identifier\r\n",
      "  data        Input data options\r\n",
      "  init        Initialization method: \"x\" initializes randomly between [-x, x], \"0\" initializes to 0, anything else identifies a file of values\r\n",
      "  random      Random number configuration\r\n",
      "  output      File output options\r\n",
      "\r\n",
      "See ../model6.5_negbinom_matrix_correlation_features_oos_optim_otherbucket_samplevariance <arg1> [ help | help-all ] for details on individual arguments.\r\n",
      "\r\n",
      "Failed to parse arguments, terminating Stan\r\n"
     ]
    }
   ],
   "source": [
    "!../model6.5_negbinom_matrix_correlation_features_oos_optim_otherbucket_samplevariance"
   ]
  },
  {
   "cell_type": "markdown",
   "metadata": {},
   "source": [
    "# Execute model"
   ]
  },
  {
   "cell_type": "code",
   "execution_count": 18,
   "metadata": {
    "ExecuteTime": {
     "end_time": "2018-01-11T06:19:48.600066Z",
     "start_time": "2018-01-11T06:19:44.886203Z"
    }
   },
   "outputs": [
    {
     "name": "stdout",
     "output_type": "stream",
     "text": [
      "/home/jovyan/pyinfino/infino/execute_model.py:4: UserWarning: \n",
      "This call to matplotlib.use() has no effect because the backend has already\n",
      "been chosen; matplotlib.use() must be called *before* pylab, matplotlib.pyplot,\n",
      "or matplotlib.backends is imported for the first time.\n",
      "\n",
      "The backend was *originally* set to 'module://ipykernel.pylab.backend_inline' by the following code:\n",
      "  File \"/opt/conda/bin/execute-model\", line 11, in <module>\n",
      "    load_entry_point('infino', 'console_scripts', 'execute-model')()\n",
      "  File \"/opt/conda/lib/python3.6/site-packages/setuptools-27.2.0-py3.6.egg/pkg_resources/__init__.py\", line 565, in load_entry_point\n",
      "    return get_distribution(dist).load_entry_point(group, name)\n",
      "  File \"/opt/conda/lib/python3.6/site-packages/setuptools-27.2.0-py3.6.egg/pkg_resources/__init__.py\", line 2598, in load_entry_point\n",
      "    return ep.load()\n",
      "  File \"/opt/conda/lib/python3.6/site-packages/setuptools-27.2.0-py3.6.egg/pkg_resources/__init__.py\", line 2258, in load\n",
      "    return self.resolve()\n",
      "  File \"/opt/conda/lib/python3.6/site-packages/setuptools-27.2.0-py3.6.egg/pkg_resources/__init__.py\", line 2264, in resolve\n",
      "    module = __import__(self.module_name, fromlist=['__name__'], level=0)\n",
      "  File \"/home/jovyan/pyinfino/infino/__init__.py\", line 1, in <module>\n",
      "    import seaborn as sns\n",
      "  File \"/opt/conda/lib/python3.6/site-packages/seaborn/__init__.py\", line 6, in <module>\n",
      "    from .rcmod import *\n",
      "  File \"/opt/conda/lib/python3.6/site-packages/seaborn/rcmod.py\", line 8, in <module>\n",
      "    from . import palettes, _orig_rc_params\n",
      "  File \"/opt/conda/lib/python3.6/site-packages/seaborn/palettes.py\", line 12, in <module>\n",
      "    from .utils import desaturate, set_hls_values, get_color_cycle\n",
      "  File \"/opt/conda/lib/python3.6/site-packages/seaborn/utils.py\", line 11, in <module>\n",
      "    import matplotlib.pyplot as plt\n",
      "  File \"/opt/conda/lib/python3.6/site-packages/matplotlib/pyplot.py\", line 72, in <module>\n",
      "    from matplotlib.backends import pylab_setup\n",
      "  File \"/opt/conda/lib/python3.6/site-packages/matplotlib/backends/__init__.py\", line 14, in <module>\n",
      "    line for line in traceback.format_stack()\n",
      "\n",
      "\n",
      "  matplotlib.use('Agg')\n",
      "usage: execute-model [-h] --train_samples TRAIN_SAMPLES --train_xdata\n",
      "                     TRAIN_XDATA --train_cellfeatures TRAIN_CELLFEATURES\n",
      "                     --test_samples TEST_SAMPLES [--n_chains N_CHAINS]\n",
      "                     --output_name OUTPUT_NAME --model_executable\n",
      "                     MODEL_EXECUTABLE\n",
      "\n",
      "optional arguments:\n",
      "  -h, --help            show this help message and exit\n",
      "  --train_samples TRAIN_SAMPLES\n",
      "                        training matrix filename\n",
      "  --train_xdata TRAIN_XDATA\n",
      "                        map from training samples to subsets (xdata design\n",
      "                        matrix\n",
      "  --train_cellfeatures TRAIN_CELLFEATURES\n",
      "                        cell features matrix\n",
      "  --test_samples TEST_SAMPLES\n",
      "                        test matrix filename (to be deconvolved)\n",
      "  --n_chains N_CHAINS   number of MCMC chains\n",
      "  --output_name OUTPUT_NAME\n",
      "                        prefix for output files (include chunk number here!)\n",
      "  --model_executable MODEL_EXECUTABLE\n",
      "                        compiled stan model\n"
     ]
    }
   ],
   "source": [
    "!execute-model -h"
   ]
  },
  {
   "cell_type": "code",
   "execution_count": 19,
   "metadata": {
    "ExecuteTime": {
     "end_time": "2018-01-11T06:20:31.481435Z",
     "start_time": "2018-01-11T06:20:31.222363Z"
    }
   },
   "outputs": [
    {
     "name": "stdout",
     "output_type": "stream",
     "text": [
      "experiment_bladder.test.expression.tsv\r\n",
      "experiment_bladder.training.expression.tsv\r\n",
      "experiment_bladder.training.xdata.tsv\r\n",
      "experiment_rcc.test.chunked.chunk-1-of-2.tsv\r\n",
      "experiment_rcc.test.chunked.chunk-2-of-2.tsv\r\n",
      "experiment_rcc.test.expression.tsv\r\n",
      "experiment_rcc.training.expression.tsv\r\n",
      "experiment_rcc.training.xdata.tsv\r\n",
      "singleorigin_plus_rcctils.combined.cellfeatures.tsv\r\n"
     ]
    }
   ],
   "source": [
    "!ls out"
   ]
  },
  {
   "cell_type": "code",
   "execution_count": 21,
   "metadata": {
    "ExecuteTime": {
     "end_time": "2018-01-11T06:22:04.827265Z",
     "start_time": "2018-01-11T06:22:02.914137Z"
    }
   },
   "outputs": [
    {
     "name": "stdout",
     "output_type": "stream",
     "text": [
      "/home/jovyan/pyinfino/infino/execute_model.py:4: UserWarning: \n",
      "This call to matplotlib.use() has no effect because the backend has already\n",
      "been chosen; matplotlib.use() must be called *before* pylab, matplotlib.pyplot,\n",
      "or matplotlib.backends is imported for the first time.\n",
      "\n",
      "The backend was *originally* set to 'module://ipykernel.pylab.backend_inline' by the following code:\n",
      "  File \"/opt/conda/bin/execute-model\", line 11, in <module>\n",
      "    load_entry_point('infino', 'console_scripts', 'execute-model')()\n",
      "  File \"/opt/conda/lib/python3.6/site-packages/setuptools-27.2.0-py3.6.egg/pkg_resources/__init__.py\", line 565, in load_entry_point\n",
      "    return get_distribution(dist).load_entry_point(group, name)\n",
      "  File \"/opt/conda/lib/python3.6/site-packages/setuptools-27.2.0-py3.6.egg/pkg_resources/__init__.py\", line 2598, in load_entry_point\n",
      "    return ep.load()\n",
      "  File \"/opt/conda/lib/python3.6/site-packages/setuptools-27.2.0-py3.6.egg/pkg_resources/__init__.py\", line 2258, in load\n",
      "    return self.resolve()\n",
      "  File \"/opt/conda/lib/python3.6/site-packages/setuptools-27.2.0-py3.6.egg/pkg_resources/__init__.py\", line 2264, in resolve\n",
      "    module = __import__(self.module_name, fromlist=['__name__'], level=0)\n",
      "  File \"/home/jovyan/pyinfino/infino/__init__.py\", line 1, in <module>\n",
      "    import seaborn as sns\n",
      "  File \"/opt/conda/lib/python3.6/site-packages/seaborn/__init__.py\", line 6, in <module>\n",
      "    from .rcmod import *\n",
      "  File \"/opt/conda/lib/python3.6/site-packages/seaborn/rcmod.py\", line 8, in <module>\n",
      "    from . import palettes, _orig_rc_params\n",
      "  File \"/opt/conda/lib/python3.6/site-packages/seaborn/palettes.py\", line 12, in <module>\n",
      "    from .utils import desaturate, set_hls_values, get_color_cycle\n",
      "  File \"/opt/conda/lib/python3.6/site-packages/seaborn/utils.py\", line 11, in <module>\n",
      "    import matplotlib.pyplot as plt\n",
      "  File \"/opt/conda/lib/python3.6/site-packages/matplotlib/pyplot.py\", line 72, in <module>\n",
      "    from matplotlib.backends import pylab_setup\n",
      "  File \"/opt/conda/lib/python3.6/site-packages/matplotlib/backends/__init__.py\", line 14, in <module>\n",
      "    line for line in traceback.format_stack()\n",
      "\n",
      "\n",
      "  matplotlib.use('Agg')\n",
      "Traceback (most recent call last):\n",
      "  File \"/opt/conda/bin/execute-model\", line 11, in <module>\n",
      "    load_entry_point('infino', 'console_scripts', 'execute-model')()\n",
      "  File \"/home/jovyan/pyinfino/infino/execute_model.py\", line 180, in main\n",
      "    train_dict, map_gene_name_to_id = make_training_stan_dict(train_df, train_sample_map)\n",
      "NameError: name 'train_sample_map' is not defined\n"
     ]
    }
   ],
   "source": [
    "!execute-model \\\n",
    "--train_samples out/experiment_rcc.training.expression.tsv \\\n",
    "--train_xdata out/experiment_rcc.training.xdata.tsv \\\n",
    "--train_cellfeatures out/singleorigin_plus_rcctils.combined.cellfeatures.tsv \\\n",
    "--test_samples out/experiment_rcc.test.chunked.chunk-1-of-2.tsv \\\n",
    "--n_chains 4 \\\n",
    "--output_name out/experiment_rcc.test.chunked.chunk-1-of-2 \\\n",
    "--model_executable ../model6.5_negbinom_matrix_correlation_features_oos_optim_otherbucket_samplevariance"
   ]
  },
  {
   "cell_type": "code",
   "execution_count": null,
   "metadata": {},
   "outputs": [],
   "source": []
  }
 ],
 "metadata": {
  "kernelspec": {
   "display_name": "Python 3",
   "language": "python",
   "name": "python3"
  },
  "language_info": {
   "codemirror_mode": {
    "name": "ipython",
    "version": 3
   },
   "file_extension": ".py",
   "mimetype": "text/x-python",
   "name": "python",
   "nbconvert_exporter": "python",
   "pygments_lexer": "ipython3",
   "version": "3.6.3"
  },
  "toc": {
   "nav_menu": {},
   "number_sections": true,
   "sideBar": true,
   "skip_h1_title": false,
   "toc_cell": false,
   "toc_position": {},
   "toc_section_display": "block",
   "toc_window_display": false
  },
  "varInspector": {
   "cols": {
    "lenName": 16,
    "lenType": 16,
    "lenVar": 40
   },
   "kernels_config": {
    "python": {
     "delete_cmd_postfix": "",
     "delete_cmd_prefix": "del ",
     "library": "var_list.py",
     "varRefreshCmd": "print(var_dic_list())"
    },
    "r": {
     "delete_cmd_postfix": ") ",
     "delete_cmd_prefix": "rm(",
     "library": "var_list.r",
     "varRefreshCmd": "cat(var_dic_list()) "
    }
   },
   "types_to_exclude": [
    "module",
    "function",
    "builtin_function_or_method",
    "instance",
    "_Feature"
   ],
   "window_display": false
  }
 },
 "nbformat": 4,
 "nbformat_minor": 2
}
