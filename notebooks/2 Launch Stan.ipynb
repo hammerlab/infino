{
 "cells": [
  {
   "cell_type": "markdown",
   "metadata": {},
   "source": [
    "So far we ran:\n",
    "\n",
    "* `1 Experimental data prep using rinfino.ipynb`\n",
    "* `1.1 combine Cell Features.ipynb`\n",
    "\n",
    "# Chunk up our data"
   ]
  },
  {
   "cell_type": "code",
   "execution_count": 1,
   "metadata": {
    "ExecuteTime": {
     "end_time": "2018-01-11T06:11:30.810353Z",
     "start_time": "2018-01-11T06:11:26.559910Z"
    }
   },
   "outputs": [
    {
     "name": "stdout",
     "output_type": "stream",
     "text": [
      "usage: chunker [-h] --data DATA [--output_file OUTPUT_FILE] --pagesize\r\n",
      "               PAGESIZE [--min_chunk_size MIN_CHUNK_SIZE]\r\n",
      "\r\n",
      "optional arguments:\r\n",
      "  -h, --help            show this help message and exit\r\n",
      "  --data DATA           path to test data (tab delimited genes x samples)\r\n",
      "  --output_file OUTPUT_FILE\r\n",
      "                        output file prefix (optional)\r\n",
      "  --pagesize PAGESIZE   page size (default 10)\r\n",
      "  --min_chunk_size MIN_CHUNK_SIZE\r\n",
      "                        minimum number of samples in a chunk (default 3),\r\n",
      "                        achieved via rebalancing (set to 1 to disable)\r\n"
     ]
    }
   ],
   "source": [
    "!chunker -h"
   ]
  },
  {
   "cell_type": "code",
   "execution_count": 2,
   "metadata": {
    "ExecuteTime": {
     "end_time": "2018-01-11T06:11:50.916431Z",
     "start_time": "2018-01-11T06:11:50.656832Z"
    }
   },
   "outputs": [
    {
     "name": "stdout",
     "output_type": "stream",
     "text": [
      "all_cohorts.cibersort_results.tsv\r\n",
      "bladder.tpm.tsv\r\n",
      "cohort_newbladder.cibersort.input.classes.datatype_est_counts.txt\r\n",
      "provenance.md\r\n",
      "rcctils.cellfeatures.tsv\r\n",
      "rcctils.celltypes.tsv\r\n",
      "singleorigin.cellfeatures.tsv\r\n",
      "tcgakirc.tpm.tsv\r\n"
     ]
    }
   ],
   "source": [
    "!ls ../data/"
   ]
  },
  {
   "cell_type": "code",
   "execution_count": 4,
   "metadata": {
    "ExecuteTime": {
     "end_time": "2018-01-11T06:12:18.621294Z",
     "start_time": "2018-01-11T06:12:18.355246Z"
    }
   },
   "outputs": [
    {
     "name": "stdout",
     "output_type": "stream",
     "text": [
      "experiment_bladder.test.expression.tsv\r\n",
      "experiment_bladder.training.expression.tsv\r\n",
      "experiment_bladder.training.xdata.tsv\r\n",
      "experiment_rcc.test.chunked.chunk-1-of-2.tsv\r\n",
      "experiment_rcc.test.chunked.chunk-2-of-2.tsv\r\n",
      "experiment_rcc.test.expression.tsv\r\n",
      "experiment_rcc.training.expression.tsv\r\n",
      "experiment_rcc.training.xdata.tsv\r\n",
      "singleorigin_plus_rcctils.combined.cellfeatures.tsv\r\n"
     ]
    }
   ],
   "source": [
    "!ls out"
   ]
  },
  {
   "cell_type": "code",
   "execution_count": 2,
   "metadata": {
    "ExecuteTime": {
     "end_time": "2018-01-11T08:04:28.094318Z",
     "start_time": "2018-01-11T08:04:25.985513Z"
    }
   },
   "outputs": [
    {
     "name": "stdout",
     "output_type": "stream",
     "text": [
      "Output:\r\n",
      "out/experiment_rcc.test.chunked.chunk-1-of-2.tsv  -- 40 samples (X953473f4.9927.4fd4.bfee.8f5908638cc7, ..., a0f62f75.1a15.413e.9960.3cfc09f52b9e)\r\n",
      "out/experiment_rcc.test.chunked.chunk-2-of-2.tsv  -- 39 samples (X116f7723.de02.4a81.bec1.cc068019ff38, ..., X0153168a.39ce.47d6.b7f5.ac1e0f312245)\r\n"
     ]
    }
   ],
   "source": [
    "!chunker \\\n",
    "--data out/experiment_rcc.test.expression.tsv \\\n",
    "--output_file out/experiment_rcc.test.chunked \\\n",
    "--pagesize 40 --min_chunk_size 10;"
   ]
  },
  {
   "cell_type": "markdown",
   "metadata": {},
   "source": [
    "# Compile our Stan models\n",
    "\n",
    "Create executable version of `modelname.stan`: `make -C $HOME/cmdstan $(pwd)/modelname`. (Note you leave off the `.stan` suffix.)\n",
    "\n",
    "This creates `modelname` executable. We may need to clear the compiled files out manually to force a rerun of `make`: `rm modelname.hpp modelname`"
   ]
  },
  {
   "cell_type": "code",
   "execution_count": 15,
   "metadata": {
    "ExecuteTime": {
     "end_time": "2018-01-11T08:58:09.289576Z",
     "start_time": "2018-01-11T08:58:09.024139Z"
    }
   },
   "outputs": [
    {
     "name": "stdout",
     "output_type": "stream",
     "text": [
      "../models/model6.4_negbinom_matrix_correlation_features_oos_optim_otherbucket.stan\r\n",
      "../models/model6.5_negbinom_matrix_correlation_features_oos_optim_otherbucket_samplevariance.stan\r\n"
     ]
    }
   ],
   "source": [
    "!ls ../models/*.stan"
   ]
  },
  {
   "cell_type": "code",
   "execution_count": 16,
   "metadata": {
    "ExecuteTime": {
     "end_time": "2018-01-11T08:58:52.760941Z",
     "start_time": "2018-01-11T08:58:10.531218Z"
    }
   },
   "outputs": [
    {
     "name": "stdout",
     "output_type": "stream",
     "text": [
      "make: Entering directory '/home/jovyan/cmdstan'\n",
      "\n",
      "--- Translating Stan model to C++ code ---\n",
      "bin/stanc  /home/jovyan/work/infino-private-2/notebooks/../models/model6.4_negbinom_matrix_correlation_features_oos_optim_otherbucket.stan --o=/home/jovyan/work/infino-private-2/notebooks/../models/model6.4_negbinom_matrix_correlation_features_oos_optim_otherbucket.hpp\n",
      "Model name=model6_4_negbinom_matrix_correlation_features_oos_optim_otherbucket_model\n",
      "Input file=/home/jovyan/work/infino-private-2/notebooks/../models/model6.4_negbinom_matrix_correlation_features_oos_optim_otherbucket.stan\n",
      "Output file=/home/jovyan/work/infino-private-2/notebooks/../models/model6.4_negbinom_matrix_correlation_features_oos_optim_otherbucket.hpp\n",
      "\n",
      "--- Linking C++ model ---\n",
      "g++ -I src -I stan/src -isystem stan/lib/stan_math/ -isystem stan/lib/stan_math/lib/eigen_3.3.3 -isystem stan/lib/stan_math/lib/boost_1.62.0 -isystem stan/lib/stan_math/lib/cvodes_2.9.0/include -Wall -DEIGEN_NO_DEBUG  -DBOOST_RESULT_OF_USE_TR1 -DBOOST_NO_DECLTYPE -DBOOST_DISABLE_ASSERTS -DFUSION_MAX_VECTOR_SIZE=12 -DNO_FPRINTF_OUTPUT -pipe   -lpthread  -O3 -o /home/jovyan/work/infino-private-2/notebooks/../models/model6.4_negbinom_matrix_correlation_features_oos_optim_otherbucket src/cmdstan/main.cpp -include /home/jovyan/work/infino-private-2/notebooks/../models/model6.4_negbinom_matrix_correlation_features_oos_optim_otherbucket.hpp stan/lib/stan_math/lib/cvodes_2.9.0/lib/libsundials_nvecserial.a stan/lib/stan_math/lib/cvodes_2.9.0/lib/libsundials_cvodes.a \n",
      "make: Leaving directory '/home/jovyan/cmdstan'\n"
     ]
    }
   ],
   "source": [
    "!make -C $HOME/cmdstan $(pwd)/../models/model6.4_negbinom_matrix_correlation_features_oos_optim_otherbucket"
   ]
  },
  {
   "cell_type": "code",
   "execution_count": 17,
   "metadata": {
    "ExecuteTime": {
     "end_time": "2018-01-11T08:58:53.065572Z",
     "start_time": "2018-01-11T08:58:52.785183Z"
    }
   },
   "outputs": [
    {
     "name": "stdout",
     "output_type": "stream",
     "text": [
      "../models/model6.4_negbinom_matrix_correlation_features_oos_optim_otherbucket\r\n",
      "../models/model6.4_negbinom_matrix_correlation_features_oos_optim_otherbucket.hpp\r\n",
      "../models/model6.4_negbinom_matrix_correlation_features_oos_optim_otherbucket.stan\r\n"
     ]
    }
   ],
   "source": [
    "!ls ../models/model6.4*"
   ]
  },
  {
   "cell_type": "code",
   "execution_count": 18,
   "metadata": {
    "ExecuteTime": {
     "end_time": "2018-01-11T08:59:35.473501Z",
     "start_time": "2018-01-11T08:58:53.079345Z"
    }
   },
   "outputs": [
    {
     "name": "stdout",
     "output_type": "stream",
     "text": [
      "make: Entering directory '/home/jovyan/cmdstan'\n",
      "\n",
      "--- Translating Stan model to C++ code ---\n",
      "bin/stanc  /home/jovyan/work/infino-private-2/notebooks/../models/model6.5_negbinom_matrix_correlation_features_oos_optim_otherbucket_samplevariance.stan --o=/home/jovyan/work/infino-private-2/notebooks/../models/model6.5_negbinom_matrix_correlation_features_oos_optim_otherbucket_samplevariance.hpp\n",
      "Model name=model6_5_negbinom_matrix_correlation_features_oos_optim_otherbucket_samplevariance_model\n",
      "Input file=/home/jovyan/work/infino-private-2/notebooks/../models/model6.5_negbinom_matrix_correlation_features_oos_optim_otherbucket_samplevariance.stan\n",
      "Output file=/home/jovyan/work/infino-private-2/notebooks/../models/model6.5_negbinom_matrix_correlation_features_oos_optim_otherbucket_samplevariance.hpp\n",
      "\n",
      "--- Linking C++ model ---\n",
      "g++ -I src -I stan/src -isystem stan/lib/stan_math/ -isystem stan/lib/stan_math/lib/eigen_3.3.3 -isystem stan/lib/stan_math/lib/boost_1.62.0 -isystem stan/lib/stan_math/lib/cvodes_2.9.0/include -Wall -DEIGEN_NO_DEBUG  -DBOOST_RESULT_OF_USE_TR1 -DBOOST_NO_DECLTYPE -DBOOST_DISABLE_ASSERTS -DFUSION_MAX_VECTOR_SIZE=12 -DNO_FPRINTF_OUTPUT -pipe   -lpthread  -O3 -o /home/jovyan/work/infino-private-2/notebooks/../models/model6.5_negbinom_matrix_correlation_features_oos_optim_otherbucket_samplevariance src/cmdstan/main.cpp -include /home/jovyan/work/infino-private-2/notebooks/../models/model6.5_negbinom_matrix_correlation_features_oos_optim_otherbucket_samplevariance.hpp stan/lib/stan_math/lib/cvodes_2.9.0/lib/libsundials_nvecserial.a stan/lib/stan_math/lib/cvodes_2.9.0/lib/libsundials_cvodes.a \n",
      "make: Leaving directory '/home/jovyan/cmdstan'\n"
     ]
    }
   ],
   "source": [
    "!make -C $HOME/cmdstan $(pwd)/../models/model6.5_negbinom_matrix_correlation_features_oos_optim_otherbucket_samplevariance"
   ]
  },
  {
   "cell_type": "code",
   "execution_count": 19,
   "metadata": {
    "ExecuteTime": {
     "end_time": "2018-01-11T08:59:35.744182Z",
     "start_time": "2018-01-11T08:59:35.491862Z"
    }
   },
   "outputs": [
    {
     "name": "stdout",
     "output_type": "stream",
     "text": [
      "../models/model6.5_negbinom_matrix_correlation_features_oos_optim_otherbucket_samplevariance\r\n",
      "../models/model6.5_negbinom_matrix_correlation_features_oos_optim_otherbucket_samplevariance.hpp\r\n",
      "../models/model6.5_negbinom_matrix_correlation_features_oos_optim_otherbucket_samplevariance.stan\r\n"
     ]
    }
   ],
   "source": [
    "!ls ../models/model6.5*"
   ]
  },
  {
   "cell_type": "code",
   "execution_count": 20,
   "metadata": {
    "ExecuteTime": {
     "end_time": "2018-01-11T08:59:36.005124Z",
     "start_time": "2018-01-11T08:59:35.757642Z"
    }
   },
   "outputs": [
    {
     "name": "stdout",
     "output_type": "stream",
     "text": [
      "Usage: ../models/model6.5_negbinom_matrix_correlation_features_oos_optim_otherbucket_samplevariance <arg1> <subarg1_1> ... <subarg1_m> ... <arg_n> <subarg_n_1> ... <subarg_n_m>\r\n",
      "\r\n",
      "Begin by selecting amongst the following inference methods and diagnostics,\r\n",
      "  sample      Bayesian inference with Markov Chain Monte Carlo\r\n",
      "  optimize    Point estimation\r\n",
      "  variational  Variational inference\r\n",
      "  diagnose    Model diagnostics\r\n",
      "\r\n",
      "Or see help information with\r\n",
      "  help        Prints help\r\n",
      "  help-all    Prints entire argument tree\r\n",
      "\r\n",
      "Additional configuration available by specifying\r\n",
      "  id          Unique process identifier\r\n",
      "  data        Input data options\r\n",
      "  init        Initialization method: \"x\" initializes randomly between [-x, x], \"0\" initializes to 0, anything else identifies a file of values\r\n",
      "  random      Random number configuration\r\n",
      "  output      File output options\r\n",
      "\r\n",
      "See ../models/model6.5_negbinom_matrix_correlation_features_oos_optim_otherbucket_samplevariance <arg1> [ help | help-all ] for details on individual arguments.\r\n",
      "\r\n",
      "Failed to parse arguments, terminating Stan\r\n"
     ]
    }
   ],
   "source": [
    "!../models/model6.5_negbinom_matrix_correlation_features_oos_optim_otherbucket_samplevariance"
   ]
  },
  {
   "cell_type": "markdown",
   "metadata": {},
   "source": [
    "# Execute model"
   ]
  },
  {
   "cell_type": "code",
   "execution_count": 11,
   "metadata": {
    "ExecuteTime": {
     "end_time": "2018-01-11T08:55:03.657405Z",
     "start_time": "2018-01-11T08:55:02.326565Z"
    }
   },
   "outputs": [
    {
     "name": "stdout",
     "output_type": "stream",
     "text": [
      "usage: execute-model [-h] --train_samples TRAIN_SAMPLES --train_xdata\r\n",
      "                     TRAIN_XDATA --train_cellfeatures TRAIN_CELLFEATURES\r\n",
      "                     --test_samples TEST_SAMPLES [--n_chains N_CHAINS]\r\n",
      "                     --output_name OUTPUT_NAME --model_executable\r\n",
      "                     MODEL_EXECUTABLE [--dry_run] [--num_samples NUM_SAMPLES]\r\n",
      "                     [--num_warmup NUM_WARMUP]\r\n",
      "\r\n",
      "optional arguments:\r\n",
      "  -h, --help            show this help message and exit\r\n",
      "  --train_samples TRAIN_SAMPLES\r\n",
      "                        training matrix filename\r\n",
      "  --train_xdata TRAIN_XDATA\r\n",
      "                        map from training samples to subsets (xdata design\r\n",
      "                        matrix\r\n",
      "  --train_cellfeatures TRAIN_CELLFEATURES\r\n",
      "                        cell features matrix\r\n",
      "  --test_samples TEST_SAMPLES\r\n",
      "                        test matrix filename (to be deconvolved)\r\n",
      "  --n_chains N_CHAINS   number of MCMC chains\r\n",
      "  --output_name OUTPUT_NAME\r\n",
      "                        prefix for output files (include chunk number here!)\r\n",
      "  --model_executable MODEL_EXECUTABLE\r\n",
      "                        compiled stan model\r\n",
      "  --dry_run             don't run expensive stan fit commands, but do\r\n",
      "                        everything else\r\n",
      "  --num_samples NUM_SAMPLES\r\n",
      "                        number of saved samples\r\n",
      "  --num_warmup NUM_WARMUP\r\n",
      "                        number of warmup samples (NOT saved)\r\n"
     ]
    }
   ],
   "source": [
    "!execute-model -h"
   ]
  },
  {
   "cell_type": "code",
   "execution_count": 19,
   "metadata": {
    "ExecuteTime": {
     "end_time": "2018-01-11T06:20:31.481435Z",
     "start_time": "2018-01-11T06:20:31.222363Z"
    }
   },
   "outputs": [
    {
     "name": "stdout",
     "output_type": "stream",
     "text": [
      "experiment_bladder.test.expression.tsv\r\n",
      "experiment_bladder.training.expression.tsv\r\n",
      "experiment_bladder.training.xdata.tsv\r\n",
      "experiment_rcc.test.chunked.chunk-1-of-2.tsv\r\n",
      "experiment_rcc.test.chunked.chunk-2-of-2.tsv\r\n",
      "experiment_rcc.test.expression.tsv\r\n",
      "experiment_rcc.training.expression.tsv\r\n",
      "experiment_rcc.training.xdata.tsv\r\n",
      "singleorigin_plus_rcctils.combined.cellfeatures.tsv\r\n"
     ]
    }
   ],
   "source": [
    "!ls out"
   ]
  },
  {
   "cell_type": "code",
   "execution_count": 1,
   "metadata": {
    "ExecuteTime": {
     "end_time": "2018-01-11T07:43:00.311534Z",
     "start_time": "2018-01-11T07:42:58.160997Z"
    },
    "deletable": false,
    "editable": false,
    "run_control": {
     "frozen": true
    }
   },
   "outputs": [
    {
     "name": "stdout",
     "output_type": "stream",
     "text": [
      "Traceback (most recent call last):\r\n",
      "  File \"/opt/conda/bin/execute-model\", line 11, in <module>\r\n",
      "    load_entry_point('infino', 'console_scripts', 'execute-model')()\r\n",
      "  File \"/home/jovyan/pyinfino/infino/execute_model.py\", line 178, in main\r\n",
      "    assert len(set(train_df.index.values).symmetric_difference(set(test_df.index.values))) == 0\r\n",
      "AssertionError\r\n"
     ]
    }
   ],
   "source": [
    "!execute-model \\\n",
    "--train_samples out/experiment_rcc.training.expression.tsv \\\n",
    "--train_xdata out/experiment_rcc.training.xdata.tsv \\\n",
    "--train_cellfeatures out/singleorigin_plus_rcctils.combined.cellfeatures.tsv \\\n",
    "--test_samples out/experiment_rcc.test.chunked.chunk-1-of-2.tsv \\\n",
    "--n_chains 4 \\\n",
    "--output_name out/experiment_rcc.test.chunked.chunk-1-of-2 \\\n",
    "--model_executable ../models/model6.5_negbinom_matrix_correlation_features_oos_optim_otherbucket_samplevariance \\\n",
    "--dry_run;"
   ]
  },
  {
   "cell_type": "markdown",
   "metadata": {},
   "source": [
    "Above error means we were regenerating the data but not rechunking it. So different random genes got captured. Oops!"
   ]
  },
  {
   "cell_type": "code",
   "execution_count": 21,
   "metadata": {
    "ExecuteTime": {
     "end_time": "2018-01-11T08:59:41.725673Z",
     "start_time": "2018-01-11T08:59:36.018213Z"
    }
   },
   "outputs": [
    {
     "name": "stdout",
     "output_type": "stream",
     "text": [
      "Launching chain:  1\r\n",
      "Launching chain:  2\r\n",
      "Launching chain:  3\r\n",
      "Launching chain:  4\r\n",
      "[Chain 1] ('../models/model6.5_negbinom_matrix_correlation_features_oos_optim_otherbucket_samplevariance method=sample num_samples=1000 num_warmup=1000 save_warmup=0 thin=1 random seed=1973908125 id=1 data file=out/experiment_rcc.test.chunked.chunk-1-of-2.model6_5.standata.Rdump output file=out/experiment_rcc.test.chunked.chunk-1-of-2.model6_5.samples.1.csv refresh=25\\n', '')\r\n",
      "[Chain 2] ('../models/model6.5_negbinom_matrix_correlation_features_oos_optim_otherbucket_samplevariance method=sample num_samples=1000 num_warmup=1000 save_warmup=0 thin=1 random seed=607365375 id=2 data file=out/experiment_rcc.test.chunked.chunk-1-of-2.model6_5.standata.Rdump output file=out/experiment_rcc.test.chunked.chunk-1-of-2.model6_5.samples.2.csv refresh=25\\n', '')\r\n",
      "[Chain 3] ('../models/model6.5_negbinom_matrix_correlation_features_oos_optim_otherbucket_samplevariance method=sample num_samples=1000 num_warmup=1000 save_warmup=0 thin=1 random seed=1405079753 id=3 data file=out/experiment_rcc.test.chunked.chunk-1-of-2.model6_5.standata.Rdump output file=out/experiment_rcc.test.chunked.chunk-1-of-2.model6_5.samples.3.csv refresh=25\\n', '')\r\n",
      "[Chain 4] ('../models/model6.5_negbinom_matrix_correlation_features_oos_optim_otherbucket_samplevariance method=sample num_samples=1000 num_warmup=1000 save_warmup=0 thin=1 random seed=140360845 id=4 data file=out/experiment_rcc.test.chunked.chunk-1-of-2.model6_5.standata.Rdump output file=out/experiment_rcc.test.chunked.chunk-1-of-2.model6_5.samples.4.csv refresh=25\\n', '')\r\n",
      "[Chain 1] Execution completed, return code: 0\r\n",
      "[Chain 2] Execution completed, return code: 0\r\n",
      "[Chain 3] Execution completed, return code: 0\r\n",
      "[Chain 4] Execution completed, return code: 0\r\n",
      "echo stansummary --csv_file=out/experiment_rcc.test.chunked.chunk-1-of-2.model6_5.stansummary.csv out/experiment_rcc.test.chunked.chunk-1-of-2.model6_5.samples.1.csv out/experiment_rcc.test.chunked.chunk-1-of-2.model6_5.samples.2.csv out/experiment_rcc.test.chunked.chunk-1-of-2.model6_5.samples.3.csv out/experiment_rcc.test.chunked.chunk-1-of-2.model6_5.samples.4.csv > /dev/null;\r\n"
     ]
    }
   ],
   "source": [
    "!execute-model \\\n",
    "--train_samples out/experiment_rcc.training.expression.tsv \\\n",
    "--train_xdata out/experiment_rcc.training.xdata.tsv \\\n",
    "--train_cellfeatures out/singleorigin_plus_rcctils.combined.cellfeatures.tsv \\\n",
    "--test_samples out/experiment_rcc.test.chunked.chunk-1-of-2.tsv \\\n",
    "--n_chains 4 \\\n",
    "--output_name out/experiment_rcc.test.chunked.chunk-1-of-2.model6_5 \\\n",
    "--model_executable ../models/model6.5_negbinom_matrix_correlation_features_oos_optim_otherbucket_samplevariance \\\n",
    "--dry_run;"
   ]
  },
  {
   "cell_type": "markdown",
   "metadata": {},
   "source": [
    "Don't do a dry-run with echos, but do a manual dry-run with two iterations:"
   ]
  },
  {
   "cell_type": "code",
   "execution_count": 22,
   "metadata": {
    "ExecuteTime": {
     "end_time": "2018-01-11T08:59:46.659405Z",
     "start_time": "2018-01-11T08:59:41.743899Z"
    }
   },
   "outputs": [
    {
     "name": "stdout",
     "output_type": "stream",
     "text": [
      "Launching chain:  1\n",
      "Launching chain:  2\n",
      "Launching chain:  3\n",
      "Launching chain:  4\n",
      "[Chain 1] ('method = sample (Default)\\n  sample\\n    num_samples = 2\\n    num_warmup = 0\\n    save_warmup = 0 (Default)\\n    thin = 1 (Default)\\n    adapt\\n      engaged = 1 (Default)\\n      gamma = 0.050000000000000003 (Default)\\n      delta = 0.80000000000000004 (Default)\\n      kappa = 0.75 (Default)\\n      t0 = 10 (Default)\\n      init_buffer = 75 (Default)\\n      term_buffer = 50 (Default)\\n      window = 25 (Default)\\n    algorithm = hmc (Default)\\n      hmc\\n        engine = nuts (Default)\\n          nuts\\n            max_depth = 10 (Default)\\n        metric = diag_e (Default)\\n        stepsize = 1 (Default)\\n        stepsize_jitter = 0 (Default)\\nid = 1\\ndata\\n  file = out/experiment_rcc.test.chunked.chunk-1-of-2.model6_5.standata.Rdump\\ninit = 2 (Default)\\nrandom\\n  seed = 1706812208\\noutput\\n  file = out/experiment_rcc.test.chunked.chunk-1-of-2.model6_5.samples.1.csv\\n  diagnostic_file =  (Default)\\n  refresh = 25\\n\\nmismatch in dimension declared and found in context; processing stage=data initialization; variable name=x; position=0; dims declared=(131400,17); dims found=(146,17)\\n', '')\n",
      "[Chain 2] ('method = sample (Default)\\n  sample\\n    num_samples = 2\\n    num_warmup = 0\\n    save_warmup = 0 (Default)\\n    thin = 1 (Default)\\n    adapt\\n      engaged = 1 (Default)\\n      gamma = 0.050000000000000003 (Default)\\n      delta = 0.80000000000000004 (Default)\\n      kappa = 0.75 (Default)\\n      t0 = 10 (Default)\\n      init_buffer = 75 (Default)\\n      term_buffer = 50 (Default)\\n      window = 25 (Default)\\n    algorithm = hmc (Default)\\n      hmc\\n        engine = nuts (Default)\\n          nuts\\n            max_depth = 10 (Default)\\n        metric = diag_e (Default)\\n        stepsize = 1 (Default)\\n        stepsize_jitter = 0 (Default)\\nid = 2\\ndata\\n  file = out/experiment_rcc.test.chunked.chunk-1-of-2.model6_5.standata.Rdump\\ninit = 2 (Default)\\nrandom\\n  seed = 272313825\\noutput\\n  file = out/experiment_rcc.test.chunked.chunk-1-of-2.model6_5.samples.2.csv\\n  diagnostic_file =  (Default)\\n  refresh = 25\\n\\nmismatch in dimension declared and found in context; processing stage=data initialization; variable name=x; position=0; dims declared=(131400,17); dims found=(146,17)\\n', '')\n",
      "[Chain 3] ('method = sample (Default)\\n  sample\\n    num_samples = 2\\n    num_warmup = 0\\n    save_warmup = 0 (Default)\\n    thin = 1 (Default)\\n    adapt\\n      engaged = 1 (Default)\\n      gamma = 0.050000000000000003 (Default)\\n      delta = 0.80000000000000004 (Default)\\n      kappa = 0.75 (Default)\\n      t0 = 10 (Default)\\n      init_buffer = 75 (Default)\\n      term_buffer = 50 (Default)\\n      window = 25 (Default)\\n    algorithm = hmc (Default)\\n      hmc\\n        engine = nuts (Default)\\n          nuts\\n            max_depth = 10 (Default)\\n        metric = diag_e (Default)\\n        stepsize = 1 (Default)\\n        stepsize_jitter = 0 (Default)\\nid = 3\\ndata\\n  file = out/experiment_rcc.test.chunked.chunk-1-of-2.model6_5.standata.Rdump\\ninit = 2 (Default)\\nrandom\\n  seed = 1773155184\\noutput\\n  file = out/experiment_rcc.test.chunked.chunk-1-of-2.model6_5.samples.3.csv\\n  diagnostic_file =  (Default)\\n  refresh = 25\\n\\nmismatch in dimension declared and found in context; processing stage=data initialization; variable name=x; position=0; dims declared=(131400,17); dims found=(146,17)\\n', '')\n",
      "[Chain 4] ('method = sample (Default)\\n  sample\\n    num_samples = 2\\n    num_warmup = 0\\n    save_warmup = 0 (Default)\\n    thin = 1 (Default)\\n    adapt\\n      engaged = 1 (Default)\\n      gamma = 0.050000000000000003 (Default)\\n      delta = 0.80000000000000004 (Default)\\n      kappa = 0.75 (Default)\\n      t0 = 10 (Default)\\n      init_buffer = 75 (Default)\\n      term_buffer = 50 (Default)\\n      window = 25 (Default)\\n    algorithm = hmc (Default)\\n      hmc\\n        engine = nuts (Default)\\n          nuts\\n            max_depth = 10 (Default)\\n        metric = diag_e (Default)\\n        stepsize = 1 (Default)\\n        stepsize_jitter = 0 (Default)\\nid = 4\\ndata\\n  file = out/experiment_rcc.test.chunked.chunk-1-of-2.model6_5.standata.Rdump\\ninit = 2 (Default)\\nrandom\\n  seed = 413809785\\noutput\\n  file = out/experiment_rcc.test.chunked.chunk-1-of-2.model6_5.samples.4.csv\\n  diagnostic_file =  (Default)\\n  refresh = 25\\n\\nmismatch in dimension declared and found in context; processing stage=data initialization; variable name=x; position=0; dims declared=(131400,17); dims found=(146,17)\\n', '')\n",
      "[Chain 1] Execution completed, return code: 70\n",
      "[Chain 2] Execution completed, return code: 70\n",
      "[Chain 3] Execution completed, return code: 70\n",
      "[Chain 4] Execution completed, return code: 70\n",
      " stansummary --csv_file=out/experiment_rcc.test.chunked.chunk-1-of-2.model6_5.stansummary.csv out/experiment_rcc.test.chunked.chunk-1-of-2.model6_5.samples.1.csv out/experiment_rcc.test.chunked.chunk-1-of-2.model6_5.samples.2.csv out/experiment_rcc.test.chunked.chunk-1-of-2.model6_5.samples.3.csv out/experiment_rcc.test.chunked.chunk-1-of-2.model6_5.samples.4.csv > /dev/null;\n",
      "return code: 134\n"
     ]
    }
   ],
   "source": [
    "!execute-model \\\n",
    "--train_samples out/experiment_rcc.training.expression.tsv \\\n",
    "--train_xdata out/experiment_rcc.training.xdata.tsv \\\n",
    "--train_cellfeatures out/singleorigin_plus_rcctils.combined.cellfeatures.tsv \\\n",
    "--test_samples out/experiment_rcc.test.chunked.chunk-1-of-2.tsv \\\n",
    "--n_chains 4 \\\n",
    "--output_name out/experiment_rcc.test.chunked.chunk-1-of-2.model6_5 \\\n",
    "--model_executable ../models/model6.5_negbinom_matrix_correlation_features_oos_optim_otherbucket_samplevariance \\\n",
    "--num_samples 2 \\\n",
    "--num_warmup 0;"
   ]
  },
  {
   "cell_type": "code",
   "execution_count": null,
   "metadata": {},
   "outputs": [],
   "source": []
  }
 ],
 "metadata": {
  "kernelspec": {
   "display_name": "Python 3",
   "language": "python",
   "name": "python3"
  },
  "language_info": {
   "codemirror_mode": {
    "name": "ipython",
    "version": 3
   },
   "file_extension": ".py",
   "mimetype": "text/x-python",
   "name": "python",
   "nbconvert_exporter": "python",
   "pygments_lexer": "ipython3",
   "version": "3.6.3"
  },
  "toc": {
   "nav_menu": {},
   "number_sections": true,
   "sideBar": true,
   "skip_h1_title": false,
   "toc_cell": false,
   "toc_position": {},
   "toc_section_display": "block",
   "toc_window_display": false
  },
  "varInspector": {
   "cols": {
    "lenName": 16,
    "lenType": 16,
    "lenVar": 40
   },
   "kernels_config": {
    "python": {
     "delete_cmd_postfix": "",
     "delete_cmd_prefix": "del ",
     "library": "var_list.py",
     "varRefreshCmd": "print(var_dic_list())"
    },
    "r": {
     "delete_cmd_postfix": ") ",
     "delete_cmd_prefix": "rm(",
     "library": "var_list.r",
     "varRefreshCmd": "cat(var_dic_list()) "
    }
   },
   "types_to_exclude": [
    "module",
    "function",
    "builtin_function_or_method",
    "instance",
    "_Feature"
   ],
   "window_display": false
  }
 },
 "nbformat": 4,
 "nbformat_minor": 2
}
